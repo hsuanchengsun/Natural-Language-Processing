{
  "nbformat": 4,
  "nbformat_minor": 0,
  "metadata": {
    "colab": {
      "provenance": [],
      "include_colab_link": true
    },
    "kernelspec": {
      "name": "python3",
      "display_name": "Python 3"
    }
  },
  "cells": [
    {
      "cell_type": "markdown",
      "metadata": {
        "id": "view-in-github",
        "colab_type": "text"
      },
      "source": [
        "<a href=\"https://colab.research.google.com/github/hsuanchengsun/Natural-Language-Processing/blob/main/Text_Access_and_Preprocessing.ipynb\" target=\"_parent\"><img src=\"https://colab.research.google.com/assets/colab-badge.svg\" alt=\"Open In Colab\"/></a>"
      ]
    },
    {
      "cell_type": "markdown",
      "source": [
        "#**text access and preprocessing**"
      ],
      "metadata": {
        "id": "_wojrlIMTKTj"
      }
    },
    {
      "cell_type": "markdown",
      "source": [
        "# Step 1: Extract all reviews"
      ],
      "metadata": {
        "id": "vK0876RGpgfF"
      }
    },
    {
      "cell_type": "code",
      "execution_count": null,
      "metadata": {
        "id": "k06apXH4TAEw"
      },
      "outputs": [],
      "source": [
        "# Import useful modules\n",
        "\n",
        "from bs4 import BeautifulSoup\n",
        "import requests\n",
        "import pandas as pd\n",
        "import numpy as np\n",
        "import re\n",
        "import time \n",
        "import random "
      ]
    },
    {
      "cell_type": "code",
      "source": [
        "# Parse the homepage of a business\n",
        "url = 'https://www.yelp.com/biz/rheumatology-center-upland?osq=doctors'\n",
        "# Make a GET request to the target URL to get the raw HTML data\n",
        "response = requests.get(url).text\n",
        "# Use BeautifulSoup to parse HTML\n",
        "soup = BeautifulSoup(response,'html.parser')"
      ],
      "metadata": {
        "id": "jB5KCHvoTOlS"
      },
      "execution_count": null,
      "outputs": []
    },
    {
      "cell_type": "code",
      "source": [
        "# By checking webpage, total review number is the class css-1p9ibgf\n",
        "\n",
        "number_reviews = soup.find (class_=' css-1p9ibgf').text"
      ],
      "metadata": {
        "id": "d1_W-dU6rMYD"
      },
      "execution_count": null,
      "outputs": []
    },
    {
      "cell_type": "code",
      "source": [
        "number_reviews"
      ],
      "metadata": {
        "colab": {
          "base_uri": "https://localhost:8080/",
          "height": 35
        },
        "id": "HraOauPFrq04",
        "outputId": "1da5c32f-6b5e-49e8-dc10-b7d6bbe6b880"
      },
      "execution_count": null,
      "outputs": [
        {
          "output_type": "execute_result",
          "data": {
            "text/plain": [
              "'43 reviews'"
            ],
            "application/vnd.google.colaboratory.intrinsic+json": {
              "type": "string"
            }
          },
          "metadata": {},
          "execution_count": 5
        }
      ]
    },
    {
      "cell_type": "code",
      "source": [
        "#Use re to extract the numbers from a string \n",
        "number_reviews = int(re.findall('\\d+', number_reviews)[0])\n",
        "print (number_reviews)"
      ],
      "metadata": {
        "colab": {
          "base_uri": "https://localhost:8080/"
        },
        "id": "DtFSclH1rsgG",
        "outputId": "af49e902-e479-4f0f-8dfb-79eddbeaa706"
      },
      "execution_count": null,
      "outputs": [
        {
          "output_type": "stream",
          "name": "stdout",
          "text": [
            "43\n"
          ]
        }
      ]
    },
    {
      "cell_type": "code",
      "source": [
        "# create a loop thorugh the URL pattern\n",
        "url_list = []\n",
        "for i in range (0, number_reviews, 10):\n",
        "  url_list.append('https://www.yelp.com/biz/rheumatology-center-upland?osq=doctors&start='+str(i))\n",
        "print(*url_list, sep='\\n')"
      ],
      "metadata": {
        "colab": {
          "base_uri": "https://localhost:8080/"
        },
        "id": "-mm8VRjAr79n",
        "outputId": "1d662581-9e2c-4acd-a393-ca25c890ee58"
      },
      "execution_count": null,
      "outputs": [
        {
          "output_type": "stream",
          "name": "stdout",
          "text": [
            "https://www.yelp.com/biz/rheumatology-center-upland?osq=doctors&start=0\n",
            "https://www.yelp.com/biz/rheumatology-center-upland?osq=doctors&start=10\n",
            "https://www.yelp.com/biz/rheumatology-center-upland?osq=doctors&start=20\n",
            "https://www.yelp.com/biz/rheumatology-center-upland?osq=doctors&start=30\n",
            "https://www.yelp.com/biz/rheumatology-center-upland?osq=doctors&start=40\n"
          ]
        }
      ]
    },
    {
      "cell_type": "code",
      "source": [
        "# Test on the first url\n",
        "url = url_list[0]\n",
        "response = requests.get(url).text\n",
        "soup = BeautifulSoup(response,'html.parser')"
      ],
      "metadata": {
        "id": "vypJUDV9hbzM"
      },
      "execution_count": null,
      "outputs": []
    },
    {
      "cell_type": "code",
      "source": [
        "# By checking webpage, review part is the class review__09f24__oHr9V border-color--default__09f24__NPAKY\n",
        "\n",
        "results = soup.findAll(class_=' review__09f24__oHr9V border-color--default__09f24__NPAKY')\n",
        "print (len(results))"
      ],
      "metadata": {
        "colab": {
          "base_uri": "https://localhost:8080/"
        },
        "id": "41JM7i_ElQdY",
        "outputId": "7ff3c9c4-db59-4914-d5b7-5858009f438c"
      },
      "execution_count": null,
      "outputs": [
        {
          "output_type": "stream",
          "name": "stdout",
          "text": [
            "10\n"
          ]
        }
      ]
    },
    {
      "cell_type": "code",
      "source": [
        "# pick one review to test\n",
        "review = results[0]\n",
        "# By checking webpage, user name is the class css-1m051bw\n",
        "username = review.find(class_='css-1m051bw').text\n",
        "print (username)"
      ],
      "metadata": {
        "colab": {
          "base_uri": "https://localhost:8080/"
        },
        "id": "NnnZUH3QlWbn",
        "outputId": "8bcd71c4-6127-431e-bedd-f69a5ead76bc"
      },
      "execution_count": null,
      "outputs": [
        {
          "output_type": "stream",
          "name": "stdout",
          "text": [
            "Dustin C.\n"
          ]
        }
      ]
    },
    {
      "cell_type": "code",
      "source": [
        "# extract attribute value using the key aria-label for star ratings. \n",
        "rating = review.find (class_=' five-stars__09f24__mBKym five-stars--regular__09f24__DgBNj display--inline-block__09f24__fEDiJ border-color--default__09f24__NPAKY')['aria-label']\n",
        "print (rating)"
      ],
      "metadata": {
        "colab": {
          "base_uri": "https://localhost:8080/"
        },
        "id": "JkuFgjYBj6Yz",
        "outputId": "b4b578f2-c705-418d-c775-5c8cacf388c9"
      },
      "execution_count": null,
      "outputs": [
        {
          "output_type": "stream",
          "name": "stdout",
          "text": [
            "5 star rating\n"
          ]
        }
      ]
    },
    {
      "cell_type": "code",
      "source": [
        "# \\d+ is a rgular exression pattern to extract numbers from a string\n",
        "rating = float (re.findall('\\d+', rating)[0])\n",
        "print (rating)"
      ],
      "metadata": {
        "colab": {
          "base_uri": "https://localhost:8080/"
        },
        "id": "U9DJF1FGnsvq",
        "outputId": "53d0c177-8d5b-4192-e1c0-d9705a56d4a9"
      },
      "execution_count": null,
      "outputs": [
        {
          "output_type": "stream",
          "name": "stdout",
          "text": [
            "5.0\n"
          ]
        }
      ]
    },
    {
      "cell_type": "code",
      "source": [
        "# By checking webpage, date is the class css-chan6m\n",
        "review_date = review.find (class_=' css-chan6m').text\n",
        "print(review_date)"
      ],
      "metadata": {
        "colab": {
          "base_uri": "https://localhost:8080/"
        },
        "id": "07fRw_8soMKy",
        "outputId": "d8039828-8a9e-48bd-aa20-3c7b3f6036f0"
      },
      "execution_count": null,
      "outputs": [
        {
          "output_type": "stream",
          "name": "stdout",
          "text": [
            "11/4/2018\n"
          ]
        }
      ]
    },
    {
      "cell_type": "code",
      "source": [
        "# retrieve all review content\n",
        "review_content = review.find(class_=' raw__09f24__T4Ezm', attrs={'lang':'en'}).text\n",
        "print (review_content)"
      ],
      "metadata": {
        "colab": {
          "base_uri": "https://localhost:8080/"
        },
        "id": "1Kv5Ttd9oo8i",
        "outputId": "67d8d1c9-f530-4022-faa2-ed7671bd5851"
      },
      "execution_count": null,
      "outputs": [
        {
          "output_type": "stream",
          "name": "stdout",
          "text": [
            "Awesome team, very knowledgeable. My wife was seen and recommended by Gloria Stevens, MD (who is also within the same business complex) -- we were seen rather quick, and quickly the doctor was able to get on the same page. She asked key questions, added a steroid to help cycle my wife off prednisone and was very helpful throughout the entire process. My wife left with comfort, and hope. My wife is battling an autoimmune disease which is 50/50 either Chrons or Henoch-Schonlein -- we're puzzling this all together and are hoping its just Henoch-Schonlein. We will know very soon as my wife has biopsies pending USC, and then a followup with the GI Doctor.Highly recommended.\n"
          ]
        }
      ]
    },
    {
      "cell_type": "code",
      "source": [
        "# create a list of review from one person\n",
        "single_review =[username, rating, review_date, review_content]\n",
        "print(single_review)"
      ],
      "metadata": {
        "colab": {
          "base_uri": "https://localhost:8080/"
        },
        "id": "A0RCCycDpBFb",
        "outputId": "8062842c-775d-4e9b-895c-7b76cb54f235"
      },
      "execution_count": null,
      "outputs": [
        {
          "output_type": "stream",
          "name": "stdout",
          "text": [
            "['Dustin C.', 5.0, '11/4/2018', \"Awesome team, very knowledgeable. My wife was seen and recommended by Gloria Stevens, MD (who is also within the same business complex) -- we were seen rather quick, and quickly the doctor was able to get on the same page. She asked key questions, added a steroid to help cycle my wife off prednisone and was very helpful throughout the entire process. My wife left with comfort, and hope. My wife is battling an autoimmune disease which is 50/50 either Chrons or Henoch-Schonlein -- we're puzzling this all together and are hoping its just Henoch-Schonlein. We will know very soon as my wife has biopsies pending USC, and then a followup with the GI Doctor.Highly recommended.\"]\n"
          ]
        }
      ]
    },
    {
      "cell_type": "code",
      "source": [
        "# create a list of all review deatils of a single page \n",
        "single_page_review = []\n",
        "for review in results:\n",
        "  # retrieve user name\n",
        "  username = review.find (class_='css-1m051bw').text\n",
        "  # extract attribute value using the key aria-label for star ratings. \n",
        "  rating = review.find (class_=' five-stars__09f24__mBKym five-stars--regular__09f24__DgBNj display--inline-block__09f24__fEDiJ border-color--default__09f24__NPAKY')['aria-label']\n",
        "  # \\d+ is a rgular exression pattern to extract numbers from a string\n",
        "  rating = float (re.findall('\\d+', rating)[0])\n",
        "  # extract date of review; same use inspect to find that it is a span class\n",
        "  review_date = review.find (class_=' css-chan6m').text\n",
        "  # retrieve all review content\n",
        "  review_content = review.find(class_=' raw__09f24__T4Ezm', attrs={'lang':'en'}).text\n",
        "  single_review =[username, rating, review_date,review_content]\n",
        "  print (single_review)\n",
        "  single_page_review.append (single_review)"
      ],
      "metadata": {
        "colab": {
          "base_uri": "https://localhost:8080/"
        },
        "id": "uQdj0PUdpInG",
        "outputId": "385e6e4f-43d1-4e3a-c0ce-235c05de2bfc"
      },
      "execution_count": null,
      "outputs": [
        {
          "output_type": "stream",
          "name": "stdout",
          "text": [
            "['Dustin C.', 5.0, '11/4/2018', \"Awesome team, very knowledgeable. My wife was seen and recommended by Gloria Stevens, MD (who is also within the same business complex) -- we were seen rather quick, and quickly the doctor was able to get on the same page. She asked key questions, added a steroid to help cycle my wife off prednisone and was very helpful throughout the entire process. My wife left with comfort, and hope. My wife is battling an autoimmune disease which is 50/50 either Chrons or Henoch-Schonlein -- we're puzzling this all together and are hoping its just Henoch-Schonlein. We will know very soon as my wife has biopsies pending USC, and then a followup with the GI Doctor.Highly recommended.\"]\n",
            "['Shop 1.', 1.0, '7/14/2022', 'If you want to be berated and treated like dirt by the staff, then definitely call this office. Phone etiquette is zero & the way the staff speaks to callers certainly reflects on the doctors who allow it.']\n",
            "['Margot S.', 5.0, '2/23/2022', \"Dr. Sadeghi is an absolutely outstanding physician. He is extremely knowledgeable about rheumatological conditions and maintains an excellent bedside manner. At each visit he completes a thorough physical exam, checking for any new signs or symptoms of autoimmune disease. He answers all of my questions and concerns with patience and kindness. Dr. Sadeghi also encourages me to eat healthy, and try to get exercise. Of note, I had previously seen a very good physician at UCLA in the same specialty however, I chose Dr. Sadeghi as he addressed all of my concerns and has kept a close follow up schedule to ensure my condition does not deteriorate. Dr. Sadeghi's staff is always helpful and very professional. I am so grateful I found Upland Rheumatology!\"]\n",
            "['Maxine S.', 1.0, '11/23/2021', \"Dr KOHKAB- help!!! This clinic is going down fast. Mary doesn't listen and is a very poor provider.She took me off my meds out of the blue, doesn't listen- overbooks and I was \\xa0 rushed. This clinic is a mere shadow of what it used to be.\"]\n",
            "['Nana L.', 1.0, '10/6/2021', \"Good news and BAD news about this office. First, \\xa0the office overcharged me and my husband for our co-pays for several visits and it took \\xa03 Months and too many phone \\xa0calls to get refunded. The office staff, primarily Cece are the rudest office personnel that I've ever come across. Very unhelpful and they just seem annoyed when they are speaking with you. Because of the previously mentioned issues and scheduling problems I asked for my records to be sent to my new Rheumatologist. Cece said to get the records myself from my primary doctor. My primary doctor has not received Any progress notes etc since 2019. That's the kind of customer service you get from that office and Cece. \\xa0Dr Schumann was fine. The Good news is that because of that horrible office I found a fantastic Rheumatologist that I love and love his staff. They are kind and professional. Nothing like This office. Don't go there.\"]\n",
            "['Wendy D.', 1.0, '12/8/2021', \"Not only have they not responded to my post, they now won't refill my prescriptions- these are evil people; do not use this office\"]\n",
            "['Fatima P.', 1.0, '8/31/2021', 'DO NOT COME HERE! First of all I want to say professionalism is something that should be portrayed in every establishment of any sort. Cynthia \"the supposed manager\" made it very clear that professionalism is not valued here. She wreaked of alcohol and honestly seemed hung over. I would never support an establishment that allows this for their \"managers\" or any of their employees in general. When I arrived for my appointment she basically told me to F*ck off. Tell your insurance to send you elsewhere. NEVER AGAIN! Upland rheumatology center, do better...']\n",
            "['Adriana L.', 5.0, '5/15/2021', 'With the Covid-19 restrictions lifting I decided to come into the office to see a rheumatologist as my PCP recommend. I was seen by Dr. Stacey Schulman. Dr. Schulman has been a godsend! She listened to my concerns and symptoms. She was able to accurately diagnose me, and immediately start me on a plan. We are still working to find the right medication/dosage combination but I feel that I am in good hands. I have already noticed significant improvements. Thank you, Dr. Schulman.']\n",
            "['Gilbert C.', 1.0, '10/16/2020', \"Horrible Service! Tiffany and Karina are inconsiderate, rude and disrespectful! Don't go to this office. They cancel my wife medication because we didn't respond to the pharmacy on when we would be available to pick up our medication while we were on vacation. They didn't have have the right to cancel my wife prescription that was approved. They are asking her for her to go on for lab work. This medication doesn't require lab work. They don't know why they are doing. After speaking to the doctor today, he agreed with us that lab work is not required! They don't bother to call the doctor and they couldn't provide the name of the office manager who was on vacation or unavailable until 5 days later. Would not recommend the office whatsoever!\"]\n",
            "['Mina I.', 5.0, '6/15/2021', \"I've been Dr. Najafabadi's patient for a couple years and have always been very pleased with the care and attention I've received from him. He's very knowledgeable, professional and caring. His staff are also courteous and professional. Great experience overall!\"]\n"
          ]
        }
      ]
    },
    {
      "cell_type": "code",
      "source": [
        "print (*single_page_review, sep='\\n')"
      ],
      "metadata": {
        "colab": {
          "base_uri": "https://localhost:8080/"
        },
        "id": "gS7ZqQ_iqs0a",
        "outputId": "8f0a84ab-9f7c-415f-b522-c4ce1e49e3c4"
      },
      "execution_count": null,
      "outputs": [
        {
          "output_type": "stream",
          "name": "stdout",
          "text": [
            "['Dustin C.', 5.0, '11/4/2018', \"Awesome team, very knowledgeable. My wife was seen and recommended by Gloria Stevens, MD (who is also within the same business complex) -- we were seen rather quick, and quickly the doctor was able to get on the same page. She asked key questions, added a steroid to help cycle my wife off prednisone and was very helpful throughout the entire process. My wife left with comfort, and hope. My wife is battling an autoimmune disease which is 50/50 either Chrons or Henoch-Schonlein -- we're puzzling this all together and are hoping its just Henoch-Schonlein. We will know very soon as my wife has biopsies pending USC, and then a followup with the GI Doctor.Highly recommended.\"]\n",
            "['Shop 1.', 1.0, '7/14/2022', 'If you want to be berated and treated like dirt by the staff, then definitely call this office. Phone etiquette is zero & the way the staff speaks to callers certainly reflects on the doctors who allow it.']\n",
            "['Margot S.', 5.0, '2/23/2022', \"Dr. Sadeghi is an absolutely outstanding physician. He is extremely knowledgeable about rheumatological conditions and maintains an excellent bedside manner. At each visit he completes a thorough physical exam, checking for any new signs or symptoms of autoimmune disease. He answers all of my questions and concerns with patience and kindness. Dr. Sadeghi also encourages me to eat healthy, and try to get exercise. Of note, I had previously seen a very good physician at UCLA in the same specialty however, I chose Dr. Sadeghi as he addressed all of my concerns and has kept a close follow up schedule to ensure my condition does not deteriorate. Dr. Sadeghi's staff is always helpful and very professional. I am so grateful I found Upland Rheumatology!\"]\n",
            "['Maxine S.', 1.0, '11/23/2021', \"Dr KOHKAB- help!!! This clinic is going down fast. Mary doesn't listen and is a very poor provider.She took me off my meds out of the blue, doesn't listen- overbooks and I was \\xa0 rushed. This clinic is a mere shadow of what it used to be.\"]\n",
            "['Nana L.', 1.0, '10/6/2021', \"Good news and BAD news about this office. First, \\xa0the office overcharged me and my husband for our co-pays for several visits and it took \\xa03 Months and too many phone \\xa0calls to get refunded. The office staff, primarily Cece are the rudest office personnel that I've ever come across. Very unhelpful and they just seem annoyed when they are speaking with you. Because of the previously mentioned issues and scheduling problems I asked for my records to be sent to my new Rheumatologist. Cece said to get the records myself from my primary doctor. My primary doctor has not received Any progress notes etc since 2019. That's the kind of customer service you get from that office and Cece. \\xa0Dr Schumann was fine. The Good news is that because of that horrible office I found a fantastic Rheumatologist that I love and love his staff. They are kind and professional. Nothing like This office. Don't go there.\"]\n",
            "['Wendy D.', 1.0, '12/8/2021', \"Not only have they not responded to my post, they now won't refill my prescriptions- these are evil people; do not use this office\"]\n",
            "['Fatima P.', 1.0, '8/31/2021', 'DO NOT COME HERE! First of all I want to say professionalism is something that should be portrayed in every establishment of any sort. Cynthia \"the supposed manager\" made it very clear that professionalism is not valued here. She wreaked of alcohol and honestly seemed hung over. I would never support an establishment that allows this for their \"managers\" or any of their employees in general. When I arrived for my appointment she basically told me to F*ck off. Tell your insurance to send you elsewhere. NEVER AGAIN! Upland rheumatology center, do better...']\n",
            "['Adriana L.', 5.0, '5/15/2021', 'With the Covid-19 restrictions lifting I decided to come into the office to see a rheumatologist as my PCP recommend. I was seen by Dr. Stacey Schulman. Dr. Schulman has been a godsend! She listened to my concerns and symptoms. She was able to accurately diagnose me, and immediately start me on a plan. We are still working to find the right medication/dosage combination but I feel that I am in good hands. I have already noticed significant improvements. Thank you, Dr. Schulman.']\n",
            "['Gilbert C.', 1.0, '10/16/2020', \"Horrible Service! Tiffany and Karina are inconsiderate, rude and disrespectful! Don't go to this office. They cancel my wife medication because we didn't respond to the pharmacy on when we would be available to pick up our medication while we were on vacation. They didn't have have the right to cancel my wife prescription that was approved. They are asking her for her to go on for lab work. This medication doesn't require lab work. They don't know why they are doing. After speaking to the doctor today, he agreed with us that lab work is not required! They don't bother to call the doctor and they couldn't provide the name of the office manager who was on vacation or unavailable until 5 days later. Would not recommend the office whatsoever!\"]\n",
            "['Mina I.', 5.0, '6/15/2021', \"I've been Dr. Najafabadi's patient for a couple years and have always been very pleased with the care and attention I've received from him. He's very knowledgeable, professional and caring. His staff are also courteous and professional. Great experience overall!\"]\n"
          ]
        }
      ]
    },
    {
      "cell_type": "code",
      "source": [
        "# Create a function to process all single page reviews based on an URL input\n",
        "\n",
        "def scrape_single_review (url):\n",
        "    response = requests.get(url).text\n",
        "    # Use BeautifulSoup to parse HTML\n",
        "    soup = BeautifulSoup(response,'html.parser')\n",
        "    # get all content for one review\n",
        "    results = soup.findAll (class_=' review__09f24__oHr9V border-color--default__09f24__NPAKY')\n",
        "    single_page_review = []\n",
        "    for review in results:\n",
        "      # retrieve user name\n",
        "      username = review.find (class_='css-1m051bw').text\n",
        "      # extract attribute value using the key aria-label for star ratings. \n",
        "      rating = review.find (class_=' five-stars__09f24__mBKym five-stars--regular__09f24__DgBNj display--inline-block__09f24__fEDiJ border-color--default__09f24__NPAKY')['aria-label']\n",
        "      # \\d+ is a rgular exression pattern to extract numbers from a string\n",
        "      rating = float (re.findall('\\d+', rating)[0])\n",
        "      # extract date of review; same use inspect to find that it is a span class\n",
        "      review_date = review.find (class_=' css-chan6m').text\n",
        "      # retrieve all review content\n",
        "      review_content = review.find(class_=' raw__09f24__T4Ezm', attrs={'lang':'en'}).text\n",
        "      single_review =[username, rating, review_date,review_content]\n",
        "      print (single_review)\n",
        "      single_page_review.append (single_review)\n",
        "    return single_page_review"
      ],
      "metadata": {
        "id": "1Hk_l1cLq2J1"
      },
      "execution_count": null,
      "outputs": []
    },
    {
      "cell_type": "code",
      "source": [
        "# test the function using one URL\n",
        "r = scrape_single_review ('https://www.yelp.com/biz/rheumatology-center-upland?osq=doctors&start=0')\n",
        "# check the shape of the array\n",
        "np.asarray(r).shape"
      ],
      "metadata": {
        "colab": {
          "base_uri": "https://localhost:8080/"
        },
        "id": "eX5IcS9Frr7h",
        "outputId": "29452c20-f474-4aa0-b2c8-056afe8d9d1a"
      },
      "execution_count": null,
      "outputs": [
        {
          "output_type": "stream",
          "name": "stdout",
          "text": [
            "['Dustin C.', 5.0, '11/4/2018', \"Awesome team, very knowledgeable. My wife was seen and recommended by Gloria Stevens, MD (who is also within the same business complex) -- we were seen rather quick, and quickly the doctor was able to get on the same page. She asked key questions, added a steroid to help cycle my wife off prednisone and was very helpful throughout the entire process. My wife left with comfort, and hope. My wife is battling an autoimmune disease which is 50/50 either Chrons or Henoch-Schonlein -- we're puzzling this all together and are hoping its just Henoch-Schonlein. We will know very soon as my wife has biopsies pending USC, and then a followup with the GI Doctor.Highly recommended.\"]\n",
            "['Shop 1.', 1.0, '7/14/2022', 'If you want to be berated and treated like dirt by the staff, then definitely call this office. Phone etiquette is zero & the way the staff speaks to callers certainly reflects on the doctors who allow it.']\n",
            "['Margot S.', 5.0, '2/23/2022', \"Dr. Sadeghi is an absolutely outstanding physician. He is extremely knowledgeable about rheumatological conditions and maintains an excellent bedside manner. At each visit he completes a thorough physical exam, checking for any new signs or symptoms of autoimmune disease. He answers all of my questions and concerns with patience and kindness. Dr. Sadeghi also encourages me to eat healthy, and try to get exercise. Of note, I had previously seen a very good physician at UCLA in the same specialty however, I chose Dr. Sadeghi as he addressed all of my concerns and has kept a close follow up schedule to ensure my condition does not deteriorate. Dr. Sadeghi's staff is always helpful and very professional. I am so grateful I found Upland Rheumatology!\"]\n",
            "['Maxine S.', 1.0, '11/23/2021', \"Dr KOHKAB- help!!! This clinic is going down fast. Mary doesn't listen and is a very poor provider.She took me off my meds out of the blue, doesn't listen- overbooks and I was \\xa0 rushed. This clinic is a mere shadow of what it used to be.\"]\n",
            "['Nana L.', 1.0, '10/6/2021', \"Good news and BAD news about this office. First, \\xa0the office overcharged me and my husband for our co-pays for several visits and it took \\xa03 Months and too many phone \\xa0calls to get refunded. The office staff, primarily Cece are the rudest office personnel that I've ever come across. Very unhelpful and they just seem annoyed when they are speaking with you. Because of the previously mentioned issues and scheduling problems I asked for my records to be sent to my new Rheumatologist. Cece said to get the records myself from my primary doctor. My primary doctor has not received Any progress notes etc since 2019. That's the kind of customer service you get from that office and Cece. \\xa0Dr Schumann was fine. The Good news is that because of that horrible office I found a fantastic Rheumatologist that I love and love his staff. They are kind and professional. Nothing like This office. Don't go there.\"]\n",
            "['Wendy D.', 1.0, '12/8/2021', \"Not only have they not responded to my post, they now won't refill my prescriptions- these are evil people; do not use this office\"]\n",
            "['Fatima P.', 1.0, '8/31/2021', 'DO NOT COME HERE! First of all I want to say professionalism is something that should be portrayed in every establishment of any sort. Cynthia \"the supposed manager\" made it very clear that professionalism is not valued here. She wreaked of alcohol and honestly seemed hung over. I would never support an establishment that allows this for their \"managers\" or any of their employees in general. When I arrived for my appointment she basically told me to F*ck off. Tell your insurance to send you elsewhere. NEVER AGAIN! Upland rheumatology center, do better...']\n",
            "['Adriana L.', 5.0, '5/15/2021', 'With the Covid-19 restrictions lifting I decided to come into the office to see a rheumatologist as my PCP recommend. I was seen by Dr. Stacey Schulman. Dr. Schulman has been a godsend! She listened to my concerns and symptoms. She was able to accurately diagnose me, and immediately start me on a plan. We are still working to find the right medication/dosage combination but I feel that I am in good hands. I have already noticed significant improvements. Thank you, Dr. Schulman.']\n",
            "['Gilbert C.', 1.0, '10/16/2020', \"Horrible Service! Tiffany and Karina are inconsiderate, rude and disrespectful! Don't go to this office. They cancel my wife medication because we didn't respond to the pharmacy on when we would be available to pick up our medication while we were on vacation. They didn't have have the right to cancel my wife prescription that was approved. They are asking her for her to go on for lab work. This medication doesn't require lab work. They don't know why they are doing. After speaking to the doctor today, he agreed with us that lab work is not required! They don't bother to call the doctor and they couldn't provide the name of the office manager who was on vacation or unavailable until 5 days later. Would not recommend the office whatsoever!\"]\n",
            "['Mina I.', 5.0, '6/15/2021', \"I've been Dr. Najafabadi's patient for a couple years and have always been very pleased with the care and attention I've received from him. He's very knowledgeable, professional and caring. His staff are also courteous and professional. Great experience overall!\"]\n"
          ]
        },
        {
          "output_type": "execute_result",
          "data": {
            "text/plain": [
              "(10, 4)"
            ]
          },
          "metadata": {},
          "execution_count": 34
        }
      ]
    },
    {
      "cell_type": "code",
      "source": [
        "print (*r, sep='\\n')"
      ],
      "metadata": {
        "colab": {
          "base_uri": "https://localhost:8080/"
        },
        "id": "uztn9DtnrzWp",
        "outputId": "a9b06a62-a858-4b3d-b5e6-18b157e5315f"
      },
      "execution_count": null,
      "outputs": [
        {
          "output_type": "stream",
          "name": "stdout",
          "text": [
            "['Dustin C.', 5.0, '11/4/2018', \"Awesome team, very knowledgeable. My wife was seen and recommended by Gloria Stevens, MD (who is also within the same business complex) -- we were seen rather quick, and quickly the doctor was able to get on the same page. She asked key questions, added a steroid to help cycle my wife off prednisone and was very helpful throughout the entire process. My wife left with comfort, and hope. My wife is battling an autoimmune disease which is 50/50 either Chrons or Henoch-Schonlein -- we're puzzling this all together and are hoping its just Henoch-Schonlein. We will know very soon as my wife has biopsies pending USC, and then a followup with the GI Doctor.Highly recommended.\"]\n",
            "['Shop 1.', 1.0, '7/14/2022', 'If you want to be berated and treated like dirt by the staff, then definitely call this office. Phone etiquette is zero & the way the staff speaks to callers certainly reflects on the doctors who allow it.']\n",
            "['Margot S.', 5.0, '2/23/2022', \"Dr. Sadeghi is an absolutely outstanding physician. He is extremely knowledgeable about rheumatological conditions and maintains an excellent bedside manner. At each visit he completes a thorough physical exam, checking for any new signs or symptoms of autoimmune disease. He answers all of my questions and concerns with patience and kindness. Dr. Sadeghi also encourages me to eat healthy, and try to get exercise. Of note, I had previously seen a very good physician at UCLA in the same specialty however, I chose Dr. Sadeghi as he addressed all of my concerns and has kept a close follow up schedule to ensure my condition does not deteriorate. Dr. Sadeghi's staff is always helpful and very professional. I am so grateful I found Upland Rheumatology!\"]\n",
            "['Maxine S.', 1.0, '11/23/2021', \"Dr KOHKAB- help!!! This clinic is going down fast. Mary doesn't listen and is a very poor provider.She took me off my meds out of the blue, doesn't listen- overbooks and I was \\xa0 rushed. This clinic is a mere shadow of what it used to be.\"]\n",
            "['Nana L.', 1.0, '10/6/2021', \"Good news and BAD news about this office. First, \\xa0the office overcharged me and my husband for our co-pays for several visits and it took \\xa03 Months and too many phone \\xa0calls to get refunded. The office staff, primarily Cece are the rudest office personnel that I've ever come across. Very unhelpful and they just seem annoyed when they are speaking with you. Because of the previously mentioned issues and scheduling problems I asked for my records to be sent to my new Rheumatologist. Cece said to get the records myself from my primary doctor. My primary doctor has not received Any progress notes etc since 2019. That's the kind of customer service you get from that office and Cece. \\xa0Dr Schumann was fine. The Good news is that because of that horrible office I found a fantastic Rheumatologist that I love and love his staff. They are kind and professional. Nothing like This office. Don't go there.\"]\n",
            "['Wendy D.', 1.0, '12/8/2021', \"Not only have they not responded to my post, they now won't refill my prescriptions- these are evil people; do not use this office\"]\n",
            "['Fatima P.', 1.0, '8/31/2021', 'DO NOT COME HERE! First of all I want to say professionalism is something that should be portrayed in every establishment of any sort. Cynthia \"the supposed manager\" made it very clear that professionalism is not valued here. She wreaked of alcohol and honestly seemed hung over. I would never support an establishment that allows this for their \"managers\" or any of their employees in general. When I arrived for my appointment she basically told me to F*ck off. Tell your insurance to send you elsewhere. NEVER AGAIN! Upland rheumatology center, do better...']\n",
            "['Adriana L.', 5.0, '5/15/2021', 'With the Covid-19 restrictions lifting I decided to come into the office to see a rheumatologist as my PCP recommend. I was seen by Dr. Stacey Schulman. Dr. Schulman has been a godsend! She listened to my concerns and symptoms. She was able to accurately diagnose me, and immediately start me on a plan. We are still working to find the right medication/dosage combination but I feel that I am in good hands. I have already noticed significant improvements. Thank you, Dr. Schulman.']\n",
            "['Gilbert C.', 1.0, '10/16/2020', \"Horrible Service! Tiffany and Karina are inconsiderate, rude and disrespectful! Don't go to this office. They cancel my wife medication because we didn't respond to the pharmacy on when we would be available to pick up our medication while we were on vacation. They didn't have have the right to cancel my wife prescription that was approved. They are asking her for her to go on for lab work. This medication doesn't require lab work. They don't know why they are doing. After speaking to the doctor today, he agreed with us that lab work is not required! They don't bother to call the doctor and they couldn't provide the name of the office manager who was on vacation or unavailable until 5 days later. Would not recommend the office whatsoever!\"]\n",
            "['Mina I.', 5.0, '6/15/2021', \"I've been Dr. Najafabadi's patient for a couple years and have always been very pleased with the care and attention I've received from him. He's very knowledgeable, professional and caring. His staff are also courteous and professional. Great experience overall!\"]\n"
          ]
        }
      ]
    },
    {
      "cell_type": "code",
      "source": [
        "all_reviews = []\n",
        "for index, url in enumerate(url_list):\n",
        "  all_reviews = all_reviews + scrape_single_review (url)\n",
        "  # random sleep to avoid getting banned by Yelp \n",
        "  print(*all_reviews, sep= '\\n')\n",
        "  time.sleep (random.randint(30, 40))\n",
        "  # log the progress\n",
        "  print('finished page' + str(index+1))"
      ],
      "metadata": {
        "colab": {
          "base_uri": "https://localhost:8080/"
        },
        "id": "mspwGiCdr_BX",
        "outputId": "4785a828-6bea-46d7-ba50-43b0bb2656a3"
      },
      "execution_count": null,
      "outputs": [
        {
          "output_type": "stream",
          "name": "stdout",
          "text": [
            "['Dustin C.', 5.0, '11/4/2018', \"Awesome team, very knowledgeable. My wife was seen and recommended by Gloria Stevens, MD (who is also within the same business complex) -- we were seen rather quick, and quickly the doctor was able to get on the same page. She asked key questions, added a steroid to help cycle my wife off prednisone and was very helpful throughout the entire process. My wife left with comfort, and hope. My wife is battling an autoimmune disease which is 50/50 either Chrons or Henoch-Schonlein -- we're puzzling this all together and are hoping its just Henoch-Schonlein. We will know very soon as my wife has biopsies pending USC, and then a followup with the GI Doctor.Highly recommended.\"]\n",
            "['Shop 1.', 1.0, '7/14/2022', 'If you want to be berated and treated like dirt by the staff, then definitely call this office. Phone etiquette is zero & the way the staff speaks to callers certainly reflects on the doctors who allow it.']\n",
            "['Margot S.', 5.0, '2/23/2022', \"Dr. Sadeghi is an absolutely outstanding physician. He is extremely knowledgeable about rheumatological conditions and maintains an excellent bedside manner. At each visit he completes a thorough physical exam, checking for any new signs or symptoms of autoimmune disease. He answers all of my questions and concerns with patience and kindness. Dr. Sadeghi also encourages me to eat healthy, and try to get exercise. Of note, I had previously seen a very good physician at UCLA in the same specialty however, I chose Dr. Sadeghi as he addressed all of my concerns and has kept a close follow up schedule to ensure my condition does not deteriorate. Dr. Sadeghi's staff is always helpful and very professional. I am so grateful I found Upland Rheumatology!\"]\n",
            "['Maxine S.', 1.0, '11/23/2021', \"Dr KOHKAB- help!!! This clinic is going down fast. Mary doesn't listen and is a very poor provider.She took me off my meds out of the blue, doesn't listen- overbooks and I was \\xa0 rushed. This clinic is a mere shadow of what it used to be.\"]\n",
            "['Nana L.', 1.0, '10/6/2021', \"Good news and BAD news about this office. First, \\xa0the office overcharged me and my husband for our co-pays for several visits and it took \\xa03 Months and too many phone \\xa0calls to get refunded. The office staff, primarily Cece are the rudest office personnel that I've ever come across. Very unhelpful and they just seem annoyed when they are speaking with you. Because of the previously mentioned issues and scheduling problems I asked for my records to be sent to my new Rheumatologist. Cece said to get the records myself from my primary doctor. My primary doctor has not received Any progress notes etc since 2019. That's the kind of customer service you get from that office and Cece. \\xa0Dr Schumann was fine. The Good news is that because of that horrible office I found a fantastic Rheumatologist that I love and love his staff. They are kind and professional. Nothing like This office. Don't go there.\"]\n",
            "['Wendy D.', 1.0, '12/8/2021', \"Not only have they not responded to my post, they now won't refill my prescriptions- these are evil people; do not use this office\"]\n",
            "['Fatima P.', 1.0, '8/31/2021', 'DO NOT COME HERE! First of all I want to say professionalism is something that should be portrayed in every establishment of any sort. Cynthia \"the supposed manager\" made it very clear that professionalism is not valued here. She wreaked of alcohol and honestly seemed hung over. I would never support an establishment that allows this for their \"managers\" or any of their employees in general. When I arrived for my appointment she basically told me to F*ck off. Tell your insurance to send you elsewhere. NEVER AGAIN! Upland rheumatology center, do better...']\n",
            "['Adriana L.', 5.0, '5/15/2021', 'With the Covid-19 restrictions lifting I decided to come into the office to see a rheumatologist as my PCP recommend. I was seen by Dr. Stacey Schulman. Dr. Schulman has been a godsend! She listened to my concerns and symptoms. She was able to accurately diagnose me, and immediately start me on a plan. We are still working to find the right medication/dosage combination but I feel that I am in good hands. I have already noticed significant improvements. Thank you, Dr. Schulman.']\n",
            "['Gilbert C.', 1.0, '10/16/2020', \"Horrible Service! Tiffany and Karina are inconsiderate, rude and disrespectful! Don't go to this office. They cancel my wife medication because we didn't respond to the pharmacy on when we would be available to pick up our medication while we were on vacation. They didn't have have the right to cancel my wife prescription that was approved. They are asking her for her to go on for lab work. This medication doesn't require lab work. They don't know why they are doing. After speaking to the doctor today, he agreed with us that lab work is not required! They don't bother to call the doctor and they couldn't provide the name of the office manager who was on vacation or unavailable until 5 days later. Would not recommend the office whatsoever!\"]\n",
            "['Mina I.', 5.0, '6/15/2021', \"I've been Dr. Najafabadi's patient for a couple years and have always been very pleased with the care and attention I've received from him. He's very knowledgeable, professional and caring. His staff are also courteous and professional. Great experience overall!\"]\n",
            "['Dustin C.', 5.0, '11/4/2018', \"Awesome team, very knowledgeable. My wife was seen and recommended by Gloria Stevens, MD (who is also within the same business complex) -- we were seen rather quick, and quickly the doctor was able to get on the same page. She asked key questions, added a steroid to help cycle my wife off prednisone and was very helpful throughout the entire process. My wife left with comfort, and hope. My wife is battling an autoimmune disease which is 50/50 either Chrons or Henoch-Schonlein -- we're puzzling this all together and are hoping its just Henoch-Schonlein. We will know very soon as my wife has biopsies pending USC, and then a followup with the GI Doctor.Highly recommended.\"]\n",
            "['Shop 1.', 1.0, '7/14/2022', 'If you want to be berated and treated like dirt by the staff, then definitely call this office. Phone etiquette is zero & the way the staff speaks to callers certainly reflects on the doctors who allow it.']\n",
            "['Margot S.', 5.0, '2/23/2022', \"Dr. Sadeghi is an absolutely outstanding physician. He is extremely knowledgeable about rheumatological conditions and maintains an excellent bedside manner. At each visit he completes a thorough physical exam, checking for any new signs or symptoms of autoimmune disease. He answers all of my questions and concerns with patience and kindness. Dr. Sadeghi also encourages me to eat healthy, and try to get exercise. Of note, I had previously seen a very good physician at UCLA in the same specialty however, I chose Dr. Sadeghi as he addressed all of my concerns and has kept a close follow up schedule to ensure my condition does not deteriorate. Dr. Sadeghi's staff is always helpful and very professional. I am so grateful I found Upland Rheumatology!\"]\n",
            "['Maxine S.', 1.0, '11/23/2021', \"Dr KOHKAB- help!!! This clinic is going down fast. Mary doesn't listen and is a very poor provider.She took me off my meds out of the blue, doesn't listen- overbooks and I was \\xa0 rushed. This clinic is a mere shadow of what it used to be.\"]\n",
            "['Nana L.', 1.0, '10/6/2021', \"Good news and BAD news about this office. First, \\xa0the office overcharged me and my husband for our co-pays for several visits and it took \\xa03 Months and too many phone \\xa0calls to get refunded. The office staff, primarily Cece are the rudest office personnel that I've ever come across. Very unhelpful and they just seem annoyed when they are speaking with you. Because of the previously mentioned issues and scheduling problems I asked for my records to be sent to my new Rheumatologist. Cece said to get the records myself from my primary doctor. My primary doctor has not received Any progress notes etc since 2019. That's the kind of customer service you get from that office and Cece. \\xa0Dr Schumann was fine. The Good news is that because of that horrible office I found a fantastic Rheumatologist that I love and love his staff. They are kind and professional. Nothing like This office. Don't go there.\"]\n",
            "['Wendy D.', 1.0, '12/8/2021', \"Not only have they not responded to my post, they now won't refill my prescriptions- these are evil people; do not use this office\"]\n",
            "['Fatima P.', 1.0, '8/31/2021', 'DO NOT COME HERE! First of all I want to say professionalism is something that should be portrayed in every establishment of any sort. Cynthia \"the supposed manager\" made it very clear that professionalism is not valued here. She wreaked of alcohol and honestly seemed hung over. I would never support an establishment that allows this for their \"managers\" or any of their employees in general. When I arrived for my appointment she basically told me to F*ck off. Tell your insurance to send you elsewhere. NEVER AGAIN! Upland rheumatology center, do better...']\n",
            "['Adriana L.', 5.0, '5/15/2021', 'With the Covid-19 restrictions lifting I decided to come into the office to see a rheumatologist as my PCP recommend. I was seen by Dr. Stacey Schulman. Dr. Schulman has been a godsend! She listened to my concerns and symptoms. She was able to accurately diagnose me, and immediately start me on a plan. We are still working to find the right medication/dosage combination but I feel that I am in good hands. I have already noticed significant improvements. Thank you, Dr. Schulman.']\n",
            "['Gilbert C.', 1.0, '10/16/2020', \"Horrible Service! Tiffany and Karina are inconsiderate, rude and disrespectful! Don't go to this office. They cancel my wife medication because we didn't respond to the pharmacy on when we would be available to pick up our medication while we were on vacation. They didn't have have the right to cancel my wife prescription that was approved. They are asking her for her to go on for lab work. This medication doesn't require lab work. They don't know why they are doing. After speaking to the doctor today, he agreed with us that lab work is not required! They don't bother to call the doctor and they couldn't provide the name of the office manager who was on vacation or unavailable until 5 days later. Would not recommend the office whatsoever!\"]\n",
            "['Mina I.', 5.0, '6/15/2021', \"I've been Dr. Najafabadi's patient for a couple years and have always been very pleased with the care and attention I've received from him. He's very knowledgeable, professional and caring. His staff are also courteous and professional. Great experience overall!\"]\n",
            "finished page1\n",
            "['Christina U.', 1.0, '12/9/2019', 'Cece the office manager is the most unprofessional person. I will be switching offices. Save the stress and go somewhere else!']\n",
            "['Rilee C.', 1.0, '10/23/2020', 'I\\'ve been trying to get an appointment with a rheumatologist here for several weeks. I initially called in the middle of the day, got a really rude woman who wanted me, personally, to collect my files, even though I\\'d signed paperwork so it could be released to them upon their request, before she\\'d even put me in the appointment book.I had my files faxed over, called back not 15 minutes later, got put on hold while someone \"checks for my file\". I\\'m on hold so long, the hold system hangs up on me. I call back immediately, I get their voicemail; they\\'ve mysteriously closed in the middle of their stated business hours, while a patient is sitting on hold and they\\'re supposedly doing something for that patient. I wonder if it\\'s just that all lines are busy, so I call a few more times over the next hour; nothing.I called during business hours the next day, someone picked up and put me on hold, I waited several minutes, the phone\\'s hold system hung up on me, again, because I\\'d been on hold too long. I called back, and, again, middle of stated business hours, they were mysteriously closed. Again, tried to call several more times over the next hour; nothing.This happened several times, over the course of several days, with me leaving voicemails with my contact info whenever I got their voicemail box. No calls back, no voicemails for me, nothing.I *finally* got someone on the line the other day willing to actually get me an appointment; I asked (politely) what\\'s going on, as I\\'ve received *no contact whatsoever* from the office. I received a shirty comment about them calling and leaving me a voicemail ages ago (as I\\'m looking directly at my call logs ma\\'am; nothing from you guys!). I ask what number they were calling, as I\\'d continued leaving messages since the date they\\'d supposedly called me.Instead of calling the number I kept leaving, over and over again on my voicemails, they supposedly called a number that I haven\\'t left them at all, that was in my healthcare paperwork that had been faxed over. A number that at no point has been my primary contact number, and hasn\\'t been put in any of my paperwork in the last 7 months. My contact number I kept leaving in voicemails is literally in there in my gp contact info with no other phone number. The only way they\\'d have the old one is by going into my insurance info and bypassing *all my current information* to get to the old stuff. Ma\\'am, you didn\\'t leave a voicemail at that old number; that number *hasn\\'t been active* since the beginning of the pandemic. I\\'m pretty sure the voicemail for it doesn\\'t even work anymore; a distant relative tried calling not 2 days after the center supposedly called and it hadn\\'t even been re-allocated to another person yet and was completely out of service, with no ability to leave voicemails.I haven\\'t even had the chance to see a doctor yet, and this place is already pretty sus. I\\'m genuinely hoping actually seeing the doctor will change my mind about this place, and will update my review afterward.']\n",
            "['Michael L.', 1.0, '12/18/2018', 'I was there cup of times, never seem by the Dr. him self. Always told me he was busy, and seem by his nurse practitioner. She does not have the knowledge to see patients by herself.Mistreated my condition, and prescribed a medication with lots of side effects just to test it out.Stay away this horrible office. And try to get seem with a Doctor that have time for his patients!']\n",
            "['Sharyn H.', 4.0, '3/11/2020', \"I accept the explanation given for the circumstances I encountered. That doesn't change my past impressions but it does leave room for new ones. Dr Kokhab is no longer running an urgent care and in the new office he has new personnel. I will be going back for follow up care.\"]\n",
            "['Blanca C.', 1.0, '3/4/2019', \"I needed shots of B12 and Toradol because I'm completely exhausted and in extreme pain and wanted to get in and simply get the shots and I was told no availability until April. Well my pain and exhaustion just comes with no warning. I'm going to have to look for another rheumy who can accommodate me. This is ridiculous.\"]\n",
            "['Gisela S.', 1.0, '2/29/2020', 'Made me feel like like my visit unimportant. Was sarcastic when I answered his questions regarding my health.']\n",
            "['Caroline B.', 1.0, '9/11/2020', 'I had couple of televisits with a Dr. Sadeghi from this office, very nice and knowledgable doctor and was happy with my visit; however, I had to change offices on account of how inefficiently this office was run. \\xa0It was a constant chase to try to make an appointment, have them provide the right paper work first time around, could not leave a message voice mail was full, phone would ring forever no one would pick up for the most part. I emailed requesting an appointment and got a call back eight days later. Cece the manager gave wrong info. to my insurance company noting that I had bone cancer, I do not. \\xa0She had to reapply correctly second time around without even an apology for her mistake to me. LOL total chaos.']\n",
            "['Cynthia V.', 5.0, '9/18/2019', 'I was just seen by Mary, the PA, today. Everyone in the office was professional, kind, & even personable. Yes, appointments are scheduled out a bit, but they actually got me in a little sooner, due to a cancellation. Frankly, it is worth the wait. I would rather have a hard time getting an appointment and get the treatment that I need and deserve, than get a sooner appointment with someone who rushes me in and out, vs Mary who took her time with me. She provided a very thorough exam, went over testing that had already been done by my primary and ENT, and ordered more testing. She does not do what I have had doctors do in the past... You know those doctors? The ones that give you medicine to try? I look forward to working with her more, and feeling a lot better!']\n",
            "['Lisa B.', 5.0, '7/18/2018', \"For years I have been suffering from bad migraines and overall aches and pain. \\xa0Just a simple touch to my body would trigger agonizing pain. It wasn't until I started sharing my problems with other family members who have been dealing with similar issues that they suggested that I go see a rheumatologist. \\xa0Thank goodness that I took their advice and found Dr. K. \\xa0The first time that I met with Dr. K, he immediately sent me out for labwork. I scheduled a follow up exam with Dr. K to review my lab results and after a thorough in-office examination Dr. K was able to diagnose me. \\xa0Dr. K has put me on a course of treatment that has done wonders for my headaches and has also helped make my pain more tolerable. \\xa0Dr. K is very knowledgeable and caring. \\xa0He really takes time to listen and I never feel rushed. \\xa0Another thing that I really appreciate about Dr. K is that he knows how I feel about taking medication. \\xa0He doesn't try to push me into taking anything that I'm not comfortable with. \\xa0He has no problem explaining recommended medications and their side effects. In fact, he even writes the medications down for me before I leave so that I can do my own research and ponder over my decision for our next visit. If you find yourself in a similar situation like mine, I would highly recommend Dr. K. \\xa0He is absolutely wonderful!\"]\n",
            "['Beth H.', 5.0, '1/20/2018', 'Dr Kokhab is an excellent dr he takes the time to talk to youHe explains things and does not over react.I highly recommend him']\n",
            "['Dustin C.', 5.0, '11/4/2018', \"Awesome team, very knowledgeable. My wife was seen and recommended by Gloria Stevens, MD (who is also within the same business complex) -- we were seen rather quick, and quickly the doctor was able to get on the same page. She asked key questions, added a steroid to help cycle my wife off prednisone and was very helpful throughout the entire process. My wife left with comfort, and hope. My wife is battling an autoimmune disease which is 50/50 either Chrons or Henoch-Schonlein -- we're puzzling this all together and are hoping its just Henoch-Schonlein. We will know very soon as my wife has biopsies pending USC, and then a followup with the GI Doctor.Highly recommended.\"]\n",
            "['Shop 1.', 1.0, '7/14/2022', 'If you want to be berated and treated like dirt by the staff, then definitely call this office. Phone etiquette is zero & the way the staff speaks to callers certainly reflects on the doctors who allow it.']\n",
            "['Margot S.', 5.0, '2/23/2022', \"Dr. Sadeghi is an absolutely outstanding physician. He is extremely knowledgeable about rheumatological conditions and maintains an excellent bedside manner. At each visit he completes a thorough physical exam, checking for any new signs or symptoms of autoimmune disease. He answers all of my questions and concerns with patience and kindness. Dr. Sadeghi also encourages me to eat healthy, and try to get exercise. Of note, I had previously seen a very good physician at UCLA in the same specialty however, I chose Dr. Sadeghi as he addressed all of my concerns and has kept a close follow up schedule to ensure my condition does not deteriorate. Dr. Sadeghi's staff is always helpful and very professional. I am so grateful I found Upland Rheumatology!\"]\n",
            "['Maxine S.', 1.0, '11/23/2021', \"Dr KOHKAB- help!!! This clinic is going down fast. Mary doesn't listen and is a very poor provider.She took me off my meds out of the blue, doesn't listen- overbooks and I was \\xa0 rushed. This clinic is a mere shadow of what it used to be.\"]\n",
            "['Nana L.', 1.0, '10/6/2021', \"Good news and BAD news about this office. First, \\xa0the office overcharged me and my husband for our co-pays for several visits and it took \\xa03 Months and too many phone \\xa0calls to get refunded. The office staff, primarily Cece are the rudest office personnel that I've ever come across. Very unhelpful and they just seem annoyed when they are speaking with you. Because of the previously mentioned issues and scheduling problems I asked for my records to be sent to my new Rheumatologist. Cece said to get the records myself from my primary doctor. My primary doctor has not received Any progress notes etc since 2019. That's the kind of customer service you get from that office and Cece. \\xa0Dr Schumann was fine. The Good news is that because of that horrible office I found a fantastic Rheumatologist that I love and love his staff. They are kind and professional. Nothing like This office. Don't go there.\"]\n",
            "['Wendy D.', 1.0, '12/8/2021', \"Not only have they not responded to my post, they now won't refill my prescriptions- these are evil people; do not use this office\"]\n",
            "['Fatima P.', 1.0, '8/31/2021', 'DO NOT COME HERE! First of all I want to say professionalism is something that should be portrayed in every establishment of any sort. Cynthia \"the supposed manager\" made it very clear that professionalism is not valued here. She wreaked of alcohol and honestly seemed hung over. I would never support an establishment that allows this for their \"managers\" or any of their employees in general. When I arrived for my appointment she basically told me to F*ck off. Tell your insurance to send you elsewhere. NEVER AGAIN! Upland rheumatology center, do better...']\n",
            "['Adriana L.', 5.0, '5/15/2021', 'With the Covid-19 restrictions lifting I decided to come into the office to see a rheumatologist as my PCP recommend. I was seen by Dr. Stacey Schulman. Dr. Schulman has been a godsend! She listened to my concerns and symptoms. She was able to accurately diagnose me, and immediately start me on a plan. We are still working to find the right medication/dosage combination but I feel that I am in good hands. I have already noticed significant improvements. Thank you, Dr. Schulman.']\n",
            "['Gilbert C.', 1.0, '10/16/2020', \"Horrible Service! Tiffany and Karina are inconsiderate, rude and disrespectful! Don't go to this office. They cancel my wife medication because we didn't respond to the pharmacy on when we would be available to pick up our medication while we were on vacation. They didn't have have the right to cancel my wife prescription that was approved. They are asking her for her to go on for lab work. This medication doesn't require lab work. They don't know why they are doing. After speaking to the doctor today, he agreed with us that lab work is not required! They don't bother to call the doctor and they couldn't provide the name of the office manager who was on vacation or unavailable until 5 days later. Would not recommend the office whatsoever!\"]\n",
            "['Mina I.', 5.0, '6/15/2021', \"I've been Dr. Najafabadi's patient for a couple years and have always been very pleased with the care and attention I've received from him. He's very knowledgeable, professional and caring. His staff are also courteous and professional. Great experience overall!\"]\n",
            "['Christina U.', 1.0, '12/9/2019', 'Cece the office manager is the most unprofessional person. I will be switching offices. Save the stress and go somewhere else!']\n",
            "['Rilee C.', 1.0, '10/23/2020', 'I\\'ve been trying to get an appointment with a rheumatologist here for several weeks. I initially called in the middle of the day, got a really rude woman who wanted me, personally, to collect my files, even though I\\'d signed paperwork so it could be released to them upon their request, before she\\'d even put me in the appointment book.I had my files faxed over, called back not 15 minutes later, got put on hold while someone \"checks for my file\". I\\'m on hold so long, the hold system hangs up on me. I call back immediately, I get their voicemail; they\\'ve mysteriously closed in the middle of their stated business hours, while a patient is sitting on hold and they\\'re supposedly doing something for that patient. I wonder if it\\'s just that all lines are busy, so I call a few more times over the next hour; nothing.I called during business hours the next day, someone picked up and put me on hold, I waited several minutes, the phone\\'s hold system hung up on me, again, because I\\'d been on hold too long. I called back, and, again, middle of stated business hours, they were mysteriously closed. Again, tried to call several more times over the next hour; nothing.This happened several times, over the course of several days, with me leaving voicemails with my contact info whenever I got their voicemail box. No calls back, no voicemails for me, nothing.I *finally* got someone on the line the other day willing to actually get me an appointment; I asked (politely) what\\'s going on, as I\\'ve received *no contact whatsoever* from the office. I received a shirty comment about them calling and leaving me a voicemail ages ago (as I\\'m looking directly at my call logs ma\\'am; nothing from you guys!). I ask what number they were calling, as I\\'d continued leaving messages since the date they\\'d supposedly called me.Instead of calling the number I kept leaving, over and over again on my voicemails, they supposedly called a number that I haven\\'t left them at all, that was in my healthcare paperwork that had been faxed over. A number that at no point has been my primary contact number, and hasn\\'t been put in any of my paperwork in the last 7 months. My contact number I kept leaving in voicemails is literally in there in my gp contact info with no other phone number. The only way they\\'d have the old one is by going into my insurance info and bypassing *all my current information* to get to the old stuff. Ma\\'am, you didn\\'t leave a voicemail at that old number; that number *hasn\\'t been active* since the beginning of the pandemic. I\\'m pretty sure the voicemail for it doesn\\'t even work anymore; a distant relative tried calling not 2 days after the center supposedly called and it hadn\\'t even been re-allocated to another person yet and was completely out of service, with no ability to leave voicemails.I haven\\'t even had the chance to see a doctor yet, and this place is already pretty sus. I\\'m genuinely hoping actually seeing the doctor will change my mind about this place, and will update my review afterward.']\n",
            "['Michael L.', 1.0, '12/18/2018', 'I was there cup of times, never seem by the Dr. him self. Always told me he was busy, and seem by his nurse practitioner. She does not have the knowledge to see patients by herself.Mistreated my condition, and prescribed a medication with lots of side effects just to test it out.Stay away this horrible office. And try to get seem with a Doctor that have time for his patients!']\n",
            "['Sharyn H.', 4.0, '3/11/2020', \"I accept the explanation given for the circumstances I encountered. That doesn't change my past impressions but it does leave room for new ones. Dr Kokhab is no longer running an urgent care and in the new office he has new personnel. I will be going back for follow up care.\"]\n",
            "['Blanca C.', 1.0, '3/4/2019', \"I needed shots of B12 and Toradol because I'm completely exhausted and in extreme pain and wanted to get in and simply get the shots and I was told no availability until April. Well my pain and exhaustion just comes with no warning. I'm going to have to look for another rheumy who can accommodate me. This is ridiculous.\"]\n",
            "['Gisela S.', 1.0, '2/29/2020', 'Made me feel like like my visit unimportant. Was sarcastic when I answered his questions regarding my health.']\n",
            "['Caroline B.', 1.0, '9/11/2020', 'I had couple of televisits with a Dr. Sadeghi from this office, very nice and knowledgable doctor and was happy with my visit; however, I had to change offices on account of how inefficiently this office was run. \\xa0It was a constant chase to try to make an appointment, have them provide the right paper work first time around, could not leave a message voice mail was full, phone would ring forever no one would pick up for the most part. I emailed requesting an appointment and got a call back eight days later. Cece the manager gave wrong info. to my insurance company noting that I had bone cancer, I do not. \\xa0She had to reapply correctly second time around without even an apology for her mistake to me. LOL total chaos.']\n",
            "['Cynthia V.', 5.0, '9/18/2019', 'I was just seen by Mary, the PA, today. Everyone in the office was professional, kind, & even personable. Yes, appointments are scheduled out a bit, but they actually got me in a little sooner, due to a cancellation. Frankly, it is worth the wait. I would rather have a hard time getting an appointment and get the treatment that I need and deserve, than get a sooner appointment with someone who rushes me in and out, vs Mary who took her time with me. She provided a very thorough exam, went over testing that had already been done by my primary and ENT, and ordered more testing. She does not do what I have had doctors do in the past... You know those doctors? The ones that give you medicine to try? I look forward to working with her more, and feeling a lot better!']\n",
            "['Lisa B.', 5.0, '7/18/2018', \"For years I have been suffering from bad migraines and overall aches and pain. \\xa0Just a simple touch to my body would trigger agonizing pain. It wasn't until I started sharing my problems with other family members who have been dealing with similar issues that they suggested that I go see a rheumatologist. \\xa0Thank goodness that I took their advice and found Dr. K. \\xa0The first time that I met with Dr. K, he immediately sent me out for labwork. I scheduled a follow up exam with Dr. K to review my lab results and after a thorough in-office examination Dr. K was able to diagnose me. \\xa0Dr. K has put me on a course of treatment that has done wonders for my headaches and has also helped make my pain more tolerable. \\xa0Dr. K is very knowledgeable and caring. \\xa0He really takes time to listen and I never feel rushed. \\xa0Another thing that I really appreciate about Dr. K is that he knows how I feel about taking medication. \\xa0He doesn't try to push me into taking anything that I'm not comfortable with. \\xa0He has no problem explaining recommended medications and their side effects. In fact, he even writes the medications down for me before I leave so that I can do my own research and ponder over my decision for our next visit. If you find yourself in a similar situation like mine, I would highly recommend Dr. K. \\xa0He is absolutely wonderful!\"]\n",
            "['Beth H.', 5.0, '1/20/2018', 'Dr Kokhab is an excellent dr he takes the time to talk to youHe explains things and does not over react.I highly recommend him']\n",
            "finished page2\n",
            "['Patricia S.', 5.0, '3/26/2019', \"Great doctor and staff. I've been a patient for almost 10 years. I also see Mary, the physician assistant, and she is the most caring doctor ever. She takes her time with you and you never feel rushed. Mary and Dr. Kokhab are very kind, caring, and knowledgeable doctors. I highly recommend them both.\"]\n",
            "['Mark M.', 1.0, '6/26/2019', \"I have gone to this office many times and wait for hours just for the Dr to say although I have positive labs for a condition he does not think that's what is the cause of my pain. In addition his demeanor is creepy I was very uncomfortable in a room with him every time. I would find another place to go.\"]\n",
            "['Steven C.', 1.0, '8/20/2018', \"Don't come to this office as they will give you a shot that may not cover by your insurance. \\xa0I later found out It cost only $5 copay on those shots to do it at home. \\xa0They will bill you $120 not covered by your insurance and not to tell you about it upfront. Those shots were samples provided by pharmaceutical firms. \\xa0No other doctors have charged me samples.\"]\n",
            "['Skylar K.', 5.0, '12/11/2019', 'I have been going to the nurse practitioner, Mary, here for more than 2 years now. From the very first time I came in, to now, Mary has been incredibly kind, caring and helpful. She is very well informed on how to treat her patients and I am very grateful to have her as my rheumatologist. I trust her completely and will continue to trust her as she treats me. The staff here are also very friendly and helpful whenever I have a problem with appointments or prescriptions, both on the phone and in person. I feel very lucky to have this group of staff.']\n",
            "['Sam P.', 5.0, '10/18/2018', \"I've been seen Dr. Mary here for 1 year now. I absolutely adore her. She takes the time to speak with you without rushing out the door and makes it personal rather than just a sterile environment. I hadn't seen her for 6 months due to my insurance changing, but when I went back she immediately asked me how my son was doing--she remembered. Not to mention she gets the job done and does whatever it takes to make you better. I went there barely being able to move because of my psoriatic arthritis. With her help (after my dermatologist failed me) she was able to get medication approved that worked for me and I went from a pain scale of 10 to a ZERO! This has allowed me to do everything a mommy needs to do for their 1 year old and I can't think her enough. I wen my there with a bleak outlook (self imposed) because I could barely move. It hurt to roll over in bed, couldn't get out of bed without help and couldn't even change my sons diaper without pain. I didn't think there was any hope until Mary. Truly thankful for my new quality of life because of Mary.The ONLY not so great thing I can say about this place is that it's sometimes difficult to reach somebody. I usually get VM when I try to schedule an appointment and have to keep calling back bc my calls are not returned in a timely manner. But, that's not Mary's fault!\"]\n",
            "['Valerie B.', 5.0, '12/4/2017', \"I'm a first time patient, who saw Dr. Kokhab today. Despite being 15 minutes late I was seen promptly and evaluated thoroughly. They pulled my medical records quickly too. This doctor is very professional and helpful. As I was leaving I noticed no one asked to schedule my follow up visit, but it's no biggie and then I got a call from them to make my follow up. 5 star \\xa0service!!!\"]\n",
            "['Katie P.', 5.0, '6/30/2015', 'Dr. Kokhab and his office are doing a great job treating me for fibromyalgia. \\xa0His whole office is very polite and caring. \\xa0They explained the condition to me in great detail and took my concerns about living on medication very seriously. \\xa0I appreciate Dr. Kokhab working with me to devise a live able treatment plan. \\xa0I highly recommend him!']\n",
            "['Elizabeth D.', 5.0, '4/14/2019', \"I'm into my second week of plant based eating since seeing Dr Kokhab. I am feeling so much better! Still can't believe what a difference it has made in my day to day activities. He is amazing and very knowledgeable. My body was wracked with pain that I was beyond exhausted and miserable!! I am so glad that my primary Physician, Dr Zuniga referred me to Dr Kokhab!!! I'm feeling more positive about my outlook for managing my pain and depression. Thank you Dr Kokhab.\"]\n",
            "['Cindi R.', 5.0, '4/17/2017', 'I had an appointment with Dr. Kokhab today. He listened and made some recommendations, that I will take into consideration.']\n",
            "['Theresa M.', 5.0, '5/29/2014', \"I can't say enough amazing things about Dr. Kokhab and his staff. I have been seen by so many doctors and no one was able to help and I was starting to loose hope that I would get better. Dr. Kokhab is amazing!! He saw me and ran all the proper blood tests but once we got the results (literally that day), he went into action. He explained all options, I mean all options in order to make sure that I felt comfortable with the decision. His staff is very friendly and calls you back when they say they are going too. Many offices get so busy that they forget about you, not this office. I have had some flair ups and the doctor waited for me to make sure that it wasn't anything worst than just a flair up (which if you get flair ups, you know how painful they can be). My husband and I are so thankful we found Dr. Kokhab and I would recommend this office to everyone and anyone that needs this type of specalist.\"]\n",
            "['Dustin C.', 5.0, '11/4/2018', \"Awesome team, very knowledgeable. My wife was seen and recommended by Gloria Stevens, MD (who is also within the same business complex) -- we were seen rather quick, and quickly the doctor was able to get on the same page. She asked key questions, added a steroid to help cycle my wife off prednisone and was very helpful throughout the entire process. My wife left with comfort, and hope. My wife is battling an autoimmune disease which is 50/50 either Chrons or Henoch-Schonlein -- we're puzzling this all together and are hoping its just Henoch-Schonlein. We will know very soon as my wife has biopsies pending USC, and then a followup with the GI Doctor.Highly recommended.\"]\n",
            "['Shop 1.', 1.0, '7/14/2022', 'If you want to be berated and treated like dirt by the staff, then definitely call this office. Phone etiquette is zero & the way the staff speaks to callers certainly reflects on the doctors who allow it.']\n",
            "['Margot S.', 5.0, '2/23/2022', \"Dr. Sadeghi is an absolutely outstanding physician. He is extremely knowledgeable about rheumatological conditions and maintains an excellent bedside manner. At each visit he completes a thorough physical exam, checking for any new signs or symptoms of autoimmune disease. He answers all of my questions and concerns with patience and kindness. Dr. Sadeghi also encourages me to eat healthy, and try to get exercise. Of note, I had previously seen a very good physician at UCLA in the same specialty however, I chose Dr. Sadeghi as he addressed all of my concerns and has kept a close follow up schedule to ensure my condition does not deteriorate. Dr. Sadeghi's staff is always helpful and very professional. I am so grateful I found Upland Rheumatology!\"]\n",
            "['Maxine S.', 1.0, '11/23/2021', \"Dr KOHKAB- help!!! This clinic is going down fast. Mary doesn't listen and is a very poor provider.She took me off my meds out of the blue, doesn't listen- overbooks and I was \\xa0 rushed. This clinic is a mere shadow of what it used to be.\"]\n",
            "['Nana L.', 1.0, '10/6/2021', \"Good news and BAD news about this office. First, \\xa0the office overcharged me and my husband for our co-pays for several visits and it took \\xa03 Months and too many phone \\xa0calls to get refunded. The office staff, primarily Cece are the rudest office personnel that I've ever come across. Very unhelpful and they just seem annoyed when they are speaking with you. Because of the previously mentioned issues and scheduling problems I asked for my records to be sent to my new Rheumatologist. Cece said to get the records myself from my primary doctor. My primary doctor has not received Any progress notes etc since 2019. That's the kind of customer service you get from that office and Cece. \\xa0Dr Schumann was fine. The Good news is that because of that horrible office I found a fantastic Rheumatologist that I love and love his staff. They are kind and professional. Nothing like This office. Don't go there.\"]\n",
            "['Wendy D.', 1.0, '12/8/2021', \"Not only have they not responded to my post, they now won't refill my prescriptions- these are evil people; do not use this office\"]\n",
            "['Fatima P.', 1.0, '8/31/2021', 'DO NOT COME HERE! First of all I want to say professionalism is something that should be portrayed in every establishment of any sort. Cynthia \"the supposed manager\" made it very clear that professionalism is not valued here. She wreaked of alcohol and honestly seemed hung over. I would never support an establishment that allows this for their \"managers\" or any of their employees in general. When I arrived for my appointment she basically told me to F*ck off. Tell your insurance to send you elsewhere. NEVER AGAIN! Upland rheumatology center, do better...']\n",
            "['Adriana L.', 5.0, '5/15/2021', 'With the Covid-19 restrictions lifting I decided to come into the office to see a rheumatologist as my PCP recommend. I was seen by Dr. Stacey Schulman. Dr. Schulman has been a godsend! She listened to my concerns and symptoms. She was able to accurately diagnose me, and immediately start me on a plan. We are still working to find the right medication/dosage combination but I feel that I am in good hands. I have already noticed significant improvements. Thank you, Dr. Schulman.']\n",
            "['Gilbert C.', 1.0, '10/16/2020', \"Horrible Service! Tiffany and Karina are inconsiderate, rude and disrespectful! Don't go to this office. They cancel my wife medication because we didn't respond to the pharmacy on when we would be available to pick up our medication while we were on vacation. They didn't have have the right to cancel my wife prescription that was approved. They are asking her for her to go on for lab work. This medication doesn't require lab work. They don't know why they are doing. After speaking to the doctor today, he agreed with us that lab work is not required! They don't bother to call the doctor and they couldn't provide the name of the office manager who was on vacation or unavailable until 5 days later. Would not recommend the office whatsoever!\"]\n",
            "['Mina I.', 5.0, '6/15/2021', \"I've been Dr. Najafabadi's patient for a couple years and have always been very pleased with the care and attention I've received from him. He's very knowledgeable, professional and caring. His staff are also courteous and professional. Great experience overall!\"]\n",
            "['Christina U.', 1.0, '12/9/2019', 'Cece the office manager is the most unprofessional person. I will be switching offices. Save the stress and go somewhere else!']\n",
            "['Rilee C.', 1.0, '10/23/2020', 'I\\'ve been trying to get an appointment with a rheumatologist here for several weeks. I initially called in the middle of the day, got a really rude woman who wanted me, personally, to collect my files, even though I\\'d signed paperwork so it could be released to them upon their request, before she\\'d even put me in the appointment book.I had my files faxed over, called back not 15 minutes later, got put on hold while someone \"checks for my file\". I\\'m on hold so long, the hold system hangs up on me. I call back immediately, I get their voicemail; they\\'ve mysteriously closed in the middle of their stated business hours, while a patient is sitting on hold and they\\'re supposedly doing something for that patient. I wonder if it\\'s just that all lines are busy, so I call a few more times over the next hour; nothing.I called during business hours the next day, someone picked up and put me on hold, I waited several minutes, the phone\\'s hold system hung up on me, again, because I\\'d been on hold too long. I called back, and, again, middle of stated business hours, they were mysteriously closed. Again, tried to call several more times over the next hour; nothing.This happened several times, over the course of several days, with me leaving voicemails with my contact info whenever I got their voicemail box. No calls back, no voicemails for me, nothing.I *finally* got someone on the line the other day willing to actually get me an appointment; I asked (politely) what\\'s going on, as I\\'ve received *no contact whatsoever* from the office. I received a shirty comment about them calling and leaving me a voicemail ages ago (as I\\'m looking directly at my call logs ma\\'am; nothing from you guys!). I ask what number they were calling, as I\\'d continued leaving messages since the date they\\'d supposedly called me.Instead of calling the number I kept leaving, over and over again on my voicemails, they supposedly called a number that I haven\\'t left them at all, that was in my healthcare paperwork that had been faxed over. A number that at no point has been my primary contact number, and hasn\\'t been put in any of my paperwork in the last 7 months. My contact number I kept leaving in voicemails is literally in there in my gp contact info with no other phone number. The only way they\\'d have the old one is by going into my insurance info and bypassing *all my current information* to get to the old stuff. Ma\\'am, you didn\\'t leave a voicemail at that old number; that number *hasn\\'t been active* since the beginning of the pandemic. I\\'m pretty sure the voicemail for it doesn\\'t even work anymore; a distant relative tried calling not 2 days after the center supposedly called and it hadn\\'t even been re-allocated to another person yet and was completely out of service, with no ability to leave voicemails.I haven\\'t even had the chance to see a doctor yet, and this place is already pretty sus. I\\'m genuinely hoping actually seeing the doctor will change my mind about this place, and will update my review afterward.']\n",
            "['Michael L.', 1.0, '12/18/2018', 'I was there cup of times, never seem by the Dr. him self. Always told me he was busy, and seem by his nurse practitioner. She does not have the knowledge to see patients by herself.Mistreated my condition, and prescribed a medication with lots of side effects just to test it out.Stay away this horrible office. And try to get seem with a Doctor that have time for his patients!']\n",
            "['Sharyn H.', 4.0, '3/11/2020', \"I accept the explanation given for the circumstances I encountered. That doesn't change my past impressions but it does leave room for new ones. Dr Kokhab is no longer running an urgent care and in the new office he has new personnel. I will be going back for follow up care.\"]\n",
            "['Blanca C.', 1.0, '3/4/2019', \"I needed shots of B12 and Toradol because I'm completely exhausted and in extreme pain and wanted to get in and simply get the shots and I was told no availability until April. Well my pain and exhaustion just comes with no warning. I'm going to have to look for another rheumy who can accommodate me. This is ridiculous.\"]\n",
            "['Gisela S.', 1.0, '2/29/2020', 'Made me feel like like my visit unimportant. Was sarcastic when I answered his questions regarding my health.']\n",
            "['Caroline B.', 1.0, '9/11/2020', 'I had couple of televisits with a Dr. Sadeghi from this office, very nice and knowledgable doctor and was happy with my visit; however, I had to change offices on account of how inefficiently this office was run. \\xa0It was a constant chase to try to make an appointment, have them provide the right paper work first time around, could not leave a message voice mail was full, phone would ring forever no one would pick up for the most part. I emailed requesting an appointment and got a call back eight days later. Cece the manager gave wrong info. to my insurance company noting that I had bone cancer, I do not. \\xa0She had to reapply correctly second time around without even an apology for her mistake to me. LOL total chaos.']\n",
            "['Cynthia V.', 5.0, '9/18/2019', 'I was just seen by Mary, the PA, today. Everyone in the office was professional, kind, & even personable. Yes, appointments are scheduled out a bit, but they actually got me in a little sooner, due to a cancellation. Frankly, it is worth the wait. I would rather have a hard time getting an appointment and get the treatment that I need and deserve, than get a sooner appointment with someone who rushes me in and out, vs Mary who took her time with me. She provided a very thorough exam, went over testing that had already been done by my primary and ENT, and ordered more testing. She does not do what I have had doctors do in the past... You know those doctors? The ones that give you medicine to try? I look forward to working with her more, and feeling a lot better!']\n",
            "['Lisa B.', 5.0, '7/18/2018', \"For years I have been suffering from bad migraines and overall aches and pain. \\xa0Just a simple touch to my body would trigger agonizing pain. It wasn't until I started sharing my problems with other family members who have been dealing with similar issues that they suggested that I go see a rheumatologist. \\xa0Thank goodness that I took their advice and found Dr. K. \\xa0The first time that I met with Dr. K, he immediately sent me out for labwork. I scheduled a follow up exam with Dr. K to review my lab results and after a thorough in-office examination Dr. K was able to diagnose me. \\xa0Dr. K has put me on a course of treatment that has done wonders for my headaches and has also helped make my pain more tolerable. \\xa0Dr. K is very knowledgeable and caring. \\xa0He really takes time to listen and I never feel rushed. \\xa0Another thing that I really appreciate about Dr. K is that he knows how I feel about taking medication. \\xa0He doesn't try to push me into taking anything that I'm not comfortable with. \\xa0He has no problem explaining recommended medications and their side effects. In fact, he even writes the medications down for me before I leave so that I can do my own research and ponder over my decision for our next visit. If you find yourself in a similar situation like mine, I would highly recommend Dr. K. \\xa0He is absolutely wonderful!\"]\n",
            "['Beth H.', 5.0, '1/20/2018', 'Dr Kokhab is an excellent dr he takes the time to talk to youHe explains things and does not over react.I highly recommend him']\n",
            "['Patricia S.', 5.0, '3/26/2019', \"Great doctor and staff. I've been a patient for almost 10 years. I also see Mary, the physician assistant, and she is the most caring doctor ever. She takes her time with you and you never feel rushed. Mary and Dr. Kokhab are very kind, caring, and knowledgeable doctors. I highly recommend them both.\"]\n",
            "['Mark M.', 1.0, '6/26/2019', \"I have gone to this office many times and wait for hours just for the Dr to say although I have positive labs for a condition he does not think that's what is the cause of my pain. In addition his demeanor is creepy I was very uncomfortable in a room with him every time. I would find another place to go.\"]\n",
            "['Steven C.', 1.0, '8/20/2018', \"Don't come to this office as they will give you a shot that may not cover by your insurance. \\xa0I later found out It cost only $5 copay on those shots to do it at home. \\xa0They will bill you $120 not covered by your insurance and not to tell you about it upfront. Those shots were samples provided by pharmaceutical firms. \\xa0No other doctors have charged me samples.\"]\n",
            "['Skylar K.', 5.0, '12/11/2019', 'I have been going to the nurse practitioner, Mary, here for more than 2 years now. From the very first time I came in, to now, Mary has been incredibly kind, caring and helpful. She is very well informed on how to treat her patients and I am very grateful to have her as my rheumatologist. I trust her completely and will continue to trust her as she treats me. The staff here are also very friendly and helpful whenever I have a problem with appointments or prescriptions, both on the phone and in person. I feel very lucky to have this group of staff.']\n",
            "['Sam P.', 5.0, '10/18/2018', \"I've been seen Dr. Mary here for 1 year now. I absolutely adore her. She takes the time to speak with you without rushing out the door and makes it personal rather than just a sterile environment. I hadn't seen her for 6 months due to my insurance changing, but when I went back she immediately asked me how my son was doing--she remembered. Not to mention she gets the job done and does whatever it takes to make you better. I went there barely being able to move because of my psoriatic arthritis. With her help (after my dermatologist failed me) she was able to get medication approved that worked for me and I went from a pain scale of 10 to a ZERO! This has allowed me to do everything a mommy needs to do for their 1 year old and I can't think her enough. I wen my there with a bleak outlook (self imposed) because I could barely move. It hurt to roll over in bed, couldn't get out of bed without help and couldn't even change my sons diaper without pain. I didn't think there was any hope until Mary. Truly thankful for my new quality of life because of Mary.The ONLY not so great thing I can say about this place is that it's sometimes difficult to reach somebody. I usually get VM when I try to schedule an appointment and have to keep calling back bc my calls are not returned in a timely manner. But, that's not Mary's fault!\"]\n",
            "['Valerie B.', 5.0, '12/4/2017', \"I'm a first time patient, who saw Dr. Kokhab today. Despite being 15 minutes late I was seen promptly and evaluated thoroughly. They pulled my medical records quickly too. This doctor is very professional and helpful. As I was leaving I noticed no one asked to schedule my follow up visit, but it's no biggie and then I got a call from them to make my follow up. 5 star \\xa0service!!!\"]\n",
            "['Katie P.', 5.0, '6/30/2015', 'Dr. Kokhab and his office are doing a great job treating me for fibromyalgia. \\xa0His whole office is very polite and caring. \\xa0They explained the condition to me in great detail and took my concerns about living on medication very seriously. \\xa0I appreciate Dr. Kokhab working with me to devise a live able treatment plan. \\xa0I highly recommend him!']\n",
            "['Elizabeth D.', 5.0, '4/14/2019', \"I'm into my second week of plant based eating since seeing Dr Kokhab. I am feeling so much better! Still can't believe what a difference it has made in my day to day activities. He is amazing and very knowledgeable. My body was wracked with pain that I was beyond exhausted and miserable!! I am so glad that my primary Physician, Dr Zuniga referred me to Dr Kokhab!!! I'm feeling more positive about my outlook for managing my pain and depression. Thank you Dr Kokhab.\"]\n",
            "['Cindi R.', 5.0, '4/17/2017', 'I had an appointment with Dr. Kokhab today. He listened and made some recommendations, that I will take into consideration.']\n",
            "['Theresa M.', 5.0, '5/29/2014', \"I can't say enough amazing things about Dr. Kokhab and his staff. I have been seen by so many doctors and no one was able to help and I was starting to loose hope that I would get better. Dr. Kokhab is amazing!! He saw me and ran all the proper blood tests but once we got the results (literally that day), he went into action. He explained all options, I mean all options in order to make sure that I felt comfortable with the decision. His staff is very friendly and calls you back when they say they are going too. Many offices get so busy that they forget about you, not this office. I have had some flair ups and the doctor waited for me to make sure that it wasn't anything worst than just a flair up (which if you get flair ups, you know how painful they can be). My husband and I are so thankful we found Dr. Kokhab and I would recommend this office to everyone and anyone that needs this type of specalist.\"]\n",
            "finished page3\n",
            "['Tanaya C.', 5.0, '3/7/2017', 'Well this was my first time going to an urgent care vs going to an emergency room...and i was extremely satisfied....i was seen in an timely matter and the janitors was constantly wiping the chairs and sanitizing them she also walked around with the broom sweeping..the front desk was kind, it was the man who worked the front desk that really caught my eye though...it was late and closing i was the last person to be seen, however a girl walked in with her hand bleeding he told them they were closed at first but to hold on and he walked to the back told the dr. And came back and said he didnt feel right turning them away....thats what i like to see... Well 5 stars from me']\n",
            "['Dawn L.', 5.0, '4/25/2019', \"Dr Marjan \\xa0Khaleghi is the best Rheumatologist. She is so compassionate for me. I can call and get in to see her within hours. When my pain is so severe she totally understands it. She really cares about you. She does everything right then and there before you leave her office. She makes sure to help your pain. I've never had a doctor get you in so fast , she will even skip her lunch to help me. I recommend her highly if you suffer from arthritis.\"]\n",
            "['Amanda S.', 5.0, '8/8/2016', \"Met with Mary, the nurse practitioner, and immediately felt at ease. She was so calm and approachable. She took the time to do a proper assessment, get a detailed history from me, and explain all my labs she was running thoroughly. At the follow up appointment, she again explained my results thoroughly and made sure I didn't have any questions before I left. You can tell she knows this specialty well, is passionate about it, and has a wonderful bedside manner.!\"]\n",
            "['Marc S.', 5.0, '1/10/2017', 'Simply the best! When there is a complicated problem He knows how to find the right solutions. Not only is he a great clinician, he really goes out of his way to help everyone on a deeper level. If he has food in the back office he will give it to his patients. He treats me like family. Thank you Dr K']\n",
            "['Lettie C.', 1.0, '7/9/2018', \"First time ever seeing a Rheumatologist and he didn't even order blood work or X-rays. \\xa0Sent me home with something for the pain that once I got it home read, do not take if you have asthma which I told him I did. \\xa0He told me to take it anyway, now I'm having to see a pulmonologist! \\xa0Terrible doctor.\"]\n",
            "['Chris R.', 5.0, '4/24/2018', \"Went to check out Dr. Morris Kokhab and didnt feel right. After the second and third appointment,I realized just how professional and caring Dr.Kokhab treats his patients.This M.D. is the best Rheumatologist in my opinion,that I have ever been treated by.I have been a retired Union Ironworker for some time and have been suffering from past injuries that's been attacking my body through some painful and difficult forms of arthritis.After several treatments \\xa0by Dr.Kokhab,for the first time in many many years, I felt a change in my condition.I still have a long journey ahead, but thanks to Dr.Kokhab the genius,I actually have hope.Thankyou Dr.Kokhab for your professionalism and your great knowledge.For the first time in years,I see the light.\"]\n",
            "['Julie. E.', 5.0, '12/30/2015', 'Dr. Kokhab is an awesome doctor he does not rush his appointments, takes time to answer all of your questions. Overall a very nice and warm person. He does all he could do to help you and resolve any issue you may have. His staff is great! If I could give him more stars i would=)']\n",
            "['Di M.', 5.0, '7/29/2015', 'I found Dr. Kokhab almost 2 years ago after moving from Chicago. \\xa0I did a lot of research and his reputation was excellent. \\xa0I was not disappointed! \\xa0Dr. Kokhab is compassionate, knowledgeable and respectful. \\xa0He will develop a plan of action and never make you feel you are being rushed out the door. His staff is very nice and professional. \\xa0There are 3 areas upon sign in. An eye specialist, urgent care and rheumatology. \\xa0So it appears busy upon entering but wait times are very good.']\n",
            "['Kirbeena D.', 5.0, '4/23/2013', 'Great place, really good doctor. \\xa0Actually looks at you when you talk to him. \\xa0Very pleased.']\n",
            "['ANGIE D.', 5.0, '6/23/2011', \"My husband is a patient of Dr. K and I have accompanied him on a couple of office visits. He was the only doctor who was able to quickly diagnose my husband's condition after countless visits to our PCP, other urgent care, and the ER. After beginning treatment the doctor called our home to check how my husband was doing. In addition to being a great doctor, he also has a wonderful staff. The staff is not only professional, but also very friendly, and helpful. Everyone at this office truly cares about the patients.\"]\n",
            "['Dustin C.', 5.0, '11/4/2018', \"Awesome team, very knowledgeable. My wife was seen and recommended by Gloria Stevens, MD (who is also within the same business complex) -- we were seen rather quick, and quickly the doctor was able to get on the same page. She asked key questions, added a steroid to help cycle my wife off prednisone and was very helpful throughout the entire process. My wife left with comfort, and hope. My wife is battling an autoimmune disease which is 50/50 either Chrons or Henoch-Schonlein -- we're puzzling this all together and are hoping its just Henoch-Schonlein. We will know very soon as my wife has biopsies pending USC, and then a followup with the GI Doctor.Highly recommended.\"]\n",
            "['Shop 1.', 1.0, '7/14/2022', 'If you want to be berated and treated like dirt by the staff, then definitely call this office. Phone etiquette is zero & the way the staff speaks to callers certainly reflects on the doctors who allow it.']\n",
            "['Margot S.', 5.0, '2/23/2022', \"Dr. Sadeghi is an absolutely outstanding physician. He is extremely knowledgeable about rheumatological conditions and maintains an excellent bedside manner. At each visit he completes a thorough physical exam, checking for any new signs or symptoms of autoimmune disease. He answers all of my questions and concerns with patience and kindness. Dr. Sadeghi also encourages me to eat healthy, and try to get exercise. Of note, I had previously seen a very good physician at UCLA in the same specialty however, I chose Dr. Sadeghi as he addressed all of my concerns and has kept a close follow up schedule to ensure my condition does not deteriorate. Dr. Sadeghi's staff is always helpful and very professional. I am so grateful I found Upland Rheumatology!\"]\n",
            "['Maxine S.', 1.0, '11/23/2021', \"Dr KOHKAB- help!!! This clinic is going down fast. Mary doesn't listen and is a very poor provider.She took me off my meds out of the blue, doesn't listen- overbooks and I was \\xa0 rushed. This clinic is a mere shadow of what it used to be.\"]\n",
            "['Nana L.', 1.0, '10/6/2021', \"Good news and BAD news about this office. First, \\xa0the office overcharged me and my husband for our co-pays for several visits and it took \\xa03 Months and too many phone \\xa0calls to get refunded. The office staff, primarily Cece are the rudest office personnel that I've ever come across. Very unhelpful and they just seem annoyed when they are speaking with you. Because of the previously mentioned issues and scheduling problems I asked for my records to be sent to my new Rheumatologist. Cece said to get the records myself from my primary doctor. My primary doctor has not received Any progress notes etc since 2019. That's the kind of customer service you get from that office and Cece. \\xa0Dr Schumann was fine. The Good news is that because of that horrible office I found a fantastic Rheumatologist that I love and love his staff. They are kind and professional. Nothing like This office. Don't go there.\"]\n",
            "['Wendy D.', 1.0, '12/8/2021', \"Not only have they not responded to my post, they now won't refill my prescriptions- these are evil people; do not use this office\"]\n",
            "['Fatima P.', 1.0, '8/31/2021', 'DO NOT COME HERE! First of all I want to say professionalism is something that should be portrayed in every establishment of any sort. Cynthia \"the supposed manager\" made it very clear that professionalism is not valued here. She wreaked of alcohol and honestly seemed hung over. I would never support an establishment that allows this for their \"managers\" or any of their employees in general. When I arrived for my appointment she basically told me to F*ck off. Tell your insurance to send you elsewhere. NEVER AGAIN! Upland rheumatology center, do better...']\n",
            "['Adriana L.', 5.0, '5/15/2021', 'With the Covid-19 restrictions lifting I decided to come into the office to see a rheumatologist as my PCP recommend. I was seen by Dr. Stacey Schulman. Dr. Schulman has been a godsend! She listened to my concerns and symptoms. She was able to accurately diagnose me, and immediately start me on a plan. We are still working to find the right medication/dosage combination but I feel that I am in good hands. I have already noticed significant improvements. Thank you, Dr. Schulman.']\n",
            "['Gilbert C.', 1.0, '10/16/2020', \"Horrible Service! Tiffany and Karina are inconsiderate, rude and disrespectful! Don't go to this office. They cancel my wife medication because we didn't respond to the pharmacy on when we would be available to pick up our medication while we were on vacation. They didn't have have the right to cancel my wife prescription that was approved. They are asking her for her to go on for lab work. This medication doesn't require lab work. They don't know why they are doing. After speaking to the doctor today, he agreed with us that lab work is not required! They don't bother to call the doctor and they couldn't provide the name of the office manager who was on vacation or unavailable until 5 days later. Would not recommend the office whatsoever!\"]\n",
            "['Mina I.', 5.0, '6/15/2021', \"I've been Dr. Najafabadi's patient for a couple years and have always been very pleased with the care and attention I've received from him. He's very knowledgeable, professional and caring. His staff are also courteous and professional. Great experience overall!\"]\n",
            "['Christina U.', 1.0, '12/9/2019', 'Cece the office manager is the most unprofessional person. I will be switching offices. Save the stress and go somewhere else!']\n",
            "['Rilee C.', 1.0, '10/23/2020', 'I\\'ve been trying to get an appointment with a rheumatologist here for several weeks. I initially called in the middle of the day, got a really rude woman who wanted me, personally, to collect my files, even though I\\'d signed paperwork so it could be released to them upon their request, before she\\'d even put me in the appointment book.I had my files faxed over, called back not 15 minutes later, got put on hold while someone \"checks for my file\". I\\'m on hold so long, the hold system hangs up on me. I call back immediately, I get their voicemail; they\\'ve mysteriously closed in the middle of their stated business hours, while a patient is sitting on hold and they\\'re supposedly doing something for that patient. I wonder if it\\'s just that all lines are busy, so I call a few more times over the next hour; nothing.I called during business hours the next day, someone picked up and put me on hold, I waited several minutes, the phone\\'s hold system hung up on me, again, because I\\'d been on hold too long. I called back, and, again, middle of stated business hours, they were mysteriously closed. Again, tried to call several more times over the next hour; nothing.This happened several times, over the course of several days, with me leaving voicemails with my contact info whenever I got their voicemail box. No calls back, no voicemails for me, nothing.I *finally* got someone on the line the other day willing to actually get me an appointment; I asked (politely) what\\'s going on, as I\\'ve received *no contact whatsoever* from the office. I received a shirty comment about them calling and leaving me a voicemail ages ago (as I\\'m looking directly at my call logs ma\\'am; nothing from you guys!). I ask what number they were calling, as I\\'d continued leaving messages since the date they\\'d supposedly called me.Instead of calling the number I kept leaving, over and over again on my voicemails, they supposedly called a number that I haven\\'t left them at all, that was in my healthcare paperwork that had been faxed over. A number that at no point has been my primary contact number, and hasn\\'t been put in any of my paperwork in the last 7 months. My contact number I kept leaving in voicemails is literally in there in my gp contact info with no other phone number. The only way they\\'d have the old one is by going into my insurance info and bypassing *all my current information* to get to the old stuff. Ma\\'am, you didn\\'t leave a voicemail at that old number; that number *hasn\\'t been active* since the beginning of the pandemic. I\\'m pretty sure the voicemail for it doesn\\'t even work anymore; a distant relative tried calling not 2 days after the center supposedly called and it hadn\\'t even been re-allocated to another person yet and was completely out of service, with no ability to leave voicemails.I haven\\'t even had the chance to see a doctor yet, and this place is already pretty sus. I\\'m genuinely hoping actually seeing the doctor will change my mind about this place, and will update my review afterward.']\n",
            "['Michael L.', 1.0, '12/18/2018', 'I was there cup of times, never seem by the Dr. him self. Always told me he was busy, and seem by his nurse practitioner. She does not have the knowledge to see patients by herself.Mistreated my condition, and prescribed a medication with lots of side effects just to test it out.Stay away this horrible office. And try to get seem with a Doctor that have time for his patients!']\n",
            "['Sharyn H.', 4.0, '3/11/2020', \"I accept the explanation given for the circumstances I encountered. That doesn't change my past impressions but it does leave room for new ones. Dr Kokhab is no longer running an urgent care and in the new office he has new personnel. I will be going back for follow up care.\"]\n",
            "['Blanca C.', 1.0, '3/4/2019', \"I needed shots of B12 and Toradol because I'm completely exhausted and in extreme pain and wanted to get in and simply get the shots and I was told no availability until April. Well my pain and exhaustion just comes with no warning. I'm going to have to look for another rheumy who can accommodate me. This is ridiculous.\"]\n",
            "['Gisela S.', 1.0, '2/29/2020', 'Made me feel like like my visit unimportant. Was sarcastic when I answered his questions regarding my health.']\n",
            "['Caroline B.', 1.0, '9/11/2020', 'I had couple of televisits with a Dr. Sadeghi from this office, very nice and knowledgable doctor and was happy with my visit; however, I had to change offices on account of how inefficiently this office was run. \\xa0It was a constant chase to try to make an appointment, have them provide the right paper work first time around, could not leave a message voice mail was full, phone would ring forever no one would pick up for the most part. I emailed requesting an appointment and got a call back eight days later. Cece the manager gave wrong info. to my insurance company noting that I had bone cancer, I do not. \\xa0She had to reapply correctly second time around without even an apology for her mistake to me. LOL total chaos.']\n",
            "['Cynthia V.', 5.0, '9/18/2019', 'I was just seen by Mary, the PA, today. Everyone in the office was professional, kind, & even personable. Yes, appointments are scheduled out a bit, but they actually got me in a little sooner, due to a cancellation. Frankly, it is worth the wait. I would rather have a hard time getting an appointment and get the treatment that I need and deserve, than get a sooner appointment with someone who rushes me in and out, vs Mary who took her time with me. She provided a very thorough exam, went over testing that had already been done by my primary and ENT, and ordered more testing. She does not do what I have had doctors do in the past... You know those doctors? The ones that give you medicine to try? I look forward to working with her more, and feeling a lot better!']\n",
            "['Lisa B.', 5.0, '7/18/2018', \"For years I have been suffering from bad migraines and overall aches and pain. \\xa0Just a simple touch to my body would trigger agonizing pain. It wasn't until I started sharing my problems with other family members who have been dealing with similar issues that they suggested that I go see a rheumatologist. \\xa0Thank goodness that I took their advice and found Dr. K. \\xa0The first time that I met with Dr. K, he immediately sent me out for labwork. I scheduled a follow up exam with Dr. K to review my lab results and after a thorough in-office examination Dr. K was able to diagnose me. \\xa0Dr. K has put me on a course of treatment that has done wonders for my headaches and has also helped make my pain more tolerable. \\xa0Dr. K is very knowledgeable and caring. \\xa0He really takes time to listen and I never feel rushed. \\xa0Another thing that I really appreciate about Dr. K is that he knows how I feel about taking medication. \\xa0He doesn't try to push me into taking anything that I'm not comfortable with. \\xa0He has no problem explaining recommended medications and their side effects. In fact, he even writes the medications down for me before I leave so that I can do my own research and ponder over my decision for our next visit. If you find yourself in a similar situation like mine, I would highly recommend Dr. K. \\xa0He is absolutely wonderful!\"]\n",
            "['Beth H.', 5.0, '1/20/2018', 'Dr Kokhab is an excellent dr he takes the time to talk to youHe explains things and does not over react.I highly recommend him']\n",
            "['Patricia S.', 5.0, '3/26/2019', \"Great doctor and staff. I've been a patient for almost 10 years. I also see Mary, the physician assistant, and she is the most caring doctor ever. She takes her time with you and you never feel rushed. Mary and Dr. Kokhab are very kind, caring, and knowledgeable doctors. I highly recommend them both.\"]\n",
            "['Mark M.', 1.0, '6/26/2019', \"I have gone to this office many times and wait for hours just for the Dr to say although I have positive labs for a condition he does not think that's what is the cause of my pain. In addition his demeanor is creepy I was very uncomfortable in a room with him every time. I would find another place to go.\"]\n",
            "['Steven C.', 1.0, '8/20/2018', \"Don't come to this office as they will give you a shot that may not cover by your insurance. \\xa0I later found out It cost only $5 copay on those shots to do it at home. \\xa0They will bill you $120 not covered by your insurance and not to tell you about it upfront. Those shots were samples provided by pharmaceutical firms. \\xa0No other doctors have charged me samples.\"]\n",
            "['Skylar K.', 5.0, '12/11/2019', 'I have been going to the nurse practitioner, Mary, here for more than 2 years now. From the very first time I came in, to now, Mary has been incredibly kind, caring and helpful. She is very well informed on how to treat her patients and I am very grateful to have her as my rheumatologist. I trust her completely and will continue to trust her as she treats me. The staff here are also very friendly and helpful whenever I have a problem with appointments or prescriptions, both on the phone and in person. I feel very lucky to have this group of staff.']\n",
            "['Sam P.', 5.0, '10/18/2018', \"I've been seen Dr. Mary here for 1 year now. I absolutely adore her. She takes the time to speak with you without rushing out the door and makes it personal rather than just a sterile environment. I hadn't seen her for 6 months due to my insurance changing, but when I went back she immediately asked me how my son was doing--she remembered. Not to mention she gets the job done and does whatever it takes to make you better. I went there barely being able to move because of my psoriatic arthritis. With her help (after my dermatologist failed me) she was able to get medication approved that worked for me and I went from a pain scale of 10 to a ZERO! This has allowed me to do everything a mommy needs to do for their 1 year old and I can't think her enough. I wen my there with a bleak outlook (self imposed) because I could barely move. It hurt to roll over in bed, couldn't get out of bed without help and couldn't even change my sons diaper without pain. I didn't think there was any hope until Mary. Truly thankful for my new quality of life because of Mary.The ONLY not so great thing I can say about this place is that it's sometimes difficult to reach somebody. I usually get VM when I try to schedule an appointment and have to keep calling back bc my calls are not returned in a timely manner. But, that's not Mary's fault!\"]\n",
            "['Valerie B.', 5.0, '12/4/2017', \"I'm a first time patient, who saw Dr. Kokhab today. Despite being 15 minutes late I was seen promptly and evaluated thoroughly. They pulled my medical records quickly too. This doctor is very professional and helpful. As I was leaving I noticed no one asked to schedule my follow up visit, but it's no biggie and then I got a call from them to make my follow up. 5 star \\xa0service!!!\"]\n",
            "['Katie P.', 5.0, '6/30/2015', 'Dr. Kokhab and his office are doing a great job treating me for fibromyalgia. \\xa0His whole office is very polite and caring. \\xa0They explained the condition to me in great detail and took my concerns about living on medication very seriously. \\xa0I appreciate Dr. Kokhab working with me to devise a live able treatment plan. \\xa0I highly recommend him!']\n",
            "['Elizabeth D.', 5.0, '4/14/2019', \"I'm into my second week of plant based eating since seeing Dr Kokhab. I am feeling so much better! Still can't believe what a difference it has made in my day to day activities. He is amazing and very knowledgeable. My body was wracked with pain that I was beyond exhausted and miserable!! I am so glad that my primary Physician, Dr Zuniga referred me to Dr Kokhab!!! I'm feeling more positive about my outlook for managing my pain and depression. Thank you Dr Kokhab.\"]\n",
            "['Cindi R.', 5.0, '4/17/2017', 'I had an appointment with Dr. Kokhab today. He listened and made some recommendations, that I will take into consideration.']\n",
            "['Theresa M.', 5.0, '5/29/2014', \"I can't say enough amazing things about Dr. Kokhab and his staff. I have been seen by so many doctors and no one was able to help and I was starting to loose hope that I would get better. Dr. Kokhab is amazing!! He saw me and ran all the proper blood tests but once we got the results (literally that day), he went into action. He explained all options, I mean all options in order to make sure that I felt comfortable with the decision. His staff is very friendly and calls you back when they say they are going too. Many offices get so busy that they forget about you, not this office. I have had some flair ups and the doctor waited for me to make sure that it wasn't anything worst than just a flair up (which if you get flair ups, you know how painful they can be). My husband and I are so thankful we found Dr. Kokhab and I would recommend this office to everyone and anyone that needs this type of specalist.\"]\n",
            "['Tanaya C.', 5.0, '3/7/2017', 'Well this was my first time going to an urgent care vs going to an emergency room...and i was extremely satisfied....i was seen in an timely matter and the janitors was constantly wiping the chairs and sanitizing them she also walked around with the broom sweeping..the front desk was kind, it was the man who worked the front desk that really caught my eye though...it was late and closing i was the last person to be seen, however a girl walked in with her hand bleeding he told them they were closed at first but to hold on and he walked to the back told the dr. And came back and said he didnt feel right turning them away....thats what i like to see... Well 5 stars from me']\n",
            "['Dawn L.', 5.0, '4/25/2019', \"Dr Marjan \\xa0Khaleghi is the best Rheumatologist. She is so compassionate for me. I can call and get in to see her within hours. When my pain is so severe she totally understands it. She really cares about you. She does everything right then and there before you leave her office. She makes sure to help your pain. I've never had a doctor get you in so fast , she will even skip her lunch to help me. I recommend her highly if you suffer from arthritis.\"]\n",
            "['Amanda S.', 5.0, '8/8/2016', \"Met with Mary, the nurse practitioner, and immediately felt at ease. She was so calm and approachable. She took the time to do a proper assessment, get a detailed history from me, and explain all my labs she was running thoroughly. At the follow up appointment, she again explained my results thoroughly and made sure I didn't have any questions before I left. You can tell she knows this specialty well, is passionate about it, and has a wonderful bedside manner.!\"]\n",
            "['Marc S.', 5.0, '1/10/2017', 'Simply the best! When there is a complicated problem He knows how to find the right solutions. Not only is he a great clinician, he really goes out of his way to help everyone on a deeper level. If he has food in the back office he will give it to his patients. He treats me like family. Thank you Dr K']\n",
            "['Lettie C.', 1.0, '7/9/2018', \"First time ever seeing a Rheumatologist and he didn't even order blood work or X-rays. \\xa0Sent me home with something for the pain that once I got it home read, do not take if you have asthma which I told him I did. \\xa0He told me to take it anyway, now I'm having to see a pulmonologist! \\xa0Terrible doctor.\"]\n",
            "['Chris R.', 5.0, '4/24/2018', \"Went to check out Dr. Morris Kokhab and didnt feel right. After the second and third appointment,I realized just how professional and caring Dr.Kokhab treats his patients.This M.D. is the best Rheumatologist in my opinion,that I have ever been treated by.I have been a retired Union Ironworker for some time and have been suffering from past injuries that's been attacking my body through some painful and difficult forms of arthritis.After several treatments \\xa0by Dr.Kokhab,for the first time in many many years, I felt a change in my condition.I still have a long journey ahead, but thanks to Dr.Kokhab the genius,I actually have hope.Thankyou Dr.Kokhab for your professionalism and your great knowledge.For the first time in years,I see the light.\"]\n",
            "['Julie. E.', 5.0, '12/30/2015', 'Dr. Kokhab is an awesome doctor he does not rush his appointments, takes time to answer all of your questions. Overall a very nice and warm person. He does all he could do to help you and resolve any issue you may have. His staff is great! If I could give him more stars i would=)']\n",
            "['Di M.', 5.0, '7/29/2015', 'I found Dr. Kokhab almost 2 years ago after moving from Chicago. \\xa0I did a lot of research and his reputation was excellent. \\xa0I was not disappointed! \\xa0Dr. Kokhab is compassionate, knowledgeable and respectful. \\xa0He will develop a plan of action and never make you feel you are being rushed out the door. His staff is very nice and professional. \\xa0There are 3 areas upon sign in. An eye specialist, urgent care and rheumatology. \\xa0So it appears busy upon entering but wait times are very good.']\n",
            "['Kirbeena D.', 5.0, '4/23/2013', 'Great place, really good doctor. \\xa0Actually looks at you when you talk to him. \\xa0Very pleased.']\n",
            "['ANGIE D.', 5.0, '6/23/2011', \"My husband is a patient of Dr. K and I have accompanied him on a couple of office visits. He was the only doctor who was able to quickly diagnose my husband's condition after countless visits to our PCP, other urgent care, and the ER. After beginning treatment the doctor called our home to check how my husband was doing. In addition to being a great doctor, he also has a wonderful staff. The staff is not only professional, but also very friendly, and helpful. Everyone at this office truly cares about the patients.\"]\n",
            "finished page4\n",
            "['Sara C.', 5.0, '4/27/2011', \"I saw Dr. Kokhab twice at the urgent care in Upland. I've had Fibromyalgia for 23 years now and I had just quit Norco 10-325 cold turkey after taking 5-6 pills a day for 5 years. Dr Kokhab helped me by giving me a non addictive medication similar to Tylenol and told me to make an appt at his office location to treat my Fibro. He seems like a very good Dr. and took his time twice to answer my questions and help me in any way he can. I will update you with more info after I see him tomorrow at his office.\"]\n",
            "['Melinda S.', 5.0, '8/24/2014', 'This doctor is brilliant, kind and thorough. \\xa0REALLY felt I was given his full attention, accurate diagnosis, treated promptly and effectively with an full explanation that I could understand. \\xa0Kudos to you Dr. Kokhab! \\xa0And, thank you for the excellent care.']\n",
            "['Julie P.', 5.0, '2/5/2013', \"OMG! This Urgent Care is great! Since I couldnt be seen at my regular Dr.'s office, not a good thing especially since I was having trouble breathing due to my asthma, I looked for an Urgent Care close to my house. I read the reviews for this location and they were all good. So I went. This place is so nice. Its pretty and clean, not like \\xa0the ones that look like a workmans comp place. I think I was there for almost an hour, including filling out paperwork and my treatment. Amanda was the nurse who helped me, she was Very nice. I recommend this place to anyone who wants or needs help right away. \\xa0Thank you , jparedes\"]\n",
            "['Dustin C.', 5.0, '11/4/2018', \"Awesome team, very knowledgeable. My wife was seen and recommended by Gloria Stevens, MD (who is also within the same business complex) -- we were seen rather quick, and quickly the doctor was able to get on the same page. She asked key questions, added a steroid to help cycle my wife off prednisone and was very helpful throughout the entire process. My wife left with comfort, and hope. My wife is battling an autoimmune disease which is 50/50 either Chrons or Henoch-Schonlein -- we're puzzling this all together and are hoping its just Henoch-Schonlein. We will know very soon as my wife has biopsies pending USC, and then a followup with the GI Doctor.Highly recommended.\"]\n",
            "['Shop 1.', 1.0, '7/14/2022', 'If you want to be berated and treated like dirt by the staff, then definitely call this office. Phone etiquette is zero & the way the staff speaks to callers certainly reflects on the doctors who allow it.']\n",
            "['Margot S.', 5.0, '2/23/2022', \"Dr. Sadeghi is an absolutely outstanding physician. He is extremely knowledgeable about rheumatological conditions and maintains an excellent bedside manner. At each visit he completes a thorough physical exam, checking for any new signs or symptoms of autoimmune disease. He answers all of my questions and concerns with patience and kindness. Dr. Sadeghi also encourages me to eat healthy, and try to get exercise. Of note, I had previously seen a very good physician at UCLA in the same specialty however, I chose Dr. Sadeghi as he addressed all of my concerns and has kept a close follow up schedule to ensure my condition does not deteriorate. Dr. Sadeghi's staff is always helpful and very professional. I am so grateful I found Upland Rheumatology!\"]\n",
            "['Maxine S.', 1.0, '11/23/2021', \"Dr KOHKAB- help!!! This clinic is going down fast. Mary doesn't listen and is a very poor provider.She took me off my meds out of the blue, doesn't listen- overbooks and I was \\xa0 rushed. This clinic is a mere shadow of what it used to be.\"]\n",
            "['Nana L.', 1.0, '10/6/2021', \"Good news and BAD news about this office. First, \\xa0the office overcharged me and my husband for our co-pays for several visits and it took \\xa03 Months and too many phone \\xa0calls to get refunded. The office staff, primarily Cece are the rudest office personnel that I've ever come across. Very unhelpful and they just seem annoyed when they are speaking with you. Because of the previously mentioned issues and scheduling problems I asked for my records to be sent to my new Rheumatologist. Cece said to get the records myself from my primary doctor. My primary doctor has not received Any progress notes etc since 2019. That's the kind of customer service you get from that office and Cece. \\xa0Dr Schumann was fine. The Good news is that because of that horrible office I found a fantastic Rheumatologist that I love and love his staff. They are kind and professional. Nothing like This office. Don't go there.\"]\n",
            "['Wendy D.', 1.0, '12/8/2021', \"Not only have they not responded to my post, they now won't refill my prescriptions- these are evil people; do not use this office\"]\n",
            "['Fatima P.', 1.0, '8/31/2021', 'DO NOT COME HERE! First of all I want to say professionalism is something that should be portrayed in every establishment of any sort. Cynthia \"the supposed manager\" made it very clear that professionalism is not valued here. She wreaked of alcohol and honestly seemed hung over. I would never support an establishment that allows this for their \"managers\" or any of their employees in general. When I arrived for my appointment she basically told me to F*ck off. Tell your insurance to send you elsewhere. NEVER AGAIN! Upland rheumatology center, do better...']\n",
            "['Adriana L.', 5.0, '5/15/2021', 'With the Covid-19 restrictions lifting I decided to come into the office to see a rheumatologist as my PCP recommend. I was seen by Dr. Stacey Schulman. Dr. Schulman has been a godsend! She listened to my concerns and symptoms. She was able to accurately diagnose me, and immediately start me on a plan. We are still working to find the right medication/dosage combination but I feel that I am in good hands. I have already noticed significant improvements. Thank you, Dr. Schulman.']\n",
            "['Gilbert C.', 1.0, '10/16/2020', \"Horrible Service! Tiffany and Karina are inconsiderate, rude and disrespectful! Don't go to this office. They cancel my wife medication because we didn't respond to the pharmacy on when we would be available to pick up our medication while we were on vacation. They didn't have have the right to cancel my wife prescription that was approved. They are asking her for her to go on for lab work. This medication doesn't require lab work. They don't know why they are doing. After speaking to the doctor today, he agreed with us that lab work is not required! They don't bother to call the doctor and they couldn't provide the name of the office manager who was on vacation or unavailable until 5 days later. Would not recommend the office whatsoever!\"]\n",
            "['Mina I.', 5.0, '6/15/2021', \"I've been Dr. Najafabadi's patient for a couple years and have always been very pleased with the care and attention I've received from him. He's very knowledgeable, professional and caring. His staff are also courteous and professional. Great experience overall!\"]\n",
            "['Christina U.', 1.0, '12/9/2019', 'Cece the office manager is the most unprofessional person. I will be switching offices. Save the stress and go somewhere else!']\n",
            "['Rilee C.', 1.0, '10/23/2020', 'I\\'ve been trying to get an appointment with a rheumatologist here for several weeks. I initially called in the middle of the day, got a really rude woman who wanted me, personally, to collect my files, even though I\\'d signed paperwork so it could be released to them upon their request, before she\\'d even put me in the appointment book.I had my files faxed over, called back not 15 minutes later, got put on hold while someone \"checks for my file\". I\\'m on hold so long, the hold system hangs up on me. I call back immediately, I get their voicemail; they\\'ve mysteriously closed in the middle of their stated business hours, while a patient is sitting on hold and they\\'re supposedly doing something for that patient. I wonder if it\\'s just that all lines are busy, so I call a few more times over the next hour; nothing.I called during business hours the next day, someone picked up and put me on hold, I waited several minutes, the phone\\'s hold system hung up on me, again, because I\\'d been on hold too long. I called back, and, again, middle of stated business hours, they were mysteriously closed. Again, tried to call several more times over the next hour; nothing.This happened several times, over the course of several days, with me leaving voicemails with my contact info whenever I got their voicemail box. No calls back, no voicemails for me, nothing.I *finally* got someone on the line the other day willing to actually get me an appointment; I asked (politely) what\\'s going on, as I\\'ve received *no contact whatsoever* from the office. I received a shirty comment about them calling and leaving me a voicemail ages ago (as I\\'m looking directly at my call logs ma\\'am; nothing from you guys!). I ask what number they were calling, as I\\'d continued leaving messages since the date they\\'d supposedly called me.Instead of calling the number I kept leaving, over and over again on my voicemails, they supposedly called a number that I haven\\'t left them at all, that was in my healthcare paperwork that had been faxed over. A number that at no point has been my primary contact number, and hasn\\'t been put in any of my paperwork in the last 7 months. My contact number I kept leaving in voicemails is literally in there in my gp contact info with no other phone number. The only way they\\'d have the old one is by going into my insurance info and bypassing *all my current information* to get to the old stuff. Ma\\'am, you didn\\'t leave a voicemail at that old number; that number *hasn\\'t been active* since the beginning of the pandemic. I\\'m pretty sure the voicemail for it doesn\\'t even work anymore; a distant relative tried calling not 2 days after the center supposedly called and it hadn\\'t even been re-allocated to another person yet and was completely out of service, with no ability to leave voicemails.I haven\\'t even had the chance to see a doctor yet, and this place is already pretty sus. I\\'m genuinely hoping actually seeing the doctor will change my mind about this place, and will update my review afterward.']\n",
            "['Michael L.', 1.0, '12/18/2018', 'I was there cup of times, never seem by the Dr. him self. Always told me he was busy, and seem by his nurse practitioner. She does not have the knowledge to see patients by herself.Mistreated my condition, and prescribed a medication with lots of side effects just to test it out.Stay away this horrible office. And try to get seem with a Doctor that have time for his patients!']\n",
            "['Sharyn H.', 4.0, '3/11/2020', \"I accept the explanation given for the circumstances I encountered. That doesn't change my past impressions but it does leave room for new ones. Dr Kokhab is no longer running an urgent care and in the new office he has new personnel. I will be going back for follow up care.\"]\n",
            "['Blanca C.', 1.0, '3/4/2019', \"I needed shots of B12 and Toradol because I'm completely exhausted and in extreme pain and wanted to get in and simply get the shots and I was told no availability until April. Well my pain and exhaustion just comes with no warning. I'm going to have to look for another rheumy who can accommodate me. This is ridiculous.\"]\n",
            "['Gisela S.', 1.0, '2/29/2020', 'Made me feel like like my visit unimportant. Was sarcastic when I answered his questions regarding my health.']\n",
            "['Caroline B.', 1.0, '9/11/2020', 'I had couple of televisits with a Dr. Sadeghi from this office, very nice and knowledgable doctor and was happy with my visit; however, I had to change offices on account of how inefficiently this office was run. \\xa0It was a constant chase to try to make an appointment, have them provide the right paper work first time around, could not leave a message voice mail was full, phone would ring forever no one would pick up for the most part. I emailed requesting an appointment and got a call back eight days later. Cece the manager gave wrong info. to my insurance company noting that I had bone cancer, I do not. \\xa0She had to reapply correctly second time around without even an apology for her mistake to me. LOL total chaos.']\n",
            "['Cynthia V.', 5.0, '9/18/2019', 'I was just seen by Mary, the PA, today. Everyone in the office was professional, kind, & even personable. Yes, appointments are scheduled out a bit, but they actually got me in a little sooner, due to a cancellation. Frankly, it is worth the wait. I would rather have a hard time getting an appointment and get the treatment that I need and deserve, than get a sooner appointment with someone who rushes me in and out, vs Mary who took her time with me. She provided a very thorough exam, went over testing that had already been done by my primary and ENT, and ordered more testing. She does not do what I have had doctors do in the past... You know those doctors? The ones that give you medicine to try? I look forward to working with her more, and feeling a lot better!']\n",
            "['Lisa B.', 5.0, '7/18/2018', \"For years I have been suffering from bad migraines and overall aches and pain. \\xa0Just a simple touch to my body would trigger agonizing pain. It wasn't until I started sharing my problems with other family members who have been dealing with similar issues that they suggested that I go see a rheumatologist. \\xa0Thank goodness that I took their advice and found Dr. K. \\xa0The first time that I met with Dr. K, he immediately sent me out for labwork. I scheduled a follow up exam with Dr. K to review my lab results and after a thorough in-office examination Dr. K was able to diagnose me. \\xa0Dr. K has put me on a course of treatment that has done wonders for my headaches and has also helped make my pain more tolerable. \\xa0Dr. K is very knowledgeable and caring. \\xa0He really takes time to listen and I never feel rushed. \\xa0Another thing that I really appreciate about Dr. K is that he knows how I feel about taking medication. \\xa0He doesn't try to push me into taking anything that I'm not comfortable with. \\xa0He has no problem explaining recommended medications and their side effects. In fact, he even writes the medications down for me before I leave so that I can do my own research and ponder over my decision for our next visit. If you find yourself in a similar situation like mine, I would highly recommend Dr. K. \\xa0He is absolutely wonderful!\"]\n",
            "['Beth H.', 5.0, '1/20/2018', 'Dr Kokhab is an excellent dr he takes the time to talk to youHe explains things and does not over react.I highly recommend him']\n",
            "['Patricia S.', 5.0, '3/26/2019', \"Great doctor and staff. I've been a patient for almost 10 years. I also see Mary, the physician assistant, and she is the most caring doctor ever. She takes her time with you and you never feel rushed. Mary and Dr. Kokhab are very kind, caring, and knowledgeable doctors. I highly recommend them both.\"]\n",
            "['Mark M.', 1.0, '6/26/2019', \"I have gone to this office many times and wait for hours just for the Dr to say although I have positive labs for a condition he does not think that's what is the cause of my pain. In addition his demeanor is creepy I was very uncomfortable in a room with him every time. I would find another place to go.\"]\n",
            "['Steven C.', 1.0, '8/20/2018', \"Don't come to this office as they will give you a shot that may not cover by your insurance. \\xa0I later found out It cost only $5 copay on those shots to do it at home. \\xa0They will bill you $120 not covered by your insurance and not to tell you about it upfront. Those shots were samples provided by pharmaceutical firms. \\xa0No other doctors have charged me samples.\"]\n",
            "['Skylar K.', 5.0, '12/11/2019', 'I have been going to the nurse practitioner, Mary, here for more than 2 years now. From the very first time I came in, to now, Mary has been incredibly kind, caring and helpful. She is very well informed on how to treat her patients and I am very grateful to have her as my rheumatologist. I trust her completely and will continue to trust her as she treats me. The staff here are also very friendly and helpful whenever I have a problem with appointments or prescriptions, both on the phone and in person. I feel very lucky to have this group of staff.']\n",
            "['Sam P.', 5.0, '10/18/2018', \"I've been seen Dr. Mary here for 1 year now. I absolutely adore her. She takes the time to speak with you without rushing out the door and makes it personal rather than just a sterile environment. I hadn't seen her for 6 months due to my insurance changing, but when I went back she immediately asked me how my son was doing--she remembered. Not to mention she gets the job done and does whatever it takes to make you better. I went there barely being able to move because of my psoriatic arthritis. With her help (after my dermatologist failed me) she was able to get medication approved that worked for me and I went from a pain scale of 10 to a ZERO! This has allowed me to do everything a mommy needs to do for their 1 year old and I can't think her enough. I wen my there with a bleak outlook (self imposed) because I could barely move. It hurt to roll over in bed, couldn't get out of bed without help and couldn't even change my sons diaper without pain. I didn't think there was any hope until Mary. Truly thankful for my new quality of life because of Mary.The ONLY not so great thing I can say about this place is that it's sometimes difficult to reach somebody. I usually get VM when I try to schedule an appointment and have to keep calling back bc my calls are not returned in a timely manner. But, that's not Mary's fault!\"]\n",
            "['Valerie B.', 5.0, '12/4/2017', \"I'm a first time patient, who saw Dr. Kokhab today. Despite being 15 minutes late I was seen promptly and evaluated thoroughly. They pulled my medical records quickly too. This doctor is very professional and helpful. As I was leaving I noticed no one asked to schedule my follow up visit, but it's no biggie and then I got a call from them to make my follow up. 5 star \\xa0service!!!\"]\n",
            "['Katie P.', 5.0, '6/30/2015', 'Dr. Kokhab and his office are doing a great job treating me for fibromyalgia. \\xa0His whole office is very polite and caring. \\xa0They explained the condition to me in great detail and took my concerns about living on medication very seriously. \\xa0I appreciate Dr. Kokhab working with me to devise a live able treatment plan. \\xa0I highly recommend him!']\n",
            "['Elizabeth D.', 5.0, '4/14/2019', \"I'm into my second week of plant based eating since seeing Dr Kokhab. I am feeling so much better! Still can't believe what a difference it has made in my day to day activities. He is amazing and very knowledgeable. My body was wracked with pain that I was beyond exhausted and miserable!! I am so glad that my primary Physician, Dr Zuniga referred me to Dr Kokhab!!! I'm feeling more positive about my outlook for managing my pain and depression. Thank you Dr Kokhab.\"]\n",
            "['Cindi R.', 5.0, '4/17/2017', 'I had an appointment with Dr. Kokhab today. He listened and made some recommendations, that I will take into consideration.']\n",
            "['Theresa M.', 5.0, '5/29/2014', \"I can't say enough amazing things about Dr. Kokhab and his staff. I have been seen by so many doctors and no one was able to help and I was starting to loose hope that I would get better. Dr. Kokhab is amazing!! He saw me and ran all the proper blood tests but once we got the results (literally that day), he went into action. He explained all options, I mean all options in order to make sure that I felt comfortable with the decision. His staff is very friendly and calls you back when they say they are going too. Many offices get so busy that they forget about you, not this office. I have had some flair ups and the doctor waited for me to make sure that it wasn't anything worst than just a flair up (which if you get flair ups, you know how painful they can be). My husband and I are so thankful we found Dr. Kokhab and I would recommend this office to everyone and anyone that needs this type of specalist.\"]\n",
            "['Tanaya C.', 5.0, '3/7/2017', 'Well this was my first time going to an urgent care vs going to an emergency room...and i was extremely satisfied....i was seen in an timely matter and the janitors was constantly wiping the chairs and sanitizing them she also walked around with the broom sweeping..the front desk was kind, it was the man who worked the front desk that really caught my eye though...it was late and closing i was the last person to be seen, however a girl walked in with her hand bleeding he told them they were closed at first but to hold on and he walked to the back told the dr. And came back and said he didnt feel right turning them away....thats what i like to see... Well 5 stars from me']\n",
            "['Dawn L.', 5.0, '4/25/2019', \"Dr Marjan \\xa0Khaleghi is the best Rheumatologist. She is so compassionate for me. I can call and get in to see her within hours. When my pain is so severe she totally understands it. She really cares about you. She does everything right then and there before you leave her office. She makes sure to help your pain. I've never had a doctor get you in so fast , she will even skip her lunch to help me. I recommend her highly if you suffer from arthritis.\"]\n",
            "['Amanda S.', 5.0, '8/8/2016', \"Met with Mary, the nurse practitioner, and immediately felt at ease. She was so calm and approachable. She took the time to do a proper assessment, get a detailed history from me, and explain all my labs she was running thoroughly. At the follow up appointment, she again explained my results thoroughly and made sure I didn't have any questions before I left. You can tell she knows this specialty well, is passionate about it, and has a wonderful bedside manner.!\"]\n",
            "['Marc S.', 5.0, '1/10/2017', 'Simply the best! When there is a complicated problem He knows how to find the right solutions. Not only is he a great clinician, he really goes out of his way to help everyone on a deeper level. If he has food in the back office he will give it to his patients. He treats me like family. Thank you Dr K']\n",
            "['Lettie C.', 1.0, '7/9/2018', \"First time ever seeing a Rheumatologist and he didn't even order blood work or X-rays. \\xa0Sent me home with something for the pain that once I got it home read, do not take if you have asthma which I told him I did. \\xa0He told me to take it anyway, now I'm having to see a pulmonologist! \\xa0Terrible doctor.\"]\n",
            "['Chris R.', 5.0, '4/24/2018', \"Went to check out Dr. Morris Kokhab and didnt feel right. After the second and third appointment,I realized just how professional and caring Dr.Kokhab treats his patients.This M.D. is the best Rheumatologist in my opinion,that I have ever been treated by.I have been a retired Union Ironworker for some time and have been suffering from past injuries that's been attacking my body through some painful and difficult forms of arthritis.After several treatments \\xa0by Dr.Kokhab,for the first time in many many years, I felt a change in my condition.I still have a long journey ahead, but thanks to Dr.Kokhab the genius,I actually have hope.Thankyou Dr.Kokhab for your professionalism and your great knowledge.For the first time in years,I see the light.\"]\n",
            "['Julie. E.', 5.0, '12/30/2015', 'Dr. Kokhab is an awesome doctor he does not rush his appointments, takes time to answer all of your questions. Overall a very nice and warm person. He does all he could do to help you and resolve any issue you may have. His staff is great! If I could give him more stars i would=)']\n",
            "['Di M.', 5.0, '7/29/2015', 'I found Dr. Kokhab almost 2 years ago after moving from Chicago. \\xa0I did a lot of research and his reputation was excellent. \\xa0I was not disappointed! \\xa0Dr. Kokhab is compassionate, knowledgeable and respectful. \\xa0He will develop a plan of action and never make you feel you are being rushed out the door. His staff is very nice and professional. \\xa0There are 3 areas upon sign in. An eye specialist, urgent care and rheumatology. \\xa0So it appears busy upon entering but wait times are very good.']\n",
            "['Kirbeena D.', 5.0, '4/23/2013', 'Great place, really good doctor. \\xa0Actually looks at you when you talk to him. \\xa0Very pleased.']\n",
            "['ANGIE D.', 5.0, '6/23/2011', \"My husband is a patient of Dr. K and I have accompanied him on a couple of office visits. He was the only doctor who was able to quickly diagnose my husband's condition after countless visits to our PCP, other urgent care, and the ER. After beginning treatment the doctor called our home to check how my husband was doing. In addition to being a great doctor, he also has a wonderful staff. The staff is not only professional, but also very friendly, and helpful. Everyone at this office truly cares about the patients.\"]\n",
            "['Sara C.', 5.0, '4/27/2011', \"I saw Dr. Kokhab twice at the urgent care in Upland. I've had Fibromyalgia for 23 years now and I had just quit Norco 10-325 cold turkey after taking 5-6 pills a day for 5 years. Dr Kokhab helped me by giving me a non addictive medication similar to Tylenol and told me to make an appt at his office location to treat my Fibro. He seems like a very good Dr. and took his time twice to answer my questions and help me in any way he can. I will update you with more info after I see him tomorrow at his office.\"]\n",
            "['Melinda S.', 5.0, '8/24/2014', 'This doctor is brilliant, kind and thorough. \\xa0REALLY felt I was given his full attention, accurate diagnosis, treated promptly and effectively with an full explanation that I could understand. \\xa0Kudos to you Dr. Kokhab! \\xa0And, thank you for the excellent care.']\n",
            "['Julie P.', 5.0, '2/5/2013', \"OMG! This Urgent Care is great! Since I couldnt be seen at my regular Dr.'s office, not a good thing especially since I was having trouble breathing due to my asthma, I looked for an Urgent Care close to my house. I read the reviews for this location and they were all good. So I went. This place is so nice. Its pretty and clean, not like \\xa0the ones that look like a workmans comp place. I think I was there for almost an hour, including filling out paperwork and my treatment. Amanda was the nurse who helped me, she was Very nice. I recommend this place to anyone who wants or needs help right away. \\xa0Thank you , jparedes\"]\n",
            "finished page5\n"
          ]
        }
      ]
    },
    {
      "cell_type": "code",
      "source": [
        "# check the shape of the all reviews to know all reviews are retrieved. \n",
        "np.shape (all_reviews)"
      ],
      "metadata": {
        "colab": {
          "base_uri": "https://localhost:8080/"
        },
        "id": "RfahOB96sj0a",
        "outputId": "69a1075c-e444-44c9-c138-2854089ed002"
      },
      "execution_count": null,
      "outputs": [
        {
          "output_type": "execute_result",
          "data": {
            "text/plain": [
              "(43, 4)"
            ]
          },
          "metadata": {},
          "execution_count": 37
        }
      ]
    },
    {
      "cell_type": "markdown",
      "source": [
        "# Step 2: Write the retrieved review to a .csv file"
      ],
      "metadata": {
        "id": "6XvlzTMfxxx6"
      }
    },
    {
      "cell_type": "code",
      "source": [
        "# mount google drive\n",
        "from google.colab import drive\n",
        "drive.mount('/content/drive')"
      ],
      "metadata": {
        "colab": {
          "base_uri": "https://localhost:8080/"
        },
        "id": "C8wCeBqbt4c5",
        "outputId": "a7586b34-1f82-4eb0-ef9e-1a299c54104f"
      },
      "execution_count": null,
      "outputs": [
        {
          "output_type": "stream",
          "name": "stdout",
          "text": [
            "Mounted at /content/drive\n"
          ]
        }
      ]
    },
    {
      "cell_type": "code",
      "source": [
        "# let's go to My Drive\n",
        "%cd /content/drive/MyDrive/"
      ],
      "metadata": {
        "colab": {
          "base_uri": "https://localhost:8080/"
        },
        "id": "JQypqE3nuDh8",
        "outputId": "da95a876-ba35-4aed-b606-ef5d8fbe2fcd"
      },
      "execution_count": null,
      "outputs": [
        {
          "output_type": "stream",
          "name": "stdout",
          "text": [
            "/content/drive/MyDrive\n"
          ]
        }
      ]
    },
    {
      "cell_type": "code",
      "source": [
        "# And go to Colab Notebooks\n",
        "%cd Colab Notebooks"
      ],
      "metadata": {
        "colab": {
          "base_uri": "https://localhost:8080/"
        },
        "id": "5xNHUkRSuhfz",
        "outputId": "277d5058-173a-4c05-e8d2-ca82ee782f42"
      },
      "execution_count": null,
      "outputs": [
        {
          "output_type": "stream",
          "name": "stdout",
          "text": [
            "/content/drive/MyDrive/Colab Notebooks\n"
          ]
        }
      ]
    },
    {
      "cell_type": "code",
      "source": [
        "# Create Mydata folder \n",
        "%mkdir Mydata"
      ],
      "metadata": {
        "id": "6bsiAqp4ukOM"
      },
      "execution_count": null,
      "outputs": []
    },
    {
      "cell_type": "code",
      "source": [
        "# use the df to save the data\n",
        "df = pd.DataFrame(all_reviews)\n",
        "df.columns = ['user_name', 'rating', 'review_date', 'review']\n",
        "df.head(3)"
      ],
      "metadata": {
        "colab": {
          "base_uri": "https://localhost:8080/",
          "height": 143
        },
        "id": "9_yAlgzyu4K4",
        "outputId": "b93394fc-7969-43b0-cd95-c17a70b711eb"
      },
      "execution_count": null,
      "outputs": [
        {
          "output_type": "execute_result",
          "data": {
            "text/plain": [
              "   user_name  rating review_date  \\\n",
              "0  Dustin C.     5.0   11/4/2018   \n",
              "1    Shop 1.     1.0   7/14/2022   \n",
              "2  Margot S.     5.0   2/23/2022   \n",
              "\n",
              "                                              review  \n",
              "0  Awesome team, very knowledgeable. My wife was ...  \n",
              "1  If you want to be berated and treated like dir...  \n",
              "2  Dr. Sadeghi is an absolutely outstanding physi...  "
            ],
            "text/html": [
              "\n",
              "  <div id=\"df-661c8cf0-58d2-4e6d-aea9-d8e038b8a0f0\">\n",
              "    <div class=\"colab-df-container\">\n",
              "      <div>\n",
              "<style scoped>\n",
              "    .dataframe tbody tr th:only-of-type {\n",
              "        vertical-align: middle;\n",
              "    }\n",
              "\n",
              "    .dataframe tbody tr th {\n",
              "        vertical-align: top;\n",
              "    }\n",
              "\n",
              "    .dataframe thead th {\n",
              "        text-align: right;\n",
              "    }\n",
              "</style>\n",
              "<table border=\"1\" class=\"dataframe\">\n",
              "  <thead>\n",
              "    <tr style=\"text-align: right;\">\n",
              "      <th></th>\n",
              "      <th>user_name</th>\n",
              "      <th>rating</th>\n",
              "      <th>review_date</th>\n",
              "      <th>review</th>\n",
              "    </tr>\n",
              "  </thead>\n",
              "  <tbody>\n",
              "    <tr>\n",
              "      <th>0</th>\n",
              "      <td>Dustin C.</td>\n",
              "      <td>5.0</td>\n",
              "      <td>11/4/2018</td>\n",
              "      <td>Awesome team, very knowledgeable. My wife was ...</td>\n",
              "    </tr>\n",
              "    <tr>\n",
              "      <th>1</th>\n",
              "      <td>Shop 1.</td>\n",
              "      <td>1.0</td>\n",
              "      <td>7/14/2022</td>\n",
              "      <td>If you want to be berated and treated like dir...</td>\n",
              "    </tr>\n",
              "    <tr>\n",
              "      <th>2</th>\n",
              "      <td>Margot S.</td>\n",
              "      <td>5.0</td>\n",
              "      <td>2/23/2022</td>\n",
              "      <td>Dr. Sadeghi is an absolutely outstanding physi...</td>\n",
              "    </tr>\n",
              "  </tbody>\n",
              "</table>\n",
              "</div>\n",
              "      <button class=\"colab-df-convert\" onclick=\"convertToInteractive('df-661c8cf0-58d2-4e6d-aea9-d8e038b8a0f0')\"\n",
              "              title=\"Convert this dataframe to an interactive table.\"\n",
              "              style=\"display:none;\">\n",
              "        \n",
              "  <svg xmlns=\"http://www.w3.org/2000/svg\" height=\"24px\"viewBox=\"0 0 24 24\"\n",
              "       width=\"24px\">\n",
              "    <path d=\"M0 0h24v24H0V0z\" fill=\"none\"/>\n",
              "    <path d=\"M18.56 5.44l.94 2.06.94-2.06 2.06-.94-2.06-.94-.94-2.06-.94 2.06-2.06.94zm-11 1L8.5 8.5l.94-2.06 2.06-.94-2.06-.94L8.5 2.5l-.94 2.06-2.06.94zm10 10l.94 2.06.94-2.06 2.06-.94-2.06-.94-.94-2.06-.94 2.06-2.06.94z\"/><path d=\"M17.41 7.96l-1.37-1.37c-.4-.4-.92-.59-1.43-.59-.52 0-1.04.2-1.43.59L10.3 9.45l-7.72 7.72c-.78.78-.78 2.05 0 2.83L4 21.41c.39.39.9.59 1.41.59.51 0 1.02-.2 1.41-.59l7.78-7.78 2.81-2.81c.8-.78.8-2.07 0-2.86zM5.41 20L4 18.59l7.72-7.72 1.47 1.35L5.41 20z\"/>\n",
              "  </svg>\n",
              "      </button>\n",
              "      \n",
              "  <style>\n",
              "    .colab-df-container {\n",
              "      display:flex;\n",
              "      flex-wrap:wrap;\n",
              "      gap: 12px;\n",
              "    }\n",
              "\n",
              "    .colab-df-convert {\n",
              "      background-color: #E8F0FE;\n",
              "      border: none;\n",
              "      border-radius: 50%;\n",
              "      cursor: pointer;\n",
              "      display: none;\n",
              "      fill: #1967D2;\n",
              "      height: 32px;\n",
              "      padding: 0 0 0 0;\n",
              "      width: 32px;\n",
              "    }\n",
              "\n",
              "    .colab-df-convert:hover {\n",
              "      background-color: #E2EBFA;\n",
              "      box-shadow: 0px 1px 2px rgba(60, 64, 67, 0.3), 0px 1px 3px 1px rgba(60, 64, 67, 0.15);\n",
              "      fill: #174EA6;\n",
              "    }\n",
              "\n",
              "    [theme=dark] .colab-df-convert {\n",
              "      background-color: #3B4455;\n",
              "      fill: #D2E3FC;\n",
              "    }\n",
              "\n",
              "    [theme=dark] .colab-df-convert:hover {\n",
              "      background-color: #434B5C;\n",
              "      box-shadow: 0px 1px 3px 1px rgba(0, 0, 0, 0.15);\n",
              "      filter: drop-shadow(0px 1px 2px rgba(0, 0, 0, 0.3));\n",
              "      fill: #FFFFFF;\n",
              "    }\n",
              "  </style>\n",
              "\n",
              "      <script>\n",
              "        const buttonEl =\n",
              "          document.querySelector('#df-661c8cf0-58d2-4e6d-aea9-d8e038b8a0f0 button.colab-df-convert');\n",
              "        buttonEl.style.display =\n",
              "          google.colab.kernel.accessAllowed ? 'block' : 'none';\n",
              "\n",
              "        async function convertToInteractive(key) {\n",
              "          const element = document.querySelector('#df-661c8cf0-58d2-4e6d-aea9-d8e038b8a0f0');\n",
              "          const dataTable =\n",
              "            await google.colab.kernel.invokeFunction('convertToInteractive',\n",
              "                                                     [key], {});\n",
              "          if (!dataTable) return;\n",
              "\n",
              "          const docLinkHtml = 'Like what you see? Visit the ' +\n",
              "            '<a target=\"_blank\" href=https://colab.research.google.com/notebooks/data_table.ipynb>data table notebook</a>'\n",
              "            + ' to learn more about interactive tables.';\n",
              "          element.innerHTML = '';\n",
              "          dataTable['output_type'] = 'display_data';\n",
              "          await google.colab.output.renderOutput(dataTable, element);\n",
              "          const docLink = document.createElement('div');\n",
              "          docLink.innerHTML = docLinkHtml;\n",
              "          element.appendChild(docLink);\n",
              "        }\n",
              "      </script>\n",
              "    </div>\n",
              "  </div>\n",
              "  "
            ]
          },
          "metadata": {},
          "execution_count": 60
        }
      ]
    },
    {
      "cell_type": "code",
      "source": [
        "# saving the data frame to the google drive folder\n",
        "df.to_csv('/content/drive/MyDrive/Colab Notebooks/Mydata/all_reviews.csv', index = False)"
      ],
      "metadata": {
        "id": "tDGDZLtuvAqi"
      },
      "execution_count": null,
      "outputs": []
    },
    {
      "cell_type": "markdown",
      "source": [
        "# Step 3: Tokenization"
      ],
      "metadata": {
        "id": "F7kfwQOH3_HJ"
      }
    },
    {
      "cell_type": "code",
      "source": [
        "# Import useful modules\n",
        "\n",
        "import pandas as pd\n",
        "import numpy as np\n",
        "import re\n",
        "import time \n",
        "import random "
      ],
      "metadata": {
        "id": "eDqwKUb73-PK"
      },
      "execution_count": null,
      "outputs": []
    },
    {
      "cell_type": "code",
      "source": [
        "# mount google drive\n",
        "from google.colab import drive\n",
        "drive.mount('/content/drive')"
      ],
      "metadata": {
        "colab": {
          "base_uri": "https://localhost:8080/"
        },
        "id": "5zJd0aIOdlhW",
        "outputId": "76fae645-fee2-4bcf-d275-dfd9b08fc1ed"
      },
      "execution_count": null,
      "outputs": [
        {
          "output_type": "stream",
          "name": "stdout",
          "text": [
            "Mounted at /content/drive\n"
          ]
        }
      ]
    },
    {
      "cell_type": "code",
      "source": [
        "# Read review data from online folder\n",
        "\n",
        "df = pd.read_csv('/content/drive/MyDrive/Colab Notebooks/Mydata/all_reviews.csv')"
      ],
      "metadata": {
        "id": "8IQAC3tuvMM3"
      },
      "execution_count": null,
      "outputs": []
    },
    {
      "cell_type": "code",
      "source": [
        "df.head()"
      ],
      "metadata": {
        "colab": {
          "base_uri": "https://localhost:8080/",
          "height": 206
        },
        "id": "Nu4B9fcq4XzO",
        "outputId": "45f4f532-4c80-44dc-8cd1-be8d34392e75"
      },
      "execution_count": null,
      "outputs": [
        {
          "output_type": "execute_result",
          "data": {
            "text/plain": [
              "   user_name  rating review_date  \\\n",
              "0  Dustin C.     5.0   11/4/2018   \n",
              "1    Shop 1.     1.0   7/14/2022   \n",
              "2  Margot S.     5.0   2/23/2022   \n",
              "3  Maxine S.     1.0  11/23/2021   \n",
              "4    Nana L.     1.0   10/6/2021   \n",
              "\n",
              "                                              review  \n",
              "0  Awesome team, very knowledgeable. My wife was ...  \n",
              "1  If you want to be berated and treated like dir...  \n",
              "2  Dr. Sadeghi is an absolutely outstanding physi...  \n",
              "3  Dr KOHKAB- help!!! This clinic is going down f...  \n",
              "4  Good news and BAD news about this office. Firs...  "
            ],
            "text/html": [
              "\n",
              "  <div id=\"df-21031de0-962f-4c2d-b805-7270fdf46a6d\">\n",
              "    <div class=\"colab-df-container\">\n",
              "      <div>\n",
              "<style scoped>\n",
              "    .dataframe tbody tr th:only-of-type {\n",
              "        vertical-align: middle;\n",
              "    }\n",
              "\n",
              "    .dataframe tbody tr th {\n",
              "        vertical-align: top;\n",
              "    }\n",
              "\n",
              "    .dataframe thead th {\n",
              "        text-align: right;\n",
              "    }\n",
              "</style>\n",
              "<table border=\"1\" class=\"dataframe\">\n",
              "  <thead>\n",
              "    <tr style=\"text-align: right;\">\n",
              "      <th></th>\n",
              "      <th>user_name</th>\n",
              "      <th>rating</th>\n",
              "      <th>review_date</th>\n",
              "      <th>review</th>\n",
              "    </tr>\n",
              "  </thead>\n",
              "  <tbody>\n",
              "    <tr>\n",
              "      <th>0</th>\n",
              "      <td>Dustin C.</td>\n",
              "      <td>5.0</td>\n",
              "      <td>11/4/2018</td>\n",
              "      <td>Awesome team, very knowledgeable. My wife was ...</td>\n",
              "    </tr>\n",
              "    <tr>\n",
              "      <th>1</th>\n",
              "      <td>Shop 1.</td>\n",
              "      <td>1.0</td>\n",
              "      <td>7/14/2022</td>\n",
              "      <td>If you want to be berated and treated like dir...</td>\n",
              "    </tr>\n",
              "    <tr>\n",
              "      <th>2</th>\n",
              "      <td>Margot S.</td>\n",
              "      <td>5.0</td>\n",
              "      <td>2/23/2022</td>\n",
              "      <td>Dr. Sadeghi is an absolutely outstanding physi...</td>\n",
              "    </tr>\n",
              "    <tr>\n",
              "      <th>3</th>\n",
              "      <td>Maxine S.</td>\n",
              "      <td>1.0</td>\n",
              "      <td>11/23/2021</td>\n",
              "      <td>Dr KOHKAB- help!!! This clinic is going down f...</td>\n",
              "    </tr>\n",
              "    <tr>\n",
              "      <th>4</th>\n",
              "      <td>Nana L.</td>\n",
              "      <td>1.0</td>\n",
              "      <td>10/6/2021</td>\n",
              "      <td>Good news and BAD news about this office. Firs...</td>\n",
              "    </tr>\n",
              "  </tbody>\n",
              "</table>\n",
              "</div>\n",
              "      <button class=\"colab-df-convert\" onclick=\"convertToInteractive('df-21031de0-962f-4c2d-b805-7270fdf46a6d')\"\n",
              "              title=\"Convert this dataframe to an interactive table.\"\n",
              "              style=\"display:none;\">\n",
              "        \n",
              "  <svg xmlns=\"http://www.w3.org/2000/svg\" height=\"24px\"viewBox=\"0 0 24 24\"\n",
              "       width=\"24px\">\n",
              "    <path d=\"M0 0h24v24H0V0z\" fill=\"none\"/>\n",
              "    <path d=\"M18.56 5.44l.94 2.06.94-2.06 2.06-.94-2.06-.94-.94-2.06-.94 2.06-2.06.94zm-11 1L8.5 8.5l.94-2.06 2.06-.94-2.06-.94L8.5 2.5l-.94 2.06-2.06.94zm10 10l.94 2.06.94-2.06 2.06-.94-2.06-.94-.94-2.06-.94 2.06-2.06.94z\"/><path d=\"M17.41 7.96l-1.37-1.37c-.4-.4-.92-.59-1.43-.59-.52 0-1.04.2-1.43.59L10.3 9.45l-7.72 7.72c-.78.78-.78 2.05 0 2.83L4 21.41c.39.39.9.59 1.41.59.51 0 1.02-.2 1.41-.59l7.78-7.78 2.81-2.81c.8-.78.8-2.07 0-2.86zM5.41 20L4 18.59l7.72-7.72 1.47 1.35L5.41 20z\"/>\n",
              "  </svg>\n",
              "      </button>\n",
              "      \n",
              "  <style>\n",
              "    .colab-df-container {\n",
              "      display:flex;\n",
              "      flex-wrap:wrap;\n",
              "      gap: 12px;\n",
              "    }\n",
              "\n",
              "    .colab-df-convert {\n",
              "      background-color: #E8F0FE;\n",
              "      border: none;\n",
              "      border-radius: 50%;\n",
              "      cursor: pointer;\n",
              "      display: none;\n",
              "      fill: #1967D2;\n",
              "      height: 32px;\n",
              "      padding: 0 0 0 0;\n",
              "      width: 32px;\n",
              "    }\n",
              "\n",
              "    .colab-df-convert:hover {\n",
              "      background-color: #E2EBFA;\n",
              "      box-shadow: 0px 1px 2px rgba(60, 64, 67, 0.3), 0px 1px 3px 1px rgba(60, 64, 67, 0.15);\n",
              "      fill: #174EA6;\n",
              "    }\n",
              "\n",
              "    [theme=dark] .colab-df-convert {\n",
              "      background-color: #3B4455;\n",
              "      fill: #D2E3FC;\n",
              "    }\n",
              "\n",
              "    [theme=dark] .colab-df-convert:hover {\n",
              "      background-color: #434B5C;\n",
              "      box-shadow: 0px 1px 3px 1px rgba(0, 0, 0, 0.15);\n",
              "      filter: drop-shadow(0px 1px 2px rgba(0, 0, 0, 0.3));\n",
              "      fill: #FFFFFF;\n",
              "    }\n",
              "  </style>\n",
              "\n",
              "      <script>\n",
              "        const buttonEl =\n",
              "          document.querySelector('#df-21031de0-962f-4c2d-b805-7270fdf46a6d button.colab-df-convert');\n",
              "        buttonEl.style.display =\n",
              "          google.colab.kernel.accessAllowed ? 'block' : 'none';\n",
              "\n",
              "        async function convertToInteractive(key) {\n",
              "          const element = document.querySelector('#df-21031de0-962f-4c2d-b805-7270fdf46a6d');\n",
              "          const dataTable =\n",
              "            await google.colab.kernel.invokeFunction('convertToInteractive',\n",
              "                                                     [key], {});\n",
              "          if (!dataTable) return;\n",
              "\n",
              "          const docLinkHtml = 'Like what you see? Visit the ' +\n",
              "            '<a target=\"_blank\" href=https://colab.research.google.com/notebooks/data_table.ipynb>data table notebook</a>'\n",
              "            + ' to learn more about interactive tables.';\n",
              "          element.innerHTML = '';\n",
              "          dataTable['output_type'] = 'display_data';\n",
              "          await google.colab.output.renderOutput(dataTable, element);\n",
              "          const docLink = document.createElement('div');\n",
              "          docLink.innerHTML = docLinkHtml;\n",
              "          element.appendChild(docLink);\n",
              "        }\n",
              "      </script>\n",
              "    </div>\n",
              "  </div>\n",
              "  "
            ]
          },
          "metadata": {},
          "execution_count": 5
        }
      ]
    },
    {
      "cell_type": "code",
      "source": [
        "# setup NLTK\n",
        "!pip install nltk\n",
        "import nltk"
      ],
      "metadata": {
        "colab": {
          "base_uri": "https://localhost:8080/"
        },
        "id": "iBZgidLr4YpR",
        "outputId": "e4d44979-5522-4dcb-e782-c666dbe2a6af"
      },
      "execution_count": null,
      "outputs": [
        {
          "output_type": "stream",
          "name": "stdout",
          "text": [
            "Looking in indexes: https://pypi.org/simple, https://us-python.pkg.dev/colab-wheels/public/simple/\n",
            "Requirement already satisfied: nltk in /usr/local/lib/python3.7/dist-packages (3.7)\n",
            "Requirement already satisfied: joblib in /usr/local/lib/python3.7/dist-packages (from nltk) (1.1.0)\n",
            "Requirement already satisfied: regex>=2021.8.3 in /usr/local/lib/python3.7/dist-packages (from nltk) (2022.6.2)\n",
            "Requirement already satisfied: tqdm in /usr/local/lib/python3.7/dist-packages (from nltk) (4.64.0)\n",
            "Requirement already satisfied: click in /usr/local/lib/python3.7/dist-packages (from nltk) (7.1.2)\n"
          ]
        }
      ]
    },
    {
      "cell_type": "code",
      "source": [
        "# apply contraction expansion before tokenization\n",
        "!pip install contractions\n",
        "import contractions"
      ],
      "metadata": {
        "colab": {
          "base_uri": "https://localhost:8080/"
        },
        "id": "79dsybib4eQc",
        "outputId": "92429e1d-fd81-4da1-8511-cf5b6fe86f84"
      },
      "execution_count": null,
      "outputs": [
        {
          "output_type": "stream",
          "name": "stdout",
          "text": [
            "Looking in indexes: https://pypi.org/simple, https://us-python.pkg.dev/colab-wheels/public/simple/\n",
            "Collecting contractions\n",
            "  Downloading contractions-0.1.72-py2.py3-none-any.whl (8.3 kB)\n",
            "Collecting textsearch>=0.0.21\n",
            "  Downloading textsearch-0.0.24-py2.py3-none-any.whl (7.6 kB)\n",
            "Collecting anyascii\n",
            "  Downloading anyascii-0.3.1-py3-none-any.whl (287 kB)\n",
            "\u001b[K     |████████████████████████████████| 287 kB 5.1 MB/s \n",
            "\u001b[?25hCollecting pyahocorasick\n",
            "  Downloading pyahocorasick-1.4.4-cp37-cp37m-manylinux_2_17_x86_64.manylinux2014_x86_64.whl (106 kB)\n",
            "\u001b[K     |████████████████████████████████| 106 kB 22.7 MB/s \n",
            "\u001b[?25hInstalling collected packages: pyahocorasick, anyascii, textsearch, contractions\n",
            "Successfully installed anyascii-0.3.1 contractions-0.1.72 pyahocorasick-1.4.4 textsearch-0.0.24\n"
          ]
        }
      ]
    },
    {
      "cell_type": "code",
      "source": [
        "# Convert dataframe to list\n",
        "\n",
        "all_reviews = df.values.tolist()"
      ],
      "metadata": {
        "id": "dRZK2hyv60Mv"
      },
      "execution_count": null,
      "outputs": []
    },
    {
      "cell_type": "code",
      "source": [
        "print(*all_reviews, sep= '\\n')"
      ],
      "metadata": {
        "colab": {
          "base_uri": "https://localhost:8080/"
        },
        "id": "4gt2tBx-838V",
        "outputId": "880a09ba-e851-44e0-ef30-6a6090065e00"
      },
      "execution_count": null,
      "outputs": [
        {
          "output_type": "stream",
          "name": "stdout",
          "text": [
            "['Dustin C.', 5.0, '11/4/2018', \"Awesome team, very knowledgeable. My wife was seen and recommended by Gloria Stevens, MD (who is also within the same business complex) -- we were seen rather quick, and quickly the doctor was able to get on the same page. She asked key questions, added a steroid to help cycle my wife off prednisone and was very helpful throughout the entire process. My wife left with comfort, and hope. My wife is battling an autoimmune disease which is 50/50 either Chrons or Henoch-Schonlein -- we're puzzling this all together and are hoping its just Henoch-Schonlein. We will know very soon as my wife has biopsies pending USC, and then a followup with the GI Doctor.Highly recommended.\"]\n",
            "['Shop 1.', 1.0, '7/14/2022', 'If you want to be berated and treated like dirt by the staff, then definitely call this office. Phone etiquette is zero & the way the staff speaks to callers certainly reflects on the doctors who allow it.']\n",
            "['Margot S.', 5.0, '2/23/2022', \"Dr. Sadeghi is an absolutely outstanding physician. He is extremely knowledgeable about rheumatological conditions and maintains an excellent bedside manner. At each visit he completes a thorough physical exam, checking for any new signs or symptoms of autoimmune disease. He answers all of my questions and concerns with patience and kindness. Dr. Sadeghi also encourages me to eat healthy, and try to get exercise. Of note, I had previously seen a very good physician at UCLA in the same specialty however, I chose Dr. Sadeghi as he addressed all of my concerns and has kept a close follow up schedule to ensure my condition does not deteriorate. Dr. Sadeghi's staff is always helpful and very professional. I am so grateful I found Upland Rheumatology!\"]\n",
            "['Maxine S.', 1.0, '11/23/2021', \"Dr KOHKAB- help!!! This clinic is going down fast. Mary doesn't listen and is a very poor provider.She took me off my meds out of the blue, doesn't listen- overbooks and I was \\xa0 rushed. This clinic is a mere shadow of what it used to be.\"]\n",
            "['Nana L.', 1.0, '10/6/2021', \"Good news and BAD news about this office. First, \\xa0the office overcharged me and my husband for our co-pays for several visits and it took \\xa03 Months and too many phone \\xa0calls to get refunded. The office staff, primarily Cece are the rudest office personnel that I've ever come across. Very unhelpful and they just seem annoyed when they are speaking with you. Because of the previously mentioned issues and scheduling problems I asked for my records to be sent to my new Rheumatologist. Cece said to get the records myself from my primary doctor. My primary doctor has not received Any progress notes etc since 2019. That's the kind of customer service you get from that office and Cece. \\xa0Dr Schumann was fine. The Good news is that because of that horrible office I found a fantastic Rheumatologist that I love and love his staff. They are kind and professional. Nothing like This office. Don't go there.\"]\n",
            "['Wendy D.', 1.0, '12/8/2021', \"Not only have they not responded to my post, they now won't refill my prescriptions- these are evil people; do not use this office\"]\n",
            "['Fatima P.', 1.0, '8/31/2021', 'DO NOT COME HERE! First of all I want to say professionalism is something that should be portrayed in every establishment of any sort. Cynthia \"the supposed manager\" made it very clear that professionalism is not valued here. She wreaked of alcohol and honestly seemed hung over. I would never support an establishment that allows this for their \"managers\" or any of their employees in general. When I arrived for my appointment she basically told me to F*ck off. Tell your insurance to send you elsewhere. NEVER AGAIN! Upland rheumatology center, do better...']\n",
            "['Adriana L.', 5.0, '5/15/2021', 'With the Covid-19 restrictions lifting I decided to come into the office to see a rheumatologist as my PCP recommend. I was seen by Dr. Stacey Schulman. Dr. Schulman has been a godsend! She listened to my concerns and symptoms. She was able to accurately diagnose me, and immediately start me on a plan. We are still working to find the right medication/dosage combination but I feel that I am in good hands. I have already noticed significant improvements. Thank you, Dr. Schulman.']\n",
            "['Gilbert C.', 1.0, '10/16/2020', \"Horrible Service! Tiffany and Karina are inconsiderate, rude and disrespectful! Don't go to this office. They cancel my wife medication because we didn't respond to the pharmacy on when we would be available to pick up our medication while we were on vacation. They didn't have have the right to cancel my wife prescription that was approved. They are asking her for her to go on for lab work. This medication doesn't require lab work. They don't know why they are doing. After speaking to the doctor today, he agreed with us that lab work is not required! They don't bother to call the doctor and they couldn't provide the name of the office manager who was on vacation or unavailable until 5 days later. Would not recommend the office whatsoever!\"]\n",
            "['Mina I.', 5.0, '6/15/2021', \"I've been Dr. Najafabadi's patient for a couple years and have always been very pleased with the care and attention I've received from him. He's very knowledgeable, professional and caring. His staff are also courteous and professional. Great experience overall!\"]\n",
            "['Christina U.', 1.0, '12/9/2019', 'Cece the office manager is the most unprofessional person. I will be switching offices. Save the stress and go somewhere else!']\n",
            "['Rilee C.', 1.0, '10/23/2020', 'I\\'ve been trying to get an appointment with a rheumatologist here for several weeks. I initially called in the middle of the day, got a really rude woman who wanted me, personally, to collect my files, even though I\\'d signed paperwork so it could be released to them upon their request, before she\\'d even put me in the appointment book.I had my files faxed over, called back not 15 minutes later, got put on hold while someone \"checks for my file\". I\\'m on hold so long, the hold system hangs up on me. I call back immediately, I get their voicemail; they\\'ve mysteriously closed in the middle of their stated business hours, while a patient is sitting on hold and they\\'re supposedly doing something for that patient. I wonder if it\\'s just that all lines are busy, so I call a few more times over the next hour; nothing.I called during business hours the next day, someone picked up and put me on hold, I waited several minutes, the phone\\'s hold system hung up on me, again, because I\\'d been on hold too long. I called back, and, again, middle of stated business hours, they were mysteriously closed. Again, tried to call several more times over the next hour; nothing.This happened several times, over the course of several days, with me leaving voicemails with my contact info whenever I got their voicemail box. No calls back, no voicemails for me, nothing.I *finally* got someone on the line the other day willing to actually get me an appointment; I asked (politely) what\\'s going on, as I\\'ve received *no contact whatsoever* from the office. I received a shirty comment about them calling and leaving me a voicemail ages ago (as I\\'m looking directly at my call logs ma\\'am; nothing from you guys!). I ask what number they were calling, as I\\'d continued leaving messages since the date they\\'d supposedly called me.Instead of calling the number I kept leaving, over and over again on my voicemails, they supposedly called a number that I haven\\'t left them at all, that was in my healthcare paperwork that had been faxed over. A number that at no point has been my primary contact number, and hasn\\'t been put in any of my paperwork in the last 7 months. My contact number I kept leaving in voicemails is literally in there in my gp contact info with no other phone number. The only way they\\'d have the old one is by going into my insurance info and bypassing *all my current information* to get to the old stuff. Ma\\'am, you didn\\'t leave a voicemail at that old number; that number *hasn\\'t been active* since the beginning of the pandemic. I\\'m pretty sure the voicemail for it doesn\\'t even work anymore; a distant relative tried calling not 2 days after the center supposedly called and it hadn\\'t even been re-allocated to another person yet and was completely out of service, with no ability to leave voicemails.I haven\\'t even had the chance to see a doctor yet, and this place is already pretty sus. I\\'m genuinely hoping actually seeing the doctor will change my mind about this place, and will update my review afterward.']\n",
            "['Michael L.', 1.0, '12/18/2018', 'I was there cup of times, never seem by the Dr. him self. Always told me he was busy, and seem by his nurse practitioner. She does not have the knowledge to see patients by herself.Mistreated my condition, and prescribed a medication with lots of side effects just to test it out.Stay away this horrible office. And try to get seem with a Doctor that have time for his patients!']\n",
            "['Sharyn H.', 4.0, '3/11/2020', \"I accept the explanation given for the circumstances I encountered. That doesn't change my past impressions but it does leave room for new ones. Dr Kokhab is no longer running an urgent care and in the new office he has new personnel. I will be going back for follow up care.\"]\n",
            "['Blanca C.', 1.0, '3/4/2019', \"I needed shots of B12 and Toradol because I'm completely exhausted and in extreme pain and wanted to get in and simply get the shots and I was told no availability until April. Well my pain and exhaustion just comes with no warning. I'm going to have to look for another rheumy who can accommodate me. This is ridiculous.\"]\n",
            "['Gisela S.', 1.0, '2/29/2020', 'Made me feel like like my visit unimportant. Was sarcastic when I answered his questions regarding my health.']\n",
            "['Caroline B.', 1.0, '9/11/2020', 'I had couple of televisits with a Dr. Sadeghi from this office, very nice and knowledgable doctor and was happy with my visit; however, I had to change offices on account of how inefficiently this office was run. \\xa0It was a constant chase to try to make an appointment, have them provide the right paper work first time around, could not leave a message voice mail was full, phone would ring forever no one would pick up for the most part. I emailed requesting an appointment and got a call back eight days later. Cece the manager gave wrong info. to my insurance company noting that I had bone cancer, I do not. \\xa0She had to reapply correctly second time around without even an apology for her mistake to me. LOL total chaos.']\n",
            "['Cynthia V.', 5.0, '9/18/2019', 'I was just seen by Mary, the PA, today. Everyone in the office was professional, kind, & even personable. Yes, appointments are scheduled out a bit, but they actually got me in a little sooner, due to a cancellation. Frankly, it is worth the wait. I would rather have a hard time getting an appointment and get the treatment that I need and deserve, than get a sooner appointment with someone who rushes me in and out, vs Mary who took her time with me. She provided a very thorough exam, went over testing that had already been done by my primary and ENT, and ordered more testing. She does not do what I have had doctors do in the past... You know those doctors? The ones that give you medicine to try? I look forward to working with her more, and feeling a lot better!']\n",
            "['Lisa B.', 5.0, '7/18/2018', \"For years I have been suffering from bad migraines and overall aches and pain. \\xa0Just a simple touch to my body would trigger agonizing pain. It wasn't until I started sharing my problems with other family members who have been dealing with similar issues that they suggested that I go see a rheumatologist. \\xa0Thank goodness that I took their advice and found Dr. K. \\xa0The first time that I met with Dr. K, he immediately sent me out for labwork. I scheduled a follow up exam with Dr. K to review my lab results and after a thorough in-office examination Dr. K was able to diagnose me. \\xa0Dr. K has put me on a course of treatment that has done wonders for my headaches and has also helped make my pain more tolerable. \\xa0Dr. K is very knowledgeable and caring. \\xa0He really takes time to listen and I never feel rushed. \\xa0Another thing that I really appreciate about Dr. K is that he knows how I feel about taking medication. \\xa0He doesn't try to push me into taking anything that I'm not comfortable with. \\xa0He has no problem explaining recommended medications and their side effects. In fact, he even writes the medications down for me before I leave so that I can do my own research and ponder over my decision for our next visit. If you find yourself in a similar situation like mine, I would highly recommend Dr. K. \\xa0He is absolutely wonderful!\"]\n",
            "['Beth H.', 5.0, '1/20/2018', 'Dr Kokhab is an excellent dr he takes the time to talk to youHe explains things and does not over react.I highly recommend him']\n",
            "['Patricia S.', 5.0, '3/26/2019', \"Great doctor and staff. I've been a patient for almost 10 years. I also see Mary, the physician assistant, and she is the most caring doctor ever. She takes her time with you and you never feel rushed. Mary and Dr. Kokhab are very kind, caring, and knowledgeable doctors. I highly recommend them both.\"]\n",
            "['Mark M.', 1.0, '6/26/2019', \"I have gone to this office many times and wait for hours just for the Dr to say although I have positive labs for a condition he does not think that's what is the cause of my pain. In addition his demeanor is creepy I was very uncomfortable in a room with him every time. I would find another place to go.\"]\n",
            "['Steven C.', 1.0, '8/20/2018', \"Don't come to this office as they will give you a shot that may not cover by your insurance. \\xa0I later found out It cost only $5 copay on those shots to do it at home. \\xa0They will bill you $120 not covered by your insurance and not to tell you about it upfront. Those shots were samples provided by pharmaceutical firms. \\xa0No other doctors have charged me samples.\"]\n",
            "['Skylar K.', 5.0, '12/11/2019', 'I have been going to the nurse practitioner, Mary, here for more than 2 years now. From the very first time I came in, to now, Mary has been incredibly kind, caring and helpful. She is very well informed on how to treat her patients and I am very grateful to have her as my rheumatologist. I trust her completely and will continue to trust her as she treats me. The staff here are also very friendly and helpful whenever I have a problem with appointments or prescriptions, both on the phone and in person. I feel very lucky to have this group of staff.']\n",
            "['Sam P.', 5.0, '10/18/2018', \"I've been seen Dr. Mary here for 1 year now. I absolutely adore her. She takes the time to speak with you without rushing out the door and makes it personal rather than just a sterile environment. I hadn't seen her for 6 months due to my insurance changing, but when I went back she immediately asked me how my son was doing--she remembered. Not to mention she gets the job done and does whatever it takes to make you better. I went there barely being able to move because of my psoriatic arthritis. With her help (after my dermatologist failed me) she was able to get medication approved that worked for me and I went from a pain scale of 10 to a ZERO! This has allowed me to do everything a mommy needs to do for their 1 year old and I can't think her enough. I wen my there with a bleak outlook (self imposed) because I could barely move. It hurt to roll over in bed, couldn't get out of bed without help and couldn't even change my sons diaper without pain. I didn't think there was any hope until Mary. Truly thankful for my new quality of life because of Mary.The ONLY not so great thing I can say about this place is that it's sometimes difficult to reach somebody. I usually get VM when I try to schedule an appointment and have to keep calling back bc my calls are not returned in a timely manner. But, that's not Mary's fault!\"]\n",
            "['Valerie B.', 5.0, '12/4/2017', \"I'm a first time patient, who saw Dr. Kokhab today. Despite being 15 minutes late I was seen promptly and evaluated thoroughly. They pulled my medical records quickly too. This doctor is very professional and helpful. As I was leaving I noticed no one asked to schedule my follow up visit, but it's no biggie and then I got a call from them to make my follow up. 5 star \\xa0service!!!\"]\n",
            "['Katie P.', 5.0, '6/30/2015', 'Dr. Kokhab and his office are doing a great job treating me for fibromyalgia. \\xa0His whole office is very polite and caring. \\xa0They explained the condition to me in great detail and took my concerns about living on medication very seriously. \\xa0I appreciate Dr. Kokhab working with me to devise a live able treatment plan. \\xa0I highly recommend him!']\n",
            "['Elizabeth D.', 5.0, '4/14/2019', \"I'm into my second week of plant based eating since seeing Dr Kokhab. I am feeling so much better! Still can't believe what a difference it has made in my day to day activities. He is amazing and very knowledgeable. My body was wracked with pain that I was beyond exhausted and miserable!! I am so glad that my primary Physician, Dr Zuniga referred me to Dr Kokhab!!! I'm feeling more positive about my outlook for managing my pain and depression. Thank you Dr Kokhab.\"]\n",
            "['Cindi R.', 5.0, '4/17/2017', 'I had an appointment with Dr. Kokhab today. He listened and made some recommendations, that I will take into consideration.']\n",
            "['Theresa M.', 5.0, '5/29/2014', \"I can't say enough amazing things about Dr. Kokhab and his staff. I have been seen by so many doctors and no one was able to help and I was starting to loose hope that I would get better. Dr. Kokhab is amazing!! He saw me and ran all the proper blood tests but once we got the results (literally that day), he went into action. He explained all options, I mean all options in order to make sure that I felt comfortable with the decision. His staff is very friendly and calls you back when they say they are going too. Many offices get so busy that they forget about you, not this office. I have had some flair ups and the doctor waited for me to make sure that it wasn't anything worst than just a flair up (which if you get flair ups, you know how painful they can be). My husband and I are so thankful we found Dr. Kokhab and I would recommend this office to everyone and anyone that needs this type of specalist.\"]\n",
            "['Tanaya C.', 5.0, '3/7/2017', 'Well this was my first time going to an urgent care vs going to an emergency room...and i was extremely satisfied....i was seen in an timely matter and the janitors was constantly wiping the chairs and sanitizing them she also walked around with the broom sweeping..the front desk was kind, it was the man who worked the front desk that really caught my eye though...it was late and closing i was the last person to be seen, however a girl walked in with her hand bleeding he told them they were closed at first but to hold on and he walked to the back told the dr. And came back and said he didnt feel right turning them away....thats what i like to see... Well 5 stars from me']\n",
            "['Dawn L.', 5.0, '4/25/2019', \"Dr Marjan \\xa0Khaleghi is the best Rheumatologist. She is so compassionate for me. I can call and get in to see her within hours. When my pain is so severe she totally understands it. She really cares about you. She does everything right then and there before you leave her office. She makes sure to help your pain. I've never had a doctor get you in so fast , she will even skip her lunch to help me. I recommend her highly if you suffer from arthritis.\"]\n",
            "['Amanda S.', 5.0, '8/8/2016', \"Met with Mary, the nurse practitioner, and immediately felt at ease. She was so calm and approachable. She took the time to do a proper assessment, get a detailed history from me, and explain all my labs she was running thoroughly. At the follow up appointment, she again explained my results thoroughly and made sure I didn't have any questions before I left. You can tell she knows this specialty well, is passionate about it, and has a wonderful bedside manner.!\"]\n",
            "['Marc S.', 5.0, '1/10/2017', 'Simply the best! When there is a complicated problem He knows how to find the right solutions. Not only is he a great clinician, he really goes out of his way to help everyone on a deeper level. If he has food in the back office he will give it to his patients. He treats me like family. Thank you Dr K']\n",
            "['Lettie C.', 1.0, '7/9/2018', \"First time ever seeing a Rheumatologist and he didn't even order blood work or X-rays. \\xa0Sent me home with something for the pain that once I got it home read, do not take if you have asthma which I told him I did. \\xa0He told me to take it anyway, now I'm having to see a pulmonologist! \\xa0Terrible doctor.\"]\n",
            "['Chris R.', 5.0, '4/24/2018', \"Went to check out Dr. Morris Kokhab and didnt feel right. After the second and third appointment,I realized just how professional and caring Dr.Kokhab treats his patients.This M.D. is the best Rheumatologist in my opinion,that I have ever been treated by.I have been a retired Union Ironworker for some time and have been suffering from past injuries that's been attacking my body through some painful and difficult forms of arthritis.After several treatments \\xa0by Dr.Kokhab,for the first time in many many years, I felt a change in my condition.I still have a long journey ahead, but thanks to Dr.Kokhab the genius,I actually have hope.Thankyou Dr.Kokhab for your professionalism and your great knowledge.For the first time in years,I see the light.\"]\n",
            "['Julie. E.', 5.0, '12/30/2015', 'Dr. Kokhab is an awesome doctor he does not rush his appointments, takes time to answer all of your questions. Overall a very nice and warm person. He does all he could do to help you and resolve any issue you may have. His staff is great! If I could give him more stars i would=)']\n",
            "['Di M.', 5.0, '7/29/2015', 'I found Dr. Kokhab almost 2 years ago after moving from Chicago. \\xa0I did a lot of research and his reputation was excellent. \\xa0I was not disappointed! \\xa0Dr. Kokhab is compassionate, knowledgeable and respectful. \\xa0He will develop a plan of action and never make you feel you are being rushed out the door. His staff is very nice and professional. \\xa0There are 3 areas upon sign in. An eye specialist, urgent care and rheumatology. \\xa0So it appears busy upon entering but wait times are very good.']\n",
            "['Kirbeena D.', 5.0, '4/23/2013', 'Great place, really good doctor. \\xa0Actually looks at you when you talk to him. \\xa0Very pleased.']\n",
            "['ANGIE D.', 5.0, '6/23/2011', \"My husband is a patient of Dr. K and I have accompanied him on a couple of office visits. He was the only doctor who was able to quickly diagnose my husband's condition after countless visits to our PCP, other urgent care, and the ER. After beginning treatment the doctor called our home to check how my husband was doing. In addition to being a great doctor, he also has a wonderful staff. The staff is not only professional, but also very friendly, and helpful. Everyone at this office truly cares about the patients.\"]\n",
            "['Sara C.', 5.0, '4/27/2011', \"I saw Dr. Kokhab twice at the urgent care in Upland. I've had Fibromyalgia for 23 years now and I had just quit Norco 10-325 cold turkey after taking 5-6 pills a day for 5 years. Dr Kokhab helped me by giving me a non addictive medication similar to Tylenol and told me to make an appt at his office location to treat my Fibro. He seems like a very good Dr. and took his time twice to answer my questions and help me in any way he can. I will update you with more info after I see him tomorrow at his office.\"]\n",
            "['Melinda S.', 5.0, '8/24/2014', 'This doctor is brilliant, kind and thorough. \\xa0REALLY felt I was given his full attention, accurate diagnosis, treated promptly and effectively with an full explanation that I could understand. \\xa0Kudos to you Dr. Kokhab! \\xa0And, thank you for the excellent care.']\n",
            "['Julie P.', 5.0, '2/5/2013', \"OMG! This Urgent Care is great! Since I couldnt be seen at my regular Dr.'s office, not a good thing especially since I was having trouble breathing due to my asthma, I looked for an Urgent Care close to my house. I read the reviews for this location and they were all good. So I went. This place is so nice. Its pretty and clean, not like \\xa0the ones that look like a workmans comp place. I think I was there for almost an hour, including filling out paperwork and my treatment. Amanda was the nurse who helped me, she was Very nice. I recommend this place to anyone who wants or needs help right away. \\xa0Thank you , jparedes\"]\n"
          ]
        }
      ]
    },
    {
      "cell_type": "code",
      "source": [
        "# Test on one review first\n",
        "all_reviews[0][3]"
      ],
      "metadata": {
        "colab": {
          "base_uri": "https://localhost:8080/",
          "height": 107
        },
        "id": "lfhRNOBq9R4n",
        "outputId": "948fe099-5483-40cb-be34-7eaa5bbbd22a"
      },
      "execution_count": null,
      "outputs": [
        {
          "output_type": "execute_result",
          "data": {
            "text/plain": [
              "\"Awesome team, very knowledgeable. My wife was seen and recommended by Gloria Stevens, MD (who is also within the same business complex) -- we were seen rather quick, and quickly the doctor was able to get on the same page. She asked key questions, added a steroid to help cycle my wife off prednisone and was very helpful throughout the entire process. My wife left with comfort, and hope. My wife is battling an autoimmune disease which is 50/50 either Chrons or Henoch-Schonlein -- we're puzzling this all together and are hoping its just Henoch-Schonlein. We will know very soon as my wife has biopsies pending USC, and then a followup with the GI Doctor.Highly recommended.\""
            ],
            "application/vnd.google.colaboratory.intrinsic+json": {
              "type": "string"
            }
          },
          "metadata": {},
          "execution_count": 10
        }
      ]
    },
    {
      "cell_type": "code",
      "source": [
        "# creating an empty word list\n",
        "expanded_word = []    \n",
        "for word in all_reviews[0][3].split():\n",
        "  # using contractions.fix to expand the shotened words\n",
        "  expanded_word.append(contractions.fix(word))   \n",
        "\n",
        "# let's see the differences    \n",
        "expanded_text = ' '.join(expanded_word)\n",
        "print('Original text: ' + all_reviews[0][3])\n",
        "print('Expanded_text: ' + expanded_text)"
      ],
      "metadata": {
        "colab": {
          "base_uri": "https://localhost:8080/"
        },
        "id": "eEmvXOzh9gY1",
        "outputId": "95a704c6-c03e-456e-a504-98c29d22b836"
      },
      "execution_count": null,
      "outputs": [
        {
          "output_type": "stream",
          "name": "stdout",
          "text": [
            "Original text: Awesome team, very knowledgeable. My wife was seen and recommended by Gloria Stevens, MD (who is also within the same business complex) -- we were seen rather quick, and quickly the doctor was able to get on the same page. She asked key questions, added a steroid to help cycle my wife off prednisone and was very helpful throughout the entire process. My wife left with comfort, and hope. My wife is battling an autoimmune disease which is 50/50 either Chrons or Henoch-Schonlein -- we're puzzling this all together and are hoping its just Henoch-Schonlein. We will know very soon as my wife has biopsies pending USC, and then a followup with the GI Doctor.Highly recommended.\n",
            "Expanded_text: Awesome team, very knowledgeable. My wife was seen and recommended by Gloria Stevens, MD (who is also within the same business complex) -- we were seen rather quick, and quickly the doctor was able to get on the same page. She asked key questions, added a steroid to help cycle my wife off prednisone and was very helpful throughout the entire process. My wife left with comfort, and hope. My wife is battling an autoimmune disease which is 50/50 either Chrons or Henoch-Schonlein -- we are puzzling this all together and are hoping its just Henoch-Schonlein. We will know very soon as my wife has biopsies pending USC, and then a followup with the GI Doctor.Highly recommended.\n"
          ]
        }
      ]
    },
    {
      "cell_type": "code",
      "source": [
        "# Create a function to do contraction expansion for each input sentense\n",
        "def contractionExpansion(sentense):\n",
        "  expanded_word = []    \n",
        "  for word in sentense.split():\n",
        "  # using contractions.fix to expand the shotened words\n",
        "    expanded_word.append(contractions.fix(word))  \n",
        "  expanded_text = ' '.join(expanded_word) \n",
        "  return expanded_text"
      ],
      "metadata": {
        "id": "IZSEwAWd99PI"
      },
      "execution_count": null,
      "outputs": []
    },
    {
      "cell_type": "code",
      "source": [
        "# Convert every reviews in the list\n",
        "print('Original text: ' + all_reviews[-1][3])\n",
        "for i in range(len(all_reviews)):\n",
        "  all_reviews[i][3] = contractionExpansion(all_reviews[i][3])\n",
        "\n",
        "print('Expanded_text: ' + all_reviews[-1][3])"
      ],
      "metadata": {
        "colab": {
          "base_uri": "https://localhost:8080/"
        },
        "id": "wqf5fi-t_NZo",
        "outputId": "9cb10b35-c5da-4211-c5f6-0c6f9d570f32"
      },
      "execution_count": null,
      "outputs": [
        {
          "output_type": "stream",
          "name": "stdout",
          "text": [
            "Original text: OMG! This Urgent Care is great! Since I couldnt be seen at my regular Dr.'s office, not a good thing especially since I was having trouble breathing due to my asthma, I looked for an Urgent Care close to my house. I read the reviews for this location and they were all good. So I went. This place is so nice. Its pretty and clean, not like  the ones that look like a workmans comp place. I think I was there for almost an hour, including filling out paperwork and my treatment. Amanda was the nurse who helped me, she was Very nice. I recommend this place to anyone who wants or needs help right away.  Thank you , jparedes\n",
            "Expanded_text: OMG! This Urgent Care is great! Since I could not be seen at my regular Dr.'s office, not a good thing especially since I was having trouble breathing due to my asthma, I looked for an Urgent Care close to my house. I read the reviews for this location and they were all good. So I went. This place is so nice. Its pretty and clean, not like the ones that look like a workmans comp place. I think I was there for almost an hour, including filling out paperwork and my treatment. Amanda was the nurse who helped me, she was Very nice. I recommend this place to anyone who wants or needs help right away. Thank you , jparedes\n"
          ]
        }
      ]
    },
    {
      "cell_type": "code",
      "source": [
        "print(*all_reviews, sep= '\\n')"
      ],
      "metadata": {
        "colab": {
          "base_uri": "https://localhost:8080/"
        },
        "id": "uGj4V811AyMb",
        "outputId": "1b9a40ee-7e5a-4dd3-bbb5-0fd7a7ee17a0"
      },
      "execution_count": null,
      "outputs": [
        {
          "output_type": "stream",
          "name": "stdout",
          "text": [
            "['Dustin C.', 5.0, '11/4/2018', 'Awesome team, very knowledgeable. My wife was seen and recommended by Gloria Stevens, MD (who is also within the same business complex) -- we were seen rather quick, and quickly the doctor was able to get on the same page. She asked key questions, added a steroid to help cycle my wife off prednisone and was very helpful throughout the entire process. My wife left with comfort, and hope. My wife is battling an autoimmune disease which is 50/50 either Chrons or Henoch-Schonlein -- we are puzzling this all together and are hoping its just Henoch-Schonlein. We will know very soon as my wife has biopsies pending USC, and then a followup with the GI Doctor.Highly recommended.']\n",
            "['Shop 1.', 1.0, '7/14/2022', 'If you want to be berated and treated like dirt by the staff, then definitely call this office. Phone etiquette is zero & the way the staff speaks to callers certainly reflects on the doctors who allow it.']\n",
            "['Margot S.', 5.0, '2/23/2022', \"Dr. Sadeghi is an absolutely outstanding physician. He is extremely knowledgeable about rheumatological conditions and maintains an excellent bedside manner. At each visit he completes a thorough physical exam, checking for any new signs or symptoms of autoimmune disease. He answers all of my questions and concerns with patience and kindness. Dr. Sadeghi also encourages me to eat healthy, and try to get exercise. Of note, I had previously seen a very good physician at UCLA in the same specialty however, I chose Dr. Sadeghi as he addressed all of my concerns and has kept a close follow up schedule to ensure my condition does not deteriorate. Dr. Sadeghi's staff is always helpful and very professional. I am so grateful I found Upland Rheumatology!\"]\n",
            "['Maxine S.', 1.0, '11/23/2021', 'Dr KOHKAB- help!!! This clinic is going down fast. Mary does not listen and is a very poor provider.She took me off my meds out of the blue, does not listen- overbooks and I was rushed. This clinic is a mere shadow of what it used to be.']\n",
            "['Nana L.', 1.0, '10/6/2021', 'Good news and BAD news about this office. First, the office overcharged me and my husband for our co-pays for several visits and it took 3 Months and too many phone calls to get refunded. The office staff, primarily Cece are the rudest office personnel that I have ever come across. Very unhelpful and they just seem annoyed when they are speaking with you. Because of the previously mentioned issues and scheduling problems I asked for my records to be sent to my new Rheumatologist. Cece said to get the records myself from my primary doctor. My primary doctor has not received Any progress notes etc since 2019. That is the kind of customer service you get from that office and Cece. Dr Schumann was fine. The Good news is that because of that horrible office I found a fantastic Rheumatologist that I love and love his staff. They are kind and professional. Nothing like This office. Do not go there.']\n",
            "['Wendy D.', 1.0, '12/8/2021', 'Not only have they not responded to my post, they now will not refill my prescriptions- these are evil people; do not use this office']\n",
            "['Fatima P.', 1.0, '8/31/2021', 'DO NOT COME HERE! First of all I want to say professionalism is something that should be portrayed in every establishment of any sort. Cynthia \"the supposed manager\" made it very clear that professionalism is not valued here. She wreaked of alcohol and honestly seemed hung over. I would never support an establishment that allows this for their \"managers\" or any of their employees in general. When I arrived for my appointment she basically told me to F*ck off. Tell your insurance to send you elsewhere. NEVER AGAIN! Upland rheumatology center, do better...']\n",
            "['Adriana L.', 5.0, '5/15/2021', 'With the Covid-19 restrictions lifting I decided to come into the office to see a rheumatologist as my PCP recommend. I was seen by Dr. Stacey Schulman. Dr. Schulman has been a godsend! She listened to my concerns and symptoms. She was able to accurately diagnose me, and immediately start me on a plan. We are still working to find the right medication/dosage combination but I feel that I am in good hands. I have already noticed significant improvements. Thank you, Dr. Schulman.']\n",
            "['Gilbert C.', 1.0, '10/16/2020', 'Horrible Service! Tiffany and Karina are inconsiderate, rude and disrespectful! Do not go to this office. They cancel my wife medication because we did not respond to the pharmacy on when we would be available to pick up our medication while we were on vacation. They did not have have the right to cancel my wife prescription that was approved. They are asking her for her to go on for lab work. This medication does not require lab work. They do not know why they are doing. After speaking to the doctor today, he agreed with us that lab work is not required! They do not bother to call the doctor and they could not provide the name of the office manager who was on vacation or unavailable until 5 days later. Would not recommend the office whatsoever!']\n",
            "['Mina I.', 5.0, '6/15/2021', \"I have been Dr. Najafabadi's patient for a couple years and have always been very pleased with the care and attention I have received from him. He is very knowledgeable, professional and caring. His staff are also courteous and professional. Great experience overall!\"]\n",
            "['Christina U.', 1.0, '12/9/2019', 'Cece the office manager is the most unprofessional person. I will be switching offices. Save the stress and go somewhere else!']\n",
            "['Rilee C.', 1.0, '10/23/2020', 'I have been trying to get an appointment with a rheumatologist here for several weeks. I initially called in the middle of the day, got a really rude woman who wanted me, personally, to collect my files, even though I would signed paperwork so it could be released to them upon their request, before she would even put me in the appointment book.I had my files faxed over, called back not 15 minutes later, got put on hold while someone \"checks for my file\". I am on hold so long, the hold system hangs up on me. I call back immediately, I get their voicemail; they have mysteriously closed in the middle of their stated business hours, while a patient is sitting on hold and they are supposedly doing something for that patient. I wonder if it is just that all lines are busy, so I call a few more times over the next hour; nothing.I called during business hours the next day, someone picked up and put me on hold, I waited several minutes, the phone\\'s hold system hung up on me, again, because I would been on hold too long. I called back, and, again, middle of stated business hours, they were mysteriously closed. Again, tried to call several more times over the next hour; nothing.This happened several times, over the course of several days, with me leaving voicemails with my contact info whenever I got their voicemail box. No calls back, no voicemails for me, nothing.I *finally* got someone on the line the other day willing to actually get me an appointment; I asked (politely) what is going on, as I have received *no contact whatsoever* from the office. I received a shirty comment about them calling and leaving me a voicemail ages ago (as I am looking directly at my call logs madam; nothing from you guys!). I ask what number they were calling, as I would continued leaving messages since the date they would supposedly called me.Instead of calling the number I kept leaving, over and over again on my voicemails, they supposedly called a number that I have not left them at all, that was in my healthcare paperwork that had been faxed over. A number that at no point has been my primary contact number, and has not been put in any of my paperwork in the last 7 months. My contact number I kept leaving in voicemails is literally in there in my gp contact info with no other phone number. The only way they would have the old one is by going into my insurance info and bypassing *all my current information* to get to the old stuff. Madam, you did not leave a voicemail at that old number; that number *has not been active* since the beginning of the pandemic. I am pretty sure the voicemail for it does not even work anymore; a distant relative tried calling not 2 days after the center supposedly called and it had not even been re-allocated to another person yet and was completely out of service, with no ability to leave voicemails.I have not even had the chance to see a doctor yet, and this place is already pretty sus. I am genuinely hoping actually seeing the doctor will change my mind about this place, and will update my review afterward.']\n",
            "['Michael L.', 1.0, '12/18/2018', 'I was there cup of times, never seem by the Dr. him self. Always told me he was busy, and seem by his nurse practitioner. She does not have the knowledge to see patients by herself.Mistreated my condition, and prescribed a medication with lots of side effects just to test it out.Stay away this horrible office. And try to get seem with a Doctor that have time for his patients!']\n",
            "['Sharyn H.', 4.0, '3/11/2020', 'I accept the explanation given for the circumstances I encountered. That does not change my past impressions but it does leave room for new ones. Dr Kokhab is no longer running an urgent care and in the new office he has new personnel. I will be going back for follow up care.']\n",
            "['Blanca C.', 1.0, '3/4/2019', 'I needed shots of B12 and Toradol because I am completely exhausted and in extreme pain and wanted to get in and simply get the shots and I was told no availability until April. Well my pain and exhaustion just comes with no warning. I am going to have to look for another rheumy who can accommodate me. This is ridiculous.']\n",
            "['Gisela S.', 1.0, '2/29/2020', 'Made me feel like like my visit unimportant. Was sarcastic when I answered his questions regarding my health.']\n",
            "['Caroline B.', 1.0, '9/11/2020', 'I had couple of televisits with a Dr. Sadeghi from this office, very nice and knowledgable doctor and was happy with my visit; however, I had to change offices on account of how inefficiently this office was run. It was a constant chase to try to make an appointment, have them provide the right paper work first time around, could not leave a message voice mail was full, phone would ring forever no one would pick up for the most part. I emailed requesting an appointment and got a call back eight days later. Cece the manager gave wrong info. to my insurance company noting that I had bone cancer, I do not. She had to reapply correctly second time around without even an apology for her mistake to me. LOL total chaos.']\n",
            "['Cynthia V.', 5.0, '9/18/2019', 'I was just seen by Mary, the PA, today. Everyone in the office was professional, kind, & even personable. Yes, appointments are scheduled out a bit, but they actually got me in a little sooner, due to a cancellation. Frankly, it is worth the wait. I would rather have a hard time getting an appointment and get the treatment that I need and deserve, than get a sooner appointment with someone who rushes me in and out, vs Mary who took her time with me. She provided a very thorough exam, went over testing that had already been done by my primary and ENT, and ordered more testing. She does not do what I have had doctors do in the past... You know those doctors? The ones that give you medicine to try? I look forward to working with her more, and feeling a lot better!']\n",
            "['Lisa B.', 5.0, '7/18/2018', 'For years I have been suffering from bad migraines and overall aches and pain. Just a simple touch to my body would trigger agonizing pain. It was not until I started sharing my problems with other family members who have been dealing with similar issues that they suggested that I go see a rheumatologist. Thank goodness that I took their advice and found Dr. K. The first time that I met with Dr. K, he immediately sent me out for labwork. I scheduled a follow up exam with Dr. K to review my lab results and after a thorough in-office examination Dr. K was able to diagnose me. Dr. K has put me on a course of treatment that has done wonders for my headaches and has also helped make my pain more tolerable. Dr. K is very knowledgeable and caring. He really takes time to listen and I never feel rushed. Another thing that I really appreciate about Dr. K is that he knows how I feel about taking medication. He does not try to push me into taking anything that I am not comfortable with. He has no problem explaining recommended medications and their side effects. In fact, he even writes the medications down for me before I leave so that I can do my own research and ponder over my decision for our next visit. If you find yourself in a similar situation like mine, I would highly recommend Dr. K. He is absolutely wonderful!']\n",
            "['Beth H.', 5.0, '1/20/2018', 'Dr Kokhab is an excellent dr he takes the time to talk to youHe explains things and does not over react.I highly recommend him']\n",
            "['Patricia S.', 5.0, '3/26/2019', 'Great doctor and staff. I have been a patient for almost 10 years. I also see Mary, the physician assistant, and she is the most caring doctor ever. She takes her time with you and you never feel rushed. Mary and Dr. Kokhab are very kind, caring, and knowledgeable doctors. I highly recommend them both.']\n",
            "['Mark M.', 1.0, '6/26/2019', 'I have gone to this office many times and wait for hours just for the Dr to say although I have positive labs for a condition he does not think that is what is the because of my pain. In addition his demeanor is creepy I was very uncomfortable in a room with him every time. I would find another place to go.']\n",
            "['Steven C.', 1.0, '8/20/2018', 'Do not come to this office as they will give you a shot that may not cover by your insurance. I later found out It cost only $5 copay on those shots to do it at home. They will bill you $120 not covered by your insurance and not to tell you about it upfront. Those shots were samples provided by pharmaceutical firms. No other doctors have charged me samples.']\n",
            "['Skylar K.', 5.0, '12/11/2019', 'I have been going to the nurse practitioner, Mary, here for more than 2 years now. From the very first time I came in, to now, Mary has been incredibly kind, caring and helpful. She is very well informed on how to treat her patients and I am very grateful to have her as my rheumatologist. I trust her completely and will continue to trust her as she treats me. The staff here are also very friendly and helpful whenever I have a problem with appointments or prescriptions, both on the phone and in person. I feel very lucky to have this group of staff.']\n",
            "['Sam P.', 5.0, '10/18/2018', \"I have been seen Dr. Mary here for 1 year now. I absolutely adore her. She takes the time to speak with you without rushing out the door and makes it personal rather than just a sterile environment. I had not seen her for 6 months due to my insurance changing, but when I went back she immediately asked me how my son was doing--she remembered. Not to mention she gets the job done and does whatever it takes to make you better. I went there barely being able to move because of my psoriatic arthritis. With her help (after my dermatologist failed me) she was able to get medication approved that worked for me and I went from a pain scale of 10 to a ZERO! This has allowed me to do everything a mommy needs to do for their 1 year old and I cannot think her enough. I wen my there with a bleak outlook (self imposed) because I could barely move. It hurt to roll over in bed, could not get out of bed without help and could not even change my sons diaper without pain. I did not think there was any hope until Mary. Truly thankful for my new quality of life because of Mary.The ONLY not so great thing I can say about this place is that it is sometimes difficult to reach somebody. I usually get VM when I try to schedule an appointment and have to keep calling back because my calls are not returned in a timely manner. But, that is not Mary's fault!\"]\n",
            "['Valerie B.', 5.0, '12/4/2017', 'I am a first time patient, who saw Dr. Kokhab today. Despite being 15 minutes late I was seen promptly and evaluated thoroughly. They pulled my medical records quickly too. This doctor is very professional and helpful. As I was leaving I noticed no one asked to schedule my follow up visit, but it is no biggie and then I got a call from them to make my follow up. 5 star service!!!']\n",
            "['Katie P.', 5.0, '6/30/2015', 'Dr. Kokhab and his office are doing a great job treating me for fibromyalgia. His whole office is very polite and caring. They explained the condition to me in great detail and took my concerns about living on medication very seriously. I appreciate Dr. Kokhab working with me to devise a live able treatment plan. I highly recommend him!']\n",
            "['Elizabeth D.', 5.0, '4/14/2019', 'I am into my second week of plant based eating since seeing Dr Kokhab. I am feeling so much better! Still cannot believe what a difference it has made in my day to day activities. He is amazing and very knowledgeable. My body was wracked with pain that I was beyond exhausted and miserable!! I am so glad that my primary Physician, Dr Zuniga referred me to Dr Kokhab!!! I am feeling more positive about my outlook for managing my pain and depression. Thank you Dr Kokhab.']\n",
            "['Cindi R.', 5.0, '4/17/2017', 'I had an appointment with Dr. Kokhab today. He listened and made some recommendations, that I will take into consideration.']\n",
            "['Theresa M.', 5.0, '5/29/2014', 'I cannot say enough amazing things about Dr. Kokhab and his staff. I have been seen by so many doctors and no one was able to help and I was starting to loose hope that I would get better. Dr. Kokhab is amazing!! He saw me and ran all the proper blood tests but once we got the results (literally that day), he went into action. He explained all options, I mean all options in order to make sure that I felt comfortable with the decision. His staff is very friendly and calls you back when they say they are going too. Many offices get so busy that they forget about you, not this office. I have had some flair ups and the doctor waited for me to make sure that it was not anything worst than just a flair up (which if you get flair ups, you know how painful they can be). My husband and I are so thankful we found Dr. Kokhab and I would recommend this office to everyone and anyone that needs this type of specalist.']\n",
            "['Tanaya C.', 5.0, '3/7/2017', 'Well this was my first time going to an urgent care vs going to an emergency room...and i was extremely satisfied....i was seen in an timely matter and the janitors was constantly wiping the chairs and sanitizing them she also walked around with the broom sweeping..the front desk was kind, it was the man who worked the front desk that really caught my eye though...it was late and closing i was the last person to be seen, however a girl walked in with her hand bleeding he told them they were closed at first but to hold on and he walked to the back told the dr. And came back and said he did not feel right turning them away....that is what i like to see... Well 5 stars from me']\n",
            "['Dawn L.', 5.0, '4/25/2019', 'Dr Marjan Khaleghi is the best Rheumatologist. She is so compassionate for me. I can call and get in to see her within hours. When my pain is so severe she totally understands it. She really cares about you. She does everything right then and there before you leave her office. She makes sure to help your pain. I have never had a doctor get you in so fast , she will even skip her lunch to help me. I recommend her highly if you suffer from arthritis.']\n",
            "['Amanda S.', 5.0, '8/8/2016', 'Met with Mary, the nurse practitioner, and immediately felt at ease. She was so calm and approachable. She took the time to do a proper assessment, get a detailed history from me, and explain all my labs she was running thoroughly. At the follow up appointment, she again explained my results thoroughly and made sure I did not have any questions before I left. You can tell she knows this specialty well, is passionate about it, and has a wonderful bedside manner.!']\n",
            "['Marc S.', 5.0, '1/10/2017', 'Simply the best! When there is a complicated problem He knows how to find the right solutions. Not only is he a great clinician, he really goes out of his way to help everyone on a deeper level. If he has food in the back office he will give it to his patients. He treats me like family. Thank you Dr K']\n",
            "['Lettie C.', 1.0, '7/9/2018', 'First time ever seeing a Rheumatologist and he did not even order blood work or X-rays. Sent me home with something for the pain that once I got it home read, do not take if you have asthma which I told him I did. He told me to take it anyway, now I am having to see a pulmonologist! Terrible doctor.']\n",
            "['Chris R.', 5.0, '4/24/2018', 'Went to check out Dr. Morris Kokhab and did not feel right. After the second and third appointment,I realized just how professional and caring Dr.Kokhab treats his patients.This M.D. is the best Rheumatologist in my opinion,that I have ever been treated by.I have been a retired Union Ironworker for some time and have been suffering from past injuries that is been attacking my body through some painful and difficult forms of arthritis.After several treatments by Dr.Kokhab,for the first time in many many years, I felt a change in my condition.I still have a long journey ahead, but thanks to Dr.Kokhab the genius,I actually have hope.Thankyou Dr.Kokhab for your professionalism and your great knowledge.For the first time in years,I see the light.']\n",
            "['Julie. E.', 5.0, '12/30/2015', 'Dr. Kokhab is an awesome doctor he does not rush his appointments, takes time to answer all of your questions. Overall a very nice and warm person. He does all he could do to help you and resolve any issue you may have. His staff is great! If I could give him more stars i would=)']\n",
            "['Di M.', 5.0, '7/29/2015', 'I found Dr. Kokhab almost 2 years ago after moving from Chicago. I did a lot of research and his reputation was excellent. I was not disappointed! Dr. Kokhab is compassionate, knowledgeable and respectful. He will develop a plan of action and never make you feel you are being rushed out the door. His staff is very nice and professional. There are 3 areas upon sign in. An eye specialist, urgent care and rheumatology. So it appears busy upon entering but wait times are very good.']\n",
            "['Kirbeena D.', 5.0, '4/23/2013', 'Great place, really good doctor. Actually looks at you when you talk to him. Very pleased.']\n",
            "['ANGIE D.', 5.0, '6/23/2011', \"My husband is a patient of Dr. K and I have accompanied him on a couple of office visits. He was the only doctor who was able to quickly diagnose my husband's condition after countless visits to our PCP, other urgent care, and the ER. After beginning treatment the doctor called our home to check how my husband was doing. In addition to being a great doctor, he also has a wonderful staff. The staff is not only professional, but also very friendly, and helpful. Everyone at this office truly cares about the patients.\"]\n",
            "['Sara C.', 5.0, '4/27/2011', 'I saw Dr. Kokhab twice at the urgent care in Upland. I have had Fibromyalgia for 23 years now and I had just quit Norco 10-325 cold turkey after taking 5-6 pills a day for 5 years. Dr Kokhab helped me by giving me a non addictive medication similar to Tylenol and told me to make an appt at his office location to treat my Fibro. He seems like a very good Dr. and took his time twice to answer my questions and help me in any way he can. I will update you with more info after I see him tomorrow at his office.']\n",
            "['Melinda S.', 5.0, '8/24/2014', 'This doctor is brilliant, kind and thorough. REALLY felt I was given his full attention, accurate diagnosis, treated promptly and effectively with an full explanation that I could understand. Kudos to you Dr. Kokhab! And, thank you for the excellent care.']\n",
            "['Julie P.', 5.0, '2/5/2013', \"OMG! This Urgent Care is great! Since I could not be seen at my regular Dr.'s office, not a good thing especially since I was having trouble breathing due to my asthma, I looked for an Urgent Care close to my house. I read the reviews for this location and they were all good. So I went. This place is so nice. Its pretty and clean, not like the ones that look like a workmans comp place. I think I was there for almost an hour, including filling out paperwork and my treatment. Amanda was the nurse who helped me, she was Very nice. I recommend this place to anyone who wants or needs help right away. Thank you , jparedes\"]\n"
          ]
        }
      ]
    },
    {
      "cell_type": "code",
      "source": [
        "# Get all the review contents\n",
        "reviews = []\n",
        "for i in range(len(all_reviews)):\n",
        "  reviews.append(all_reviews[i][3])\n",
        "print(*reviews, sep= '\\n')"
      ],
      "metadata": {
        "colab": {
          "base_uri": "https://localhost:8080/"
        },
        "id": "ds8eXC_VA2y6",
        "outputId": "b5c64e9a-8bec-4c47-c0d9-1264bb64ed7e"
      },
      "execution_count": null,
      "outputs": [
        {
          "output_type": "stream",
          "name": "stdout",
          "text": [
            "Awesome team, very knowledgeable. My wife was seen and recommended by Gloria Stevens, MD (who is also within the same business complex) -- we were seen rather quick, and quickly the doctor was able to get on the same page. She asked key questions, added a steroid to help cycle my wife off prednisone and was very helpful throughout the entire process. My wife left with comfort, and hope. My wife is battling an autoimmune disease which is 50/50 either Chrons or Henoch-Schonlein -- we are puzzling this all together and are hoping its just Henoch-Schonlein. We will know very soon as my wife has biopsies pending USC, and then a followup with the GI Doctor.Highly recommended.\n",
            "If you want to be berated and treated like dirt by the staff, then definitely call this office. Phone etiquette is zero & the way the staff speaks to callers certainly reflects on the doctors who allow it.\n",
            "Dr. Sadeghi is an absolutely outstanding physician. He is extremely knowledgeable about rheumatological conditions and maintains an excellent bedside manner. At each visit he completes a thorough physical exam, checking for any new signs or symptoms of autoimmune disease. He answers all of my questions and concerns with patience and kindness. Dr. Sadeghi also encourages me to eat healthy, and try to get exercise. Of note, I had previously seen a very good physician at UCLA in the same specialty however, I chose Dr. Sadeghi as he addressed all of my concerns and has kept a close follow up schedule to ensure my condition does not deteriorate. Dr. Sadeghi's staff is always helpful and very professional. I am so grateful I found Upland Rheumatology!\n",
            "Dr KOHKAB- help!!! This clinic is going down fast. Mary does not listen and is a very poor provider.She took me off my meds out of the blue, does not listen- overbooks and I was rushed. This clinic is a mere shadow of what it used to be.\n",
            "Good news and BAD news about this office. First, the office overcharged me and my husband for our co-pays for several visits and it took 3 Months and too many phone calls to get refunded. The office staff, primarily Cece are the rudest office personnel that I have ever come across. Very unhelpful and they just seem annoyed when they are speaking with you. Because of the previously mentioned issues and scheduling problems I asked for my records to be sent to my new Rheumatologist. Cece said to get the records myself from my primary doctor. My primary doctor has not received Any progress notes etc since 2019. That is the kind of customer service you get from that office and Cece. Dr Schumann was fine. The Good news is that because of that horrible office I found a fantastic Rheumatologist that I love and love his staff. They are kind and professional. Nothing like This office. Do not go there.\n",
            "Not only have they not responded to my post, they now will not refill my prescriptions- these are evil people; do not use this office\n",
            "DO NOT COME HERE! First of all I want to say professionalism is something that should be portrayed in every establishment of any sort. Cynthia \"the supposed manager\" made it very clear that professionalism is not valued here. She wreaked of alcohol and honestly seemed hung over. I would never support an establishment that allows this for their \"managers\" or any of their employees in general. When I arrived for my appointment she basically told me to F*ck off. Tell your insurance to send you elsewhere. NEVER AGAIN! Upland rheumatology center, do better...\n",
            "With the Covid-19 restrictions lifting I decided to come into the office to see a rheumatologist as my PCP recommend. I was seen by Dr. Stacey Schulman. Dr. Schulman has been a godsend! She listened to my concerns and symptoms. She was able to accurately diagnose me, and immediately start me on a plan. We are still working to find the right medication/dosage combination but I feel that I am in good hands. I have already noticed significant improvements. Thank you, Dr. Schulman.\n",
            "Horrible Service! Tiffany and Karina are inconsiderate, rude and disrespectful! Do not go to this office. They cancel my wife medication because we did not respond to the pharmacy on when we would be available to pick up our medication while we were on vacation. They did not have have the right to cancel my wife prescription that was approved. They are asking her for her to go on for lab work. This medication does not require lab work. They do not know why they are doing. After speaking to the doctor today, he agreed with us that lab work is not required! They do not bother to call the doctor and they could not provide the name of the office manager who was on vacation or unavailable until 5 days later. Would not recommend the office whatsoever!\n",
            "I have been Dr. Najafabadi's patient for a couple years and have always been very pleased with the care and attention I have received from him. He is very knowledgeable, professional and caring. His staff are also courteous and professional. Great experience overall!\n",
            "Cece the office manager is the most unprofessional person. I will be switching offices. Save the stress and go somewhere else!\n",
            "I have been trying to get an appointment with a rheumatologist here for several weeks. I initially called in the middle of the day, got a really rude woman who wanted me, personally, to collect my files, even though I would signed paperwork so it could be released to them upon their request, before she would even put me in the appointment book.I had my files faxed over, called back not 15 minutes later, got put on hold while someone \"checks for my file\". I am on hold so long, the hold system hangs up on me. I call back immediately, I get their voicemail; they have mysteriously closed in the middle of their stated business hours, while a patient is sitting on hold and they are supposedly doing something for that patient. I wonder if it is just that all lines are busy, so I call a few more times over the next hour; nothing.I called during business hours the next day, someone picked up and put me on hold, I waited several minutes, the phone's hold system hung up on me, again, because I would been on hold too long. I called back, and, again, middle of stated business hours, they were mysteriously closed. Again, tried to call several more times over the next hour; nothing.This happened several times, over the course of several days, with me leaving voicemails with my contact info whenever I got their voicemail box. No calls back, no voicemails for me, nothing.I *finally* got someone on the line the other day willing to actually get me an appointment; I asked (politely) what is going on, as I have received *no contact whatsoever* from the office. I received a shirty comment about them calling and leaving me a voicemail ages ago (as I am looking directly at my call logs madam; nothing from you guys!). I ask what number they were calling, as I would continued leaving messages since the date they would supposedly called me.Instead of calling the number I kept leaving, over and over again on my voicemails, they supposedly called a number that I have not left them at all, that was in my healthcare paperwork that had been faxed over. A number that at no point has been my primary contact number, and has not been put in any of my paperwork in the last 7 months. My contact number I kept leaving in voicemails is literally in there in my gp contact info with no other phone number. The only way they would have the old one is by going into my insurance info and bypassing *all my current information* to get to the old stuff. Madam, you did not leave a voicemail at that old number; that number *has not been active* since the beginning of the pandemic. I am pretty sure the voicemail for it does not even work anymore; a distant relative tried calling not 2 days after the center supposedly called and it had not even been re-allocated to another person yet and was completely out of service, with no ability to leave voicemails.I have not even had the chance to see a doctor yet, and this place is already pretty sus. I am genuinely hoping actually seeing the doctor will change my mind about this place, and will update my review afterward.\n",
            "I was there cup of times, never seem by the Dr. him self. Always told me he was busy, and seem by his nurse practitioner. She does not have the knowledge to see patients by herself.Mistreated my condition, and prescribed a medication with lots of side effects just to test it out.Stay away this horrible office. And try to get seem with a Doctor that have time for his patients!\n",
            "I accept the explanation given for the circumstances I encountered. That does not change my past impressions but it does leave room for new ones. Dr Kokhab is no longer running an urgent care and in the new office he has new personnel. I will be going back for follow up care.\n",
            "I needed shots of B12 and Toradol because I am completely exhausted and in extreme pain and wanted to get in and simply get the shots and I was told no availability until April. Well my pain and exhaustion just comes with no warning. I am going to have to look for another rheumy who can accommodate me. This is ridiculous.\n",
            "Made me feel like like my visit unimportant. Was sarcastic when I answered his questions regarding my health.\n",
            "I had couple of televisits with a Dr. Sadeghi from this office, very nice and knowledgable doctor and was happy with my visit; however, I had to change offices on account of how inefficiently this office was run. It was a constant chase to try to make an appointment, have them provide the right paper work first time around, could not leave a message voice mail was full, phone would ring forever no one would pick up for the most part. I emailed requesting an appointment and got a call back eight days later. Cece the manager gave wrong info. to my insurance company noting that I had bone cancer, I do not. She had to reapply correctly second time around without even an apology for her mistake to me. LOL total chaos.\n",
            "I was just seen by Mary, the PA, today. Everyone in the office was professional, kind, & even personable. Yes, appointments are scheduled out a bit, but they actually got me in a little sooner, due to a cancellation. Frankly, it is worth the wait. I would rather have a hard time getting an appointment and get the treatment that I need and deserve, than get a sooner appointment with someone who rushes me in and out, vs Mary who took her time with me. She provided a very thorough exam, went over testing that had already been done by my primary and ENT, and ordered more testing. She does not do what I have had doctors do in the past... You know those doctors? The ones that give you medicine to try? I look forward to working with her more, and feeling a lot better!\n",
            "For years I have been suffering from bad migraines and overall aches and pain. Just a simple touch to my body would trigger agonizing pain. It was not until I started sharing my problems with other family members who have been dealing with similar issues that they suggested that I go see a rheumatologist. Thank goodness that I took their advice and found Dr. K. The first time that I met with Dr. K, he immediately sent me out for labwork. I scheduled a follow up exam with Dr. K to review my lab results and after a thorough in-office examination Dr. K was able to diagnose me. Dr. K has put me on a course of treatment that has done wonders for my headaches and has also helped make my pain more tolerable. Dr. K is very knowledgeable and caring. He really takes time to listen and I never feel rushed. Another thing that I really appreciate about Dr. K is that he knows how I feel about taking medication. He does not try to push me into taking anything that I am not comfortable with. He has no problem explaining recommended medications and their side effects. In fact, he even writes the medications down for me before I leave so that I can do my own research and ponder over my decision for our next visit. If you find yourself in a similar situation like mine, I would highly recommend Dr. K. He is absolutely wonderful!\n",
            "Dr Kokhab is an excellent dr he takes the time to talk to youHe explains things and does not over react.I highly recommend him\n",
            "Great doctor and staff. I have been a patient for almost 10 years. I also see Mary, the physician assistant, and she is the most caring doctor ever. She takes her time with you and you never feel rushed. Mary and Dr. Kokhab are very kind, caring, and knowledgeable doctors. I highly recommend them both.\n",
            "I have gone to this office many times and wait for hours just for the Dr to say although I have positive labs for a condition he does not think that is what is the because of my pain. In addition his demeanor is creepy I was very uncomfortable in a room with him every time. I would find another place to go.\n",
            "Do not come to this office as they will give you a shot that may not cover by your insurance. I later found out It cost only $5 copay on those shots to do it at home. They will bill you $120 not covered by your insurance and not to tell you about it upfront. Those shots were samples provided by pharmaceutical firms. No other doctors have charged me samples.\n",
            "I have been going to the nurse practitioner, Mary, here for more than 2 years now. From the very first time I came in, to now, Mary has been incredibly kind, caring and helpful. She is very well informed on how to treat her patients and I am very grateful to have her as my rheumatologist. I trust her completely and will continue to trust her as she treats me. The staff here are also very friendly and helpful whenever I have a problem with appointments or prescriptions, both on the phone and in person. I feel very lucky to have this group of staff.\n",
            "I have been seen Dr. Mary here for 1 year now. I absolutely adore her. She takes the time to speak with you without rushing out the door and makes it personal rather than just a sterile environment. I had not seen her for 6 months due to my insurance changing, but when I went back she immediately asked me how my son was doing--she remembered. Not to mention she gets the job done and does whatever it takes to make you better. I went there barely being able to move because of my psoriatic arthritis. With her help (after my dermatologist failed me) she was able to get medication approved that worked for me and I went from a pain scale of 10 to a ZERO! This has allowed me to do everything a mommy needs to do for their 1 year old and I cannot think her enough. I wen my there with a bleak outlook (self imposed) because I could barely move. It hurt to roll over in bed, could not get out of bed without help and could not even change my sons diaper without pain. I did not think there was any hope until Mary. Truly thankful for my new quality of life because of Mary.The ONLY not so great thing I can say about this place is that it is sometimes difficult to reach somebody. I usually get VM when I try to schedule an appointment and have to keep calling back because my calls are not returned in a timely manner. But, that is not Mary's fault!\n",
            "I am a first time patient, who saw Dr. Kokhab today. Despite being 15 minutes late I was seen promptly and evaluated thoroughly. They pulled my medical records quickly too. This doctor is very professional and helpful. As I was leaving I noticed no one asked to schedule my follow up visit, but it is no biggie and then I got a call from them to make my follow up. 5 star service!!!\n",
            "Dr. Kokhab and his office are doing a great job treating me for fibromyalgia. His whole office is very polite and caring. They explained the condition to me in great detail and took my concerns about living on medication very seriously. I appreciate Dr. Kokhab working with me to devise a live able treatment plan. I highly recommend him!\n",
            "I am into my second week of plant based eating since seeing Dr Kokhab. I am feeling so much better! Still cannot believe what a difference it has made in my day to day activities. He is amazing and very knowledgeable. My body was wracked with pain that I was beyond exhausted and miserable!! I am so glad that my primary Physician, Dr Zuniga referred me to Dr Kokhab!!! I am feeling more positive about my outlook for managing my pain and depression. Thank you Dr Kokhab.\n",
            "I had an appointment with Dr. Kokhab today. He listened and made some recommendations, that I will take into consideration.\n",
            "I cannot say enough amazing things about Dr. Kokhab and his staff. I have been seen by so many doctors and no one was able to help and I was starting to loose hope that I would get better. Dr. Kokhab is amazing!! He saw me and ran all the proper blood tests but once we got the results (literally that day), he went into action. He explained all options, I mean all options in order to make sure that I felt comfortable with the decision. His staff is very friendly and calls you back when they say they are going too. Many offices get so busy that they forget about you, not this office. I have had some flair ups and the doctor waited for me to make sure that it was not anything worst than just a flair up (which if you get flair ups, you know how painful they can be). My husband and I are so thankful we found Dr. Kokhab and I would recommend this office to everyone and anyone that needs this type of specalist.\n",
            "Well this was my first time going to an urgent care vs going to an emergency room...and i was extremely satisfied....i was seen in an timely matter and the janitors was constantly wiping the chairs and sanitizing them she also walked around with the broom sweeping..the front desk was kind, it was the man who worked the front desk that really caught my eye though...it was late and closing i was the last person to be seen, however a girl walked in with her hand bleeding he told them they were closed at first but to hold on and he walked to the back told the dr. And came back and said he did not feel right turning them away....that is what i like to see... Well 5 stars from me\n",
            "Dr Marjan Khaleghi is the best Rheumatologist. She is so compassionate for me. I can call and get in to see her within hours. When my pain is so severe she totally understands it. She really cares about you. She does everything right then and there before you leave her office. She makes sure to help your pain. I have never had a doctor get you in so fast , she will even skip her lunch to help me. I recommend her highly if you suffer from arthritis.\n",
            "Met with Mary, the nurse practitioner, and immediately felt at ease. She was so calm and approachable. She took the time to do a proper assessment, get a detailed history from me, and explain all my labs she was running thoroughly. At the follow up appointment, she again explained my results thoroughly and made sure I did not have any questions before I left. You can tell she knows this specialty well, is passionate about it, and has a wonderful bedside manner.!\n",
            "Simply the best! When there is a complicated problem He knows how to find the right solutions. Not only is he a great clinician, he really goes out of his way to help everyone on a deeper level. If he has food in the back office he will give it to his patients. He treats me like family. Thank you Dr K\n",
            "First time ever seeing a Rheumatologist and he did not even order blood work or X-rays. Sent me home with something for the pain that once I got it home read, do not take if you have asthma which I told him I did. He told me to take it anyway, now I am having to see a pulmonologist! Terrible doctor.\n",
            "Went to check out Dr. Morris Kokhab and did not feel right. After the second and third appointment,I realized just how professional and caring Dr.Kokhab treats his patients.This M.D. is the best Rheumatologist in my opinion,that I have ever been treated by.I have been a retired Union Ironworker for some time and have been suffering from past injuries that is been attacking my body through some painful and difficult forms of arthritis.After several treatments by Dr.Kokhab,for the first time in many many years, I felt a change in my condition.I still have a long journey ahead, but thanks to Dr.Kokhab the genius,I actually have hope.Thankyou Dr.Kokhab for your professionalism and your great knowledge.For the first time in years,I see the light.\n",
            "Dr. Kokhab is an awesome doctor he does not rush his appointments, takes time to answer all of your questions. Overall a very nice and warm person. He does all he could do to help you and resolve any issue you may have. His staff is great! If I could give him more stars i would=)\n",
            "I found Dr. Kokhab almost 2 years ago after moving from Chicago. I did a lot of research and his reputation was excellent. I was not disappointed! Dr. Kokhab is compassionate, knowledgeable and respectful. He will develop a plan of action and never make you feel you are being rushed out the door. His staff is very nice and professional. There are 3 areas upon sign in. An eye specialist, urgent care and rheumatology. So it appears busy upon entering but wait times are very good.\n",
            "Great place, really good doctor. Actually looks at you when you talk to him. Very pleased.\n",
            "My husband is a patient of Dr. K and I have accompanied him on a couple of office visits. He was the only doctor who was able to quickly diagnose my husband's condition after countless visits to our PCP, other urgent care, and the ER. After beginning treatment the doctor called our home to check how my husband was doing. In addition to being a great doctor, he also has a wonderful staff. The staff is not only professional, but also very friendly, and helpful. Everyone at this office truly cares about the patients.\n",
            "I saw Dr. Kokhab twice at the urgent care in Upland. I have had Fibromyalgia for 23 years now and I had just quit Norco 10-325 cold turkey after taking 5-6 pills a day for 5 years. Dr Kokhab helped me by giving me a non addictive medication similar to Tylenol and told me to make an appt at his office location to treat my Fibro. He seems like a very good Dr. and took his time twice to answer my questions and help me in any way he can. I will update you with more info after I see him tomorrow at his office.\n",
            "This doctor is brilliant, kind and thorough. REALLY felt I was given his full attention, accurate diagnosis, treated promptly and effectively with an full explanation that I could understand. Kudos to you Dr. Kokhab! And, thank you for the excellent care.\n",
            "OMG! This Urgent Care is great! Since I could not be seen at my regular Dr.'s office, not a good thing especially since I was having trouble breathing due to my asthma, I looked for an Urgent Care close to my house. I read the reviews for this location and they were all good. So I went. This place is so nice. Its pretty and clean, not like the ones that look like a workmans comp place. I think I was there for almost an hour, including filling out paperwork and my treatment. Amanda was the nurse who helped me, she was Very nice. I recommend this place to anyone who wants or needs help right away. Thank you , jparedes\n"
          ]
        }
      ]
    },
    {
      "cell_type": "code",
      "source": [
        "# Since I do not use sentense tokenizer first, so I decide to use wordtokernize function directly\n",
        "from nltk.tokenize import word_tokenize\n",
        "nltk.download('punkt')"
      ],
      "metadata": {
        "colab": {
          "base_uri": "https://localhost:8080/"
        },
        "id": "iiEjVQgzeZ8Z",
        "outputId": "efed6cc5-0127-48d0-f248-7802e3f33332"
      },
      "execution_count": null,
      "outputs": [
        {
          "output_type": "stream",
          "name": "stderr",
          "text": [
            "[nltk_data] Downloading package punkt to /root/nltk_data...\n",
            "[nltk_data]   Unzipping tokenizers/punkt.zip.\n"
          ]
        },
        {
          "output_type": "execute_result",
          "data": {
            "text/plain": [
              "True"
            ]
          },
          "metadata": {},
          "execution_count": 16
        }
      ]
    },
    {
      "cell_type": "code",
      "source": [
        "# test on one review\n",
        "print(word_tokenize(reviews[0]))\n",
        "print(len(word_tokenize(reviews[0])))"
      ],
      "metadata": {
        "colab": {
          "base_uri": "https://localhost:8080/"
        },
        "id": "IRRmwFc7edss",
        "outputId": "12cdfb93-0135-4e0d-feca-b2d0cad02e8c"
      },
      "execution_count": null,
      "outputs": [
        {
          "output_type": "stream",
          "name": "stdout",
          "text": [
            "['Awesome', 'team', ',', 'very', 'knowledgeable', '.', 'My', 'wife', 'was', 'seen', 'and', 'recommended', 'by', 'Gloria', 'Stevens', ',', 'MD', '(', 'who', 'is', 'also', 'within', 'the', 'same', 'business', 'complex', ')', '--', 'we', 'were', 'seen', 'rather', 'quick', ',', 'and', 'quickly', 'the', 'doctor', 'was', 'able', 'to', 'get', 'on', 'the', 'same', 'page', '.', 'She', 'asked', 'key', 'questions', ',', 'added', 'a', 'steroid', 'to', 'help', 'cycle', 'my', 'wife', 'off', 'prednisone', 'and', 'was', 'very', 'helpful', 'throughout', 'the', 'entire', 'process', '.', 'My', 'wife', 'left', 'with', 'comfort', ',', 'and', 'hope', '.', 'My', 'wife', 'is', 'battling', 'an', 'autoimmune', 'disease', 'which', 'is', '50/50', 'either', 'Chrons', 'or', 'Henoch-Schonlein', '--', 'we', 'are', 'puzzling', 'this', 'all', 'together', 'and', 'are', 'hoping', 'its', 'just', 'Henoch-Schonlein', '.', 'We', 'will', 'know', 'very', 'soon', 'as', 'my', 'wife', 'has', 'biopsies', 'pending', 'USC', ',', 'and', 'then', 'a', 'followup', 'with', 'the', 'GI', 'Doctor.Highly', 'recommended', '.']\n",
            "131\n"
          ]
        }
      ]
    },
    {
      "cell_type": "code",
      "source": [
        "# create tokenized reviews\n",
        "review_token_list = [word_tokenize(review) for review in reviews] # list comprehension\n",
        "print(*review_token_list[:5], sep= '\\n')"
      ],
      "metadata": {
        "colab": {
          "base_uri": "https://localhost:8080/"
        },
        "id": "0rv9JC-IgUqh",
        "outputId": "884a8c27-9ff6-47ca-b826-4ced55038e8c"
      },
      "execution_count": null,
      "outputs": [
        {
          "output_type": "stream",
          "name": "stdout",
          "text": [
            "['Awesome', 'team', ',', 'very', 'knowledgeable', '.', 'My', 'wife', 'was', 'seen', 'and', 'recommended', 'by', 'Gloria', 'Stevens', ',', 'MD', '(', 'who', 'is', 'also', 'within', 'the', 'same', 'business', 'complex', ')', '--', 'we', 'were', 'seen', 'rather', 'quick', ',', 'and', 'quickly', 'the', 'doctor', 'was', 'able', 'to', 'get', 'on', 'the', 'same', 'page', '.', 'She', 'asked', 'key', 'questions', ',', 'added', 'a', 'steroid', 'to', 'help', 'cycle', 'my', 'wife', 'off', 'prednisone', 'and', 'was', 'very', 'helpful', 'throughout', 'the', 'entire', 'process', '.', 'My', 'wife', 'left', 'with', 'comfort', ',', 'and', 'hope', '.', 'My', 'wife', 'is', 'battling', 'an', 'autoimmune', 'disease', 'which', 'is', '50/50', 'either', 'Chrons', 'or', 'Henoch-Schonlein', '--', 'we', 'are', 'puzzling', 'this', 'all', 'together', 'and', 'are', 'hoping', 'its', 'just', 'Henoch-Schonlein', '.', 'We', 'will', 'know', 'very', 'soon', 'as', 'my', 'wife', 'has', 'biopsies', 'pending', 'USC', ',', 'and', 'then', 'a', 'followup', 'with', 'the', 'GI', 'Doctor.Highly', 'recommended', '.']\n",
            "['If', 'you', 'want', 'to', 'be', 'berated', 'and', 'treated', 'like', 'dirt', 'by', 'the', 'staff', ',', 'then', 'definitely', 'call', 'this', 'office', '.', 'Phone', 'etiquette', 'is', 'zero', '&', 'the', 'way', 'the', 'staff', 'speaks', 'to', 'callers', 'certainly', 'reflects', 'on', 'the', 'doctors', 'who', 'allow', 'it', '.']\n",
            "['Dr.', 'Sadeghi', 'is', 'an', 'absolutely', 'outstanding', 'physician', '.', 'He', 'is', 'extremely', 'knowledgeable', 'about', 'rheumatological', 'conditions', 'and', 'maintains', 'an', 'excellent', 'bedside', 'manner', '.', 'At', 'each', 'visit', 'he', 'completes', 'a', 'thorough', 'physical', 'exam', ',', 'checking', 'for', 'any', 'new', 'signs', 'or', 'symptoms', 'of', 'autoimmune', 'disease', '.', 'He', 'answers', 'all', 'of', 'my', 'questions', 'and', 'concerns', 'with', 'patience', 'and', 'kindness', '.', 'Dr.', 'Sadeghi', 'also', 'encourages', 'me', 'to', 'eat', 'healthy', ',', 'and', 'try', 'to', 'get', 'exercise', '.', 'Of', 'note', ',', 'I', 'had', 'previously', 'seen', 'a', 'very', 'good', 'physician', 'at', 'UCLA', 'in', 'the', 'same', 'specialty', 'however', ',', 'I', 'chose', 'Dr.', 'Sadeghi', 'as', 'he', 'addressed', 'all', 'of', 'my', 'concerns', 'and', 'has', 'kept', 'a', 'close', 'follow', 'up', 'schedule', 'to', 'ensure', 'my', 'condition', 'does', 'not', 'deteriorate', '.', 'Dr.', 'Sadeghi', \"'s\", 'staff', 'is', 'always', 'helpful', 'and', 'very', 'professional', '.', 'I', 'am', 'so', 'grateful', 'I', 'found', 'Upland', 'Rheumatology', '!']\n",
            "['Dr', 'KOHKAB-', 'help', '!', '!', '!', 'This', 'clinic', 'is', 'going', 'down', 'fast', '.', 'Mary', 'does', 'not', 'listen', 'and', 'is', 'a', 'very', 'poor', 'provider.She', 'took', 'me', 'off', 'my', 'meds', 'out', 'of', 'the', 'blue', ',', 'does', 'not', 'listen-', 'overbooks', 'and', 'I', 'was', 'rushed', '.', 'This', 'clinic', 'is', 'a', 'mere', 'shadow', 'of', 'what', 'it', 'used', 'to', 'be', '.']\n",
            "['Good', 'news', 'and', 'BAD', 'news', 'about', 'this', 'office', '.', 'First', ',', 'the', 'office', 'overcharged', 'me', 'and', 'my', 'husband', 'for', 'our', 'co-pays', 'for', 'several', 'visits', 'and', 'it', 'took', '3', 'Months', 'and', 'too', 'many', 'phone', 'calls', 'to', 'get', 'refunded', '.', 'The', 'office', 'staff', ',', 'primarily', 'Cece', 'are', 'the', 'rudest', 'office', 'personnel', 'that', 'I', 'have', 'ever', 'come', 'across', '.', 'Very', 'unhelpful', 'and', 'they', 'just', 'seem', 'annoyed', 'when', 'they', 'are', 'speaking', 'with', 'you', '.', 'Because', 'of', 'the', 'previously', 'mentioned', 'issues', 'and', 'scheduling', 'problems', 'I', 'asked', 'for', 'my', 'records', 'to', 'be', 'sent', 'to', 'my', 'new', 'Rheumatologist', '.', 'Cece', 'said', 'to', 'get', 'the', 'records', 'myself', 'from', 'my', 'primary', 'doctor', '.', 'My', 'primary', 'doctor', 'has', 'not', 'received', 'Any', 'progress', 'notes', 'etc', 'since', '2019', '.', 'That', 'is', 'the', 'kind', 'of', 'customer', 'service', 'you', 'get', 'from', 'that', 'office', 'and', 'Cece', '.', 'Dr', 'Schumann', 'was', 'fine', '.', 'The', 'Good', 'news', 'is', 'that', 'because', 'of', 'that', 'horrible', 'office', 'I', 'found', 'a', 'fantastic', 'Rheumatologist', 'that', 'I', 'love', 'and', 'love', 'his', 'staff', '.', 'They', 'are', 'kind', 'and', 'professional', '.', 'Nothing', 'like', 'This', 'office', '.', 'Do', 'not', 'go', 'there', '.']\n"
          ]
        }
      ]
    },
    {
      "cell_type": "code",
      "source": [
        "# use pyspellchecker to list potential misspells\n",
        "!pip install pyspellchecker\n",
        "\n",
        "from spellchecker import SpellChecker\n",
        "spell = SpellChecker()"
      ],
      "metadata": {
        "colab": {
          "base_uri": "https://localhost:8080/"
        },
        "id": "Tta_TWcDhmFw",
        "outputId": "3e0e5901-4d4b-4f6e-a2af-b5e347fdcd1b"
      },
      "execution_count": null,
      "outputs": [
        {
          "output_type": "stream",
          "name": "stdout",
          "text": [
            "Looking in indexes: https://pypi.org/simple, https://us-python.pkg.dev/colab-wheels/public/simple/\n",
            "Collecting pyspellchecker\n",
            "  Downloading pyspellchecker-0.7.0-py3-none-any.whl (2.5 MB)\n",
            "\u001b[K     |████████████████████████████████| 2.5 MB 5.1 MB/s \n",
            "\u001b[?25hInstalling collected packages: pyspellchecker\n",
            "Successfully installed pyspellchecker-0.7.0\n"
          ]
        }
      ]
    },
    {
      "cell_type": "code",
      "source": [
        "# find those words that may be misspelled for the first review\n",
        "misspelled = spell.unknown(review_token_list[0])\n",
        "misspelled"
      ],
      "metadata": {
        "colab": {
          "base_uri": "https://localhost:8080/"
        },
        "id": "z5E3cW3BiVja",
        "outputId": "dfcc3555-c30e-4d66-a888-1af590094a8c"
      },
      "execution_count": null,
      "outputs": [
        {
          "output_type": "execute_result",
          "data": {
            "text/plain": [
              "{'--',\n",
              " '50/50',\n",
              " 'chrons',\n",
              " 'doctor.highly',\n",
              " 'followup',\n",
              " 'henoch-schonlein',\n",
              " 'md'}"
            ]
          },
          "metadata": {},
          "execution_count": 20
        }
      ]
    },
    {
      "cell_type": "code",
      "source": [
        "# Now I would try the other tokenizer wordpunct_tokenize to see the misspelled\n",
        "from nltk.tokenize import wordpunct_tokenize"
      ],
      "metadata": {
        "id": "DsBSKhAYif3h"
      },
      "execution_count": null,
      "outputs": []
    },
    {
      "cell_type": "code",
      "source": [
        "# Compare the outpyt of word_tokenize() versus wordpunct_tokenize()\n",
        "print(word_tokenize(reviews[0]))\n",
        "print(len(word_tokenize(reviews[0])))\n",
        "print(\"-------------\")\n",
        "print(wordpunct_tokenize(reviews[0]))\n",
        "print(len(wordpunct_tokenize(reviews[0])))"
      ],
      "metadata": {
        "colab": {
          "base_uri": "https://localhost:8080/"
        },
        "id": "VFRjnuXzjgL3",
        "outputId": "df4bf930-8588-4877-aaca-53c973eae102"
      },
      "execution_count": null,
      "outputs": [
        {
          "output_type": "stream",
          "name": "stdout",
          "text": [
            "['Awesome', 'team', ',', 'very', 'knowledgeable', '.', 'My', 'wife', 'was', 'seen', 'and', 'recommended', 'by', 'Gloria', 'Stevens', ',', 'MD', '(', 'who', 'is', 'also', 'within', 'the', 'same', 'business', 'complex', ')', '--', 'we', 'were', 'seen', 'rather', 'quick', ',', 'and', 'quickly', 'the', 'doctor', 'was', 'able', 'to', 'get', 'on', 'the', 'same', 'page', '.', 'She', 'asked', 'key', 'questions', ',', 'added', 'a', 'steroid', 'to', 'help', 'cycle', 'my', 'wife', 'off', 'prednisone', 'and', 'was', 'very', 'helpful', 'throughout', 'the', 'entire', 'process', '.', 'My', 'wife', 'left', 'with', 'comfort', ',', 'and', 'hope', '.', 'My', 'wife', 'is', 'battling', 'an', 'autoimmune', 'disease', 'which', 'is', '50/50', 'either', 'Chrons', 'or', 'Henoch-Schonlein', '--', 'we', 'are', 'puzzling', 'this', 'all', 'together', 'and', 'are', 'hoping', 'its', 'just', 'Henoch-Schonlein', '.', 'We', 'will', 'know', 'very', 'soon', 'as', 'my', 'wife', 'has', 'biopsies', 'pending', 'USC', ',', 'and', 'then', 'a', 'followup', 'with', 'the', 'GI', 'Doctor.Highly', 'recommended', '.']\n",
            "131\n",
            "-------------\n",
            "['Awesome', 'team', ',', 'very', 'knowledgeable', '.', 'My', 'wife', 'was', 'seen', 'and', 'recommended', 'by', 'Gloria', 'Stevens', ',', 'MD', '(', 'who', 'is', 'also', 'within', 'the', 'same', 'business', 'complex', ')', '--', 'we', 'were', 'seen', 'rather', 'quick', ',', 'and', 'quickly', 'the', 'doctor', 'was', 'able', 'to', 'get', 'on', 'the', 'same', 'page', '.', 'She', 'asked', 'key', 'questions', ',', 'added', 'a', 'steroid', 'to', 'help', 'cycle', 'my', 'wife', 'off', 'prednisone', 'and', 'was', 'very', 'helpful', 'throughout', 'the', 'entire', 'process', '.', 'My', 'wife', 'left', 'with', 'comfort', ',', 'and', 'hope', '.', 'My', 'wife', 'is', 'battling', 'an', 'autoimmune', 'disease', 'which', 'is', '50', '/', '50', 'either', 'Chrons', 'or', 'Henoch', '-', 'Schonlein', '--', 'we', 'are', 'puzzling', 'this', 'all', 'together', 'and', 'are', 'hoping', 'its', 'just', 'Henoch', '-', 'Schonlein', '.', 'We', 'will', 'know', 'very', 'soon', 'as', 'my', 'wife', 'has', 'biopsies', 'pending', 'USC', ',', 'and', 'then', 'a', 'followup', 'with', 'the', 'GI', 'Doctor', '.', 'Highly', 'recommended', '.']\n",
            "139\n"
          ]
        }
      ]
    },
    {
      "cell_type": "code",
      "source": [
        "# create tokenized reviews by wordpunct_tokenize\n",
        "review_token_list = [wordpunct_tokenize(review) for review in reviews] # list comprehension\n",
        "print(*review_token_list[:5], sep= '\\n')"
      ],
      "metadata": {
        "colab": {
          "base_uri": "https://localhost:8080/"
        },
        "id": "ovWZ4ePynJ31",
        "outputId": "3cc707df-592d-422a-cc1b-70fc201955f0"
      },
      "execution_count": null,
      "outputs": [
        {
          "output_type": "stream",
          "name": "stdout",
          "text": [
            "['Awesome', 'team', ',', 'very', 'knowledgeable', '.', 'My', 'wife', 'was', 'seen', 'and', 'recommended', 'by', 'Gloria', 'Stevens', ',', 'MD', '(', 'who', 'is', 'also', 'within', 'the', 'same', 'business', 'complex', ')', '--', 'we', 'were', 'seen', 'rather', 'quick', ',', 'and', 'quickly', 'the', 'doctor', 'was', 'able', 'to', 'get', 'on', 'the', 'same', 'page', '.', 'She', 'asked', 'key', 'questions', ',', 'added', 'a', 'steroid', 'to', 'help', 'cycle', 'my', 'wife', 'off', 'prednisone', 'and', 'was', 'very', 'helpful', 'throughout', 'the', 'entire', 'process', '.', 'My', 'wife', 'left', 'with', 'comfort', ',', 'and', 'hope', '.', 'My', 'wife', 'is', 'battling', 'an', 'autoimmune', 'disease', 'which', 'is', '50', '/', '50', 'either', 'Chrons', 'or', 'Henoch', '-', 'Schonlein', '--', 'we', 'are', 'puzzling', 'this', 'all', 'together', 'and', 'are', 'hoping', 'its', 'just', 'Henoch', '-', 'Schonlein', '.', 'We', 'will', 'know', 'very', 'soon', 'as', 'my', 'wife', 'has', 'biopsies', 'pending', 'USC', ',', 'and', 'then', 'a', 'followup', 'with', 'the', 'GI', 'Doctor', '.', 'Highly', 'recommended', '.']\n",
            "['If', 'you', 'want', 'to', 'be', 'berated', 'and', 'treated', 'like', 'dirt', 'by', 'the', 'staff', ',', 'then', 'definitely', 'call', 'this', 'office', '.', 'Phone', 'etiquette', 'is', 'zero', '&', 'the', 'way', 'the', 'staff', 'speaks', 'to', 'callers', 'certainly', 'reflects', 'on', 'the', 'doctors', 'who', 'allow', 'it', '.']\n",
            "['Dr', '.', 'Sadeghi', 'is', 'an', 'absolutely', 'outstanding', 'physician', '.', 'He', 'is', 'extremely', 'knowledgeable', 'about', 'rheumatological', 'conditions', 'and', 'maintains', 'an', 'excellent', 'bedside', 'manner', '.', 'At', 'each', 'visit', 'he', 'completes', 'a', 'thorough', 'physical', 'exam', ',', 'checking', 'for', 'any', 'new', 'signs', 'or', 'symptoms', 'of', 'autoimmune', 'disease', '.', 'He', 'answers', 'all', 'of', 'my', 'questions', 'and', 'concerns', 'with', 'patience', 'and', 'kindness', '.', 'Dr', '.', 'Sadeghi', 'also', 'encourages', 'me', 'to', 'eat', 'healthy', ',', 'and', 'try', 'to', 'get', 'exercise', '.', 'Of', 'note', ',', 'I', 'had', 'previously', 'seen', 'a', 'very', 'good', 'physician', 'at', 'UCLA', 'in', 'the', 'same', 'specialty', 'however', ',', 'I', 'chose', 'Dr', '.', 'Sadeghi', 'as', 'he', 'addressed', 'all', 'of', 'my', 'concerns', 'and', 'has', 'kept', 'a', 'close', 'follow', 'up', 'schedule', 'to', 'ensure', 'my', 'condition', 'does', 'not', 'deteriorate', '.', 'Dr', '.', 'Sadeghi', \"'\", 's', 'staff', 'is', 'always', 'helpful', 'and', 'very', 'professional', '.', 'I', 'am', 'so', 'grateful', 'I', 'found', 'Upland', 'Rheumatology', '!']\n",
            "['Dr', 'KOHKAB', '-', 'help', '!!!', 'This', 'clinic', 'is', 'going', 'down', 'fast', '.', 'Mary', 'does', 'not', 'listen', 'and', 'is', 'a', 'very', 'poor', 'provider', '.', 'She', 'took', 'me', 'off', 'my', 'meds', 'out', 'of', 'the', 'blue', ',', 'does', 'not', 'listen', '-', 'overbooks', 'and', 'I', 'was', 'rushed', '.', 'This', 'clinic', 'is', 'a', 'mere', 'shadow', 'of', 'what', 'it', 'used', 'to', 'be', '.']\n",
            "['Good', 'news', 'and', 'BAD', 'news', 'about', 'this', 'office', '.', 'First', ',', 'the', 'office', 'overcharged', 'me', 'and', 'my', 'husband', 'for', 'our', 'co', '-', 'pays', 'for', 'several', 'visits', 'and', 'it', 'took', '3', 'Months', 'and', 'too', 'many', 'phone', 'calls', 'to', 'get', 'refunded', '.', 'The', 'office', 'staff', ',', 'primarily', 'Cece', 'are', 'the', 'rudest', 'office', 'personnel', 'that', 'I', 'have', 'ever', 'come', 'across', '.', 'Very', 'unhelpful', 'and', 'they', 'just', 'seem', 'annoyed', 'when', 'they', 'are', 'speaking', 'with', 'you', '.', 'Because', 'of', 'the', 'previously', 'mentioned', 'issues', 'and', 'scheduling', 'problems', 'I', 'asked', 'for', 'my', 'records', 'to', 'be', 'sent', 'to', 'my', 'new', 'Rheumatologist', '.', 'Cece', 'said', 'to', 'get', 'the', 'records', 'myself', 'from', 'my', 'primary', 'doctor', '.', 'My', 'primary', 'doctor', 'has', 'not', 'received', 'Any', 'progress', 'notes', 'etc', 'since', '2019', '.', 'That', 'is', 'the', 'kind', 'of', 'customer', 'service', 'you', 'get', 'from', 'that', 'office', 'and', 'Cece', '.', 'Dr', 'Schumann', 'was', 'fine', '.', 'The', 'Good', 'news', 'is', 'that', 'because', 'of', 'that', 'horrible', 'office', 'I', 'found', 'a', 'fantastic', 'Rheumatologist', 'that', 'I', 'love', 'and', 'love', 'his', 'staff', '.', 'They', 'are', 'kind', 'and', 'professional', '.', 'Nothing', 'like', 'This', 'office', '.', 'Do', 'not', 'go', 'there', '.']\n"
          ]
        }
      ]
    },
    {
      "cell_type": "code",
      "source": [
        "misspelled = spell.unknown(review_token_list[0])\n",
        "misspelled"
      ],
      "metadata": {
        "colab": {
          "base_uri": "https://localhost:8080/"
        },
        "id": "zYjNSraNni2P",
        "outputId": "a6a73022-9fc9-4cfb-abf9-474286ade751"
      },
      "execution_count": null,
      "outputs": [
        {
          "output_type": "execute_result",
          "data": {
            "text/plain": [
              "{'--', 'chrons', 'followup', 'henoch', 'md', 'schonlein'}"
            ]
          },
          "metadata": {},
          "execution_count": 24
        }
      ]
    },
    {
      "cell_type": "code",
      "source": [
        "# check all misspelled words\n",
        "misspelled_list = [spell.unknown(review_token) for review_token in review_token_list]"
      ],
      "metadata": {
        "id": "xGHwA2cSnloI"
      },
      "execution_count": null,
      "outputs": []
    },
    {
      "cell_type": "code",
      "source": [
        "# print all misspells for each review \n",
        "for count, misspells in enumerate(misspelled_list):\n",
        "  print('review',count+1,' ', misspells)"
      ],
      "metadata": {
        "colab": {
          "base_uri": "https://localhost:8080/"
        },
        "id": "kOdR6Xq8oBsV",
        "outputId": "719c1207-3fbc-46e7-ca51-bdea0f235358"
      },
      "execution_count": null,
      "outputs": [
        {
          "output_type": "stream",
          "name": "stdout",
          "text": [
            "review 1   {'henoch', '--', 'md', 'followup', 'schonlein', 'chrons'}\n",
            "review 2   set()\n",
            "review 3   {'rheumatology', 'sadeghi', 'rheumatological', 's', 'dr'}\n",
            "review 4   {'dr', '!!!', 'kohkab', 'overbooks'}\n",
            "review 5   {'dr', 'schumann', 'rheumatologist'}\n",
            "review 6   set()\n",
            "review 7   {'ck', 'rheumatology', '...', 'f'}\n",
            "review 8   {'pcp', 'schulman', 'covid', 'dr', 'rheumatologist'}\n",
            "review 9   {'karina'}\n",
            "review 10   {'dr', 'najafabadi', 's'}\n",
            "review 11   set()\n",
            "review 12   {'!).', 'shirty', 'gp', '\".', 's', 'afterward', 'rheumatologist'}\n",
            "review 13   {'dr'}\n",
            "review 14   {'dr', 'kokhab'}\n",
            "review 15   {'toradol', 'b12', 'rheumy'}\n",
            "review 16   set()\n",
            "review 17   {'dr', 'inefficiently', 'televisits', 'sadeghi'}\n",
            "review 18   {'vs', '...'}\n",
            "review 19   {'dr', 'k', 'labwork', 'rheumatologist'}\n",
            "review 20   {'dr', 'kokhab', 'youhe'}\n",
            "review 21   {'dr', 'kokhab'}\n",
            "review 22   {'dr'}\n",
            "review 23   {'copay'}\n",
            "review 24   {'rheumatologist'}\n",
            "review 25   {'psoriatic', 'vm', '--', 's', 'dr'}\n",
            "review 26   {'dr', 'kokhab', '!!!'}\n",
            "review 27   {'dr', 'kokhab', 'fibromyalgia'}\n",
            "review 28   {'!!!', '!!', 'kokhab', 'zuniga', 'dr'}\n",
            "review 29   {'dr', 'kokhab'}\n",
            "review 30   {').', '),', '!!', 'kokhab', 'specalist', 'dr'}\n",
            "review 31   {'...', '..', 'vs', '....', 'dr'}\n",
            "review 32   {'dr', 'khaleghi', 'marjan', 'rheumatologist'}\n",
            "review 33   {'.!'}\n",
            "review 34   {'dr', 'k'}\n",
            "review 35   {'pulmonologist', 'x', 'rheumatologist'}\n",
            "review 36   {'m', 'ironworker', 'd', 'kokhab', 'dr', 'rheumatologist'}\n",
            "review 37   {'dr', 'kokhab', '=)'}\n",
            "review 38   {'dr', 'kokhab', 'rheumatology'}\n",
            "review 39   set()\n",
            "review 40   {'dr', 'k', 'pcp', 's'}\n",
            "review 41   {'appt', 'kokhab', 'fibro', 'dr', 'fibromyalgia', 'norco'}\n",
            "review 42   {'dr', 'kokhab'}\n",
            "review 43   {'jparedes', \".'\", 's', 'dr', 'workmans', 'omg'}\n"
          ]
        }
      ]
    },
    {
      "cell_type": "markdown",
      "source": [
        "# Step 4: Text Normalization"
      ],
      "metadata": {
        "id": "wtlBCpmeqCIq"
      }
    },
    {
      "cell_type": "code",
      "source": [
        "# get needed packages\n",
        "from nltk.corpus import stopwords\n",
        "nltk.download('stopwords')\n",
        "from string import punctuation"
      ],
      "metadata": {
        "colab": {
          "base_uri": "https://localhost:8080/"
        },
        "id": "-2kyPKhwqBdd",
        "outputId": "98989280-0166-450e-85e1-3b1f6460cbbf"
      },
      "execution_count": null,
      "outputs": [
        {
          "output_type": "stream",
          "name": "stderr",
          "text": [
            "[nltk_data] Downloading package stopwords to /root/nltk_data...\n",
            "[nltk_data]   Unzipping corpora/stopwords.zip.\n"
          ]
        }
      ]
    },
    {
      "cell_type": "code",
      "source": [
        "# define a function that performs text preprocessing after tokenization\n",
        "\n",
        "def preprocessing(tokens):\n",
        "  tokens = [token.lower() for token in tokens] # lowercasing\n",
        "  \n",
        "  tokens = [token for token in tokens if not token.isdigit()] # remove digit - isdigit is a python buit-in method. \n",
        "\n",
        "  tokens = [token for token in tokens if token not in punctuation] # remove punctuations\n",
        "\n",
        "  mystopwords = set(stopwords.words(\"english\")) # we use english stopwords list.\n",
        "  tokens = [token for token in tokens if token not in mystopwords] # remove stopwords\n",
        "  \n",
        "  tokens = [token for token in tokens if len(token)>=3] # remove tokens with one or two characters\n",
        "\n",
        "  return tokens"
      ],
      "metadata": {
        "id": "WqNM3dcpoHGq"
      },
      "execution_count": null,
      "outputs": []
    },
    {
      "cell_type": "code",
      "source": [
        "# run basic preprocessing test case\n",
        "pre_proc_text = preprocessing(review_token_list[0])\n",
        "print(pre_proc_text)\n",
        "len(pre_proc_text)"
      ],
      "metadata": {
        "colab": {
          "base_uri": "https://localhost:8080/"
        },
        "id": "vcwBV0lFpyT1",
        "outputId": "0519f48b-e80a-4082-a049-3287f05c0bd8"
      },
      "execution_count": null,
      "outputs": [
        {
          "output_type": "stream",
          "name": "stdout",
          "text": [
            "['awesome', 'team', 'knowledgeable', 'wife', 'seen', 'recommended', 'gloria', 'stevens', 'also', 'within', 'business', 'complex', 'seen', 'rather', 'quick', 'quickly', 'doctor', 'able', 'get', 'page', 'asked', 'key', 'questions', 'added', 'steroid', 'help', 'cycle', 'wife', 'prednisone', 'helpful', 'throughout', 'entire', 'process', 'wife', 'left', 'comfort', 'hope', 'wife', 'battling', 'autoimmune', 'disease', 'either', 'chrons', 'henoch', 'schonlein', 'puzzling', 'together', 'hoping', 'henoch', 'schonlein', 'know', 'soon', 'wife', 'biopsies', 'pending', 'usc', 'followup', 'doctor', 'highly', 'recommended']\n"
          ]
        },
        {
          "output_type": "execute_result",
          "data": {
            "text/plain": [
              "60"
            ]
          },
          "metadata": {},
          "execution_count": 29
        }
      ]
    },
    {
      "cell_type": "code",
      "source": [
        "# run basic preprocessing to all tokenized reviews\n",
        "review_preprocess_list = [preprocessing(review) for review in review_token_list] # list comprehension\n",
        "print(*review_preprocess_list[:5], sep= '\\n')"
      ],
      "metadata": {
        "colab": {
          "base_uri": "https://localhost:8080/"
        },
        "id": "l5Q0xDsupqIs",
        "outputId": "89bc5466-178d-4bc8-83a2-fcff986477f3"
      },
      "execution_count": null,
      "outputs": [
        {
          "output_type": "stream",
          "name": "stdout",
          "text": [
            "['awesome', 'team', 'knowledgeable', 'wife', 'seen', 'recommended', 'gloria', 'stevens', 'also', 'within', 'business', 'complex', 'seen', 'rather', 'quick', 'quickly', 'doctor', 'able', 'get', 'page', 'asked', 'key', 'questions', 'added', 'steroid', 'help', 'cycle', 'wife', 'prednisone', 'helpful', 'throughout', 'entire', 'process', 'wife', 'left', 'comfort', 'hope', 'wife', 'battling', 'autoimmune', 'disease', 'either', 'chrons', 'henoch', 'schonlein', 'puzzling', 'together', 'hoping', 'henoch', 'schonlein', 'know', 'soon', 'wife', 'biopsies', 'pending', 'usc', 'followup', 'doctor', 'highly', 'recommended']\n",
            "['want', 'berated', 'treated', 'like', 'dirt', 'staff', 'definitely', 'call', 'office', 'phone', 'etiquette', 'zero', 'way', 'staff', 'speaks', 'callers', 'certainly', 'reflects', 'doctors', 'allow']\n",
            "['sadeghi', 'absolutely', 'outstanding', 'physician', 'extremely', 'knowledgeable', 'rheumatological', 'conditions', 'maintains', 'excellent', 'bedside', 'manner', 'visit', 'completes', 'thorough', 'physical', 'exam', 'checking', 'new', 'signs', 'symptoms', 'autoimmune', 'disease', 'answers', 'questions', 'concerns', 'patience', 'kindness', 'sadeghi', 'also', 'encourages', 'eat', 'healthy', 'try', 'get', 'exercise', 'note', 'previously', 'seen', 'good', 'physician', 'ucla', 'specialty', 'however', 'chose', 'sadeghi', 'addressed', 'concerns', 'kept', 'close', 'follow', 'schedule', 'ensure', 'condition', 'deteriorate', 'sadeghi', 'staff', 'always', 'helpful', 'professional', 'grateful', 'found', 'upland', 'rheumatology']\n",
            "['kohkab', 'help', '!!!', 'clinic', 'going', 'fast', 'mary', 'listen', 'poor', 'provider', 'took', 'meds', 'blue', 'listen', 'overbooks', 'rushed', 'clinic', 'mere', 'shadow', 'used']\n",
            "['good', 'news', 'bad', 'news', 'office', 'first', 'office', 'overcharged', 'husband', 'pays', 'several', 'visits', 'took', 'months', 'many', 'phone', 'calls', 'get', 'refunded', 'office', 'staff', 'primarily', 'cece', 'rudest', 'office', 'personnel', 'ever', 'come', 'across', 'unhelpful', 'seem', 'annoyed', 'speaking', 'previously', 'mentioned', 'issues', 'scheduling', 'problems', 'asked', 'records', 'sent', 'new', 'rheumatologist', 'cece', 'said', 'get', 'records', 'primary', 'doctor', 'primary', 'doctor', 'received', 'progress', 'notes', 'etc', 'since', 'kind', 'customer', 'service', 'get', 'office', 'cece', 'schumann', 'fine', 'good', 'news', 'horrible', 'office', 'found', 'fantastic', 'rheumatologist', 'love', 'love', 'staff', 'kind', 'professional', 'nothing', 'like', 'office']\n"
          ]
        }
      ]
    },
    {
      "cell_type": "code",
      "source": [
        "# use FreqDis() to find the frequency disctibution for each token\n",
        "from nltk import FreqDist"
      ],
      "metadata": {
        "id": "8PUKAmzO4k-o"
      },
      "execution_count": null,
      "outputs": []
    },
    {
      "cell_type": "code",
      "source": [
        "# Test on first list\n",
        "fdist_reviews= FreqDist(review_preprocess_list[0])\n",
        "fdist_reviews"
      ],
      "metadata": {
        "colab": {
          "base_uri": "https://localhost:8080/"
        },
        "id": "et1OPbrH4r-8",
        "outputId": "d2ae8305-5282-4d60-ffef-5bd1f31ff75d"
      },
      "execution_count": null,
      "outputs": [
        {
          "output_type": "execute_result",
          "data": {
            "text/plain": [
              "FreqDist({'wife': 5, 'seen': 2, 'recommended': 2, 'doctor': 2, 'henoch': 2, 'schonlein': 2, 'awesome': 1, 'team': 1, 'knowledgeable': 1, 'gloria': 1, ...})"
            ]
          },
          "metadata": {},
          "execution_count": 32
        }
      ]
    },
    {
      "cell_type": "code",
      "source": [
        "# Flat the token list\n",
        "corpus = [token for review in review_preprocess_list for token in review]\n",
        "print(corpus)"
      ],
      "metadata": {
        "colab": {
          "base_uri": "https://localhost:8080/"
        },
        "id": "3wztd65444Vu",
        "outputId": "b8eb7e57-0305-4930-809b-09f5e67edb3d"
      },
      "execution_count": null,
      "outputs": [
        {
          "output_type": "stream",
          "name": "stdout",
          "text": [
            "['awesome', 'team', 'knowledgeable', 'wife', 'seen', 'recommended', 'gloria', 'stevens', 'also', 'within', 'business', 'complex', 'seen', 'rather', 'quick', 'quickly', 'doctor', 'able', 'get', 'page', 'asked', 'key', 'questions', 'added', 'steroid', 'help', 'cycle', 'wife', 'prednisone', 'helpful', 'throughout', 'entire', 'process', 'wife', 'left', 'comfort', 'hope', 'wife', 'battling', 'autoimmune', 'disease', 'either', 'chrons', 'henoch', 'schonlein', 'puzzling', 'together', 'hoping', 'henoch', 'schonlein', 'know', 'soon', 'wife', 'biopsies', 'pending', 'usc', 'followup', 'doctor', 'highly', 'recommended', 'want', 'berated', 'treated', 'like', 'dirt', 'staff', 'definitely', 'call', 'office', 'phone', 'etiquette', 'zero', 'way', 'staff', 'speaks', 'callers', 'certainly', 'reflects', 'doctors', 'allow', 'sadeghi', 'absolutely', 'outstanding', 'physician', 'extremely', 'knowledgeable', 'rheumatological', 'conditions', 'maintains', 'excellent', 'bedside', 'manner', 'visit', 'completes', 'thorough', 'physical', 'exam', 'checking', 'new', 'signs', 'symptoms', 'autoimmune', 'disease', 'answers', 'questions', 'concerns', 'patience', 'kindness', 'sadeghi', 'also', 'encourages', 'eat', 'healthy', 'try', 'get', 'exercise', 'note', 'previously', 'seen', 'good', 'physician', 'ucla', 'specialty', 'however', 'chose', 'sadeghi', 'addressed', 'concerns', 'kept', 'close', 'follow', 'schedule', 'ensure', 'condition', 'deteriorate', 'sadeghi', 'staff', 'always', 'helpful', 'professional', 'grateful', 'found', 'upland', 'rheumatology', 'kohkab', 'help', '!!!', 'clinic', 'going', 'fast', 'mary', 'listen', 'poor', 'provider', 'took', 'meds', 'blue', 'listen', 'overbooks', 'rushed', 'clinic', 'mere', 'shadow', 'used', 'good', 'news', 'bad', 'news', 'office', 'first', 'office', 'overcharged', 'husband', 'pays', 'several', 'visits', 'took', 'months', 'many', 'phone', 'calls', 'get', 'refunded', 'office', 'staff', 'primarily', 'cece', 'rudest', 'office', 'personnel', 'ever', 'come', 'across', 'unhelpful', 'seem', 'annoyed', 'speaking', 'previously', 'mentioned', 'issues', 'scheduling', 'problems', 'asked', 'records', 'sent', 'new', 'rheumatologist', 'cece', 'said', 'get', 'records', 'primary', 'doctor', 'primary', 'doctor', 'received', 'progress', 'notes', 'etc', 'since', 'kind', 'customer', 'service', 'get', 'office', 'cece', 'schumann', 'fine', 'good', 'news', 'horrible', 'office', 'found', 'fantastic', 'rheumatologist', 'love', 'love', 'staff', 'kind', 'professional', 'nothing', 'like', 'office', 'responded', 'post', 'refill', 'prescriptions', 'evil', 'people', 'use', 'office', 'come', 'first', 'want', 'say', 'professionalism', 'something', 'portrayed', 'every', 'establishment', 'sort', 'cynthia', 'supposed', 'manager', 'made', 'clear', 'professionalism', 'valued', 'wreaked', 'alcohol', 'honestly', 'seemed', 'hung', 'would', 'never', 'support', 'establishment', 'allows', 'managers', 'employees', 'general', 'arrived', 'appointment', 'basically', 'told', 'tell', 'insurance', 'send', 'elsewhere', 'never', 'upland', 'rheumatology', 'center', 'better', '...', 'covid', 'restrictions', 'lifting', 'decided', 'come', 'office', 'see', 'rheumatologist', 'pcp', 'recommend', 'seen', 'stacey', 'schulman', 'schulman', 'godsend', 'listened', 'concerns', 'symptoms', 'able', 'accurately', 'diagnose', 'immediately', 'start', 'plan', 'still', 'working', 'find', 'right', 'medication', 'dosage', 'combination', 'feel', 'good', 'hands', 'already', 'noticed', 'significant', 'improvements', 'thank', 'schulman', 'horrible', 'service', 'tiffany', 'karina', 'inconsiderate', 'rude', 'disrespectful', 'office', 'cancel', 'wife', 'medication', 'respond', 'pharmacy', 'would', 'available', 'pick', 'medication', 'vacation', 'right', 'cancel', 'wife', 'prescription', 'approved', 'asking', 'lab', 'work', 'medication', 'require', 'lab', 'work', 'know', 'speaking', 'doctor', 'today', 'agreed', 'lab', 'work', 'required', 'bother', 'call', 'doctor', 'could', 'provide', 'name', 'office', 'manager', 'vacation', 'unavailable', 'days', 'later', 'would', 'recommend', 'office', 'whatsoever', 'najafabadi', 'patient', 'couple', 'years', 'always', 'pleased', 'care', 'attention', 'received', 'knowledgeable', 'professional', 'caring', 'staff', 'also', 'courteous', 'professional', 'great', 'experience', 'overall', 'cece', 'office', 'manager', 'unprofessional', 'person', 'switching', 'offices', 'save', 'stress', 'somewhere', 'else', 'trying', 'get', 'appointment', 'rheumatologist', 'several', 'weeks', 'initially', 'called', 'middle', 'day', 'got', 'really', 'rude', 'woman', 'wanted', 'personally', 'collect', 'files', 'even', 'though', 'would', 'signed', 'paperwork', 'could', 'released', 'upon', 'request', 'would', 'even', 'put', 'appointment', 'book', 'files', 'faxed', 'called', 'back', 'minutes', 'later', 'got', 'put', 'hold', 'someone', 'checks', 'file', 'hold', 'long', 'hold', 'system', 'hangs', 'call', 'back', 'immediately', 'get', 'voicemail', 'mysteriously', 'closed', 'middle', 'stated', 'business', 'hours', 'patient', 'sitting', 'hold', 'supposedly', 'something', 'patient', 'wonder', 'lines', 'busy', 'call', 'times', 'next', 'hour', 'nothing', 'called', 'business', 'hours', 'next', 'day', 'someone', 'picked', 'put', 'hold', 'waited', 'several', 'minutes', 'phone', 'hold', 'system', 'hung', 'would', 'hold', 'long', 'called', 'back', 'middle', 'stated', 'business', 'hours', 'mysteriously', 'closed', 'tried', 'call', 'several', 'times', 'next', 'hour', 'nothing', 'happened', 'several', 'times', 'course', 'several', 'days', 'leaving', 'voicemails', 'contact', 'info', 'whenever', 'got', 'voicemail', 'box', 'calls', 'back', 'voicemails', 'nothing', 'finally', 'got', 'someone', 'line', 'day', 'willing', 'actually', 'get', 'appointment', 'asked', 'politely', 'going', 'received', 'contact', 'whatsoever', 'office', 'received', 'shirty', 'comment', 'calling', 'leaving', 'voicemail', 'ages', 'ago', 'looking', 'directly', 'call', 'logs', 'madam', 'nothing', 'guys', '!).', 'ask', 'number', 'calling', 'would', 'continued', 'leaving', 'messages', 'since', 'date', 'would', 'supposedly', 'called', 'instead', 'calling', 'number', 'kept', 'leaving', 'voicemails', 'supposedly', 'called', 'number', 'left', 'healthcare', 'paperwork', 'faxed', 'number', 'point', 'primary', 'contact', 'number', 'put', 'paperwork', 'last', 'months', 'contact', 'number', 'kept', 'leaving', 'voicemails', 'literally', 'contact', 'info', 'phone', 'number', 'way', 'would', 'old', 'one', 'going', 'insurance', 'info', 'bypassing', 'current', 'information', 'get', 'old', 'stuff', 'madam', 'leave', 'voicemail', 'old', 'number', 'number', 'active', 'since', 'beginning', 'pandemic', 'pretty', 'sure', 'voicemail', 'even', 'work', 'anymore', 'distant', 'relative', 'tried', 'calling', 'days', 'center', 'supposedly', 'called', 'even', 'allocated', 'another', 'person', 'yet', 'completely', 'service', 'ability', 'leave', 'voicemails', 'even', 'chance', 'see', 'doctor', 'yet', 'place', 'already', 'pretty', 'sus', 'genuinely', 'hoping', 'actually', 'seeing', 'doctor', 'change', 'mind', 'place', 'update', 'review', 'afterward', 'cup', 'times', 'never', 'seem', 'self', 'always', 'told', 'busy', 'seem', 'nurse', 'practitioner', 'knowledge', 'see', 'patients', 'mistreated', 'condition', 'prescribed', 'medication', 'lots', 'side', 'effects', 'test', 'stay', 'away', 'horrible', 'office', 'try', 'get', 'seem', 'doctor', 'time', 'patients', 'accept', 'explanation', 'given', 'circumstances', 'encountered', 'change', 'past', 'impressions', 'leave', 'room', 'new', 'ones', 'kokhab', 'longer', 'running', 'urgent', 'care', 'new', 'office', 'new', 'personnel', 'going', 'back', 'follow', 'care', 'needed', 'shots', 'b12', 'toradol', 'completely', 'exhausted', 'extreme', 'pain', 'wanted', 'get', 'simply', 'get', 'shots', 'told', 'availability', 'april', 'well', 'pain', 'exhaustion', 'comes', 'warning', 'going', 'look', 'another', 'rheumy', 'accommodate', 'ridiculous', 'made', 'feel', 'like', 'like', 'visit', 'unimportant', 'sarcastic', 'answered', 'questions', 'regarding', 'health', 'couple', 'televisits', 'sadeghi', 'office', 'nice', 'knowledgable', 'doctor', 'happy', 'visit', 'however', 'change', 'offices', 'account', 'inefficiently', 'office', 'run', 'constant', 'chase', 'try', 'make', 'appointment', 'provide', 'right', 'paper', 'work', 'first', 'time', 'around', 'could', 'leave', 'message', 'voice', 'mail', 'full', 'phone', 'would', 'ring', 'forever', 'one', 'would', 'pick', 'part', 'emailed', 'requesting', 'appointment', 'got', 'call', 'back', 'eight', 'days', 'later', 'cece', 'manager', 'gave', 'wrong', 'info', 'insurance', 'company', 'noting', 'bone', 'cancer', 'reapply', 'correctly', 'second', 'time', 'around', 'without', 'even', 'apology', 'mistake', 'lol', 'total', 'chaos', 'seen', 'mary', 'today', 'everyone', 'office', 'professional', 'kind', 'even', 'personable', 'yes', 'appointments', 'scheduled', 'bit', 'actually', 'got', 'little', 'sooner', 'due', 'cancellation', 'frankly', 'worth', 'wait', 'would', 'rather', 'hard', 'time', 'getting', 'appointment', 'get', 'treatment', 'need', 'deserve', 'get', 'sooner', 'appointment', 'someone', 'rushes', 'mary', 'took', 'time', 'provided', 'thorough', 'exam', 'went', 'testing', 'already', 'done', 'primary', 'ent', 'ordered', 'testing', 'doctors', 'past', '...', 'know', 'doctors', 'ones', 'give', 'medicine', 'try', 'look', 'forward', 'working', 'feeling', 'lot', 'better', 'years', 'suffering', 'bad', 'migraines', 'overall', 'aches', 'pain', 'simple', 'touch', 'body', 'would', 'trigger', 'agonizing', 'pain', 'started', 'sharing', 'problems', 'family', 'members', 'dealing', 'similar', 'issues', 'suggested', 'see', 'rheumatologist', 'thank', 'goodness', 'took', 'advice', 'found', 'first', 'time', 'met', 'immediately', 'sent', 'labwork', 'scheduled', 'follow', 'exam', 'review', 'lab', 'results', 'thorough', 'office', 'examination', 'able', 'diagnose', 'put', 'course', 'treatment', 'done', 'wonders', 'headaches', 'also', 'helped', 'make', 'pain', 'tolerable', 'knowledgeable', 'caring', 'really', 'takes', 'time', 'listen', 'never', 'feel', 'rushed', 'another', 'thing', 'really', 'appreciate', 'knows', 'feel', 'taking', 'medication', 'try', 'push', 'taking', 'anything', 'comfortable', 'problem', 'explaining', 'recommended', 'medications', 'side', 'effects', 'fact', 'even', 'writes', 'medications', 'leave', 'research', 'ponder', 'decision', 'next', 'visit', 'find', 'similar', 'situation', 'like', 'mine', 'would', 'highly', 'recommend', 'absolutely', 'wonderful', 'kokhab', 'excellent', 'takes', 'time', 'talk', 'youhe', 'explains', 'things', 'react', 'highly', 'recommend', 'great', 'doctor', 'staff', 'patient', 'almost', 'years', 'also', 'see', 'mary', 'physician', 'assistant', 'caring', 'doctor', 'ever', 'takes', 'time', 'never', 'feel', 'rushed', 'mary', 'kokhab', 'kind', 'caring', 'knowledgeable', 'doctors', 'highly', 'recommend', 'gone', 'office', 'many', 'times', 'wait', 'hours', 'say', 'although', 'positive', 'labs', 'condition', 'think', 'pain', 'addition', 'demeanor', 'creepy', 'uncomfortable', 'room', 'every', 'time', 'would', 'find', 'another', 'place', 'come', 'office', 'give', 'shot', 'may', 'cover', 'insurance', 'later', 'found', 'cost', 'copay', 'shots', 'home', 'bill', 'covered', 'insurance', 'tell', 'upfront', 'shots', 'samples', 'provided', 'pharmaceutical', 'firms', 'doctors', 'charged', 'samples', 'going', 'nurse', 'practitioner', 'mary', 'years', 'first', 'time', 'came', 'mary', 'incredibly', 'kind', 'caring', 'helpful', 'well', 'informed', 'treat', 'patients', 'grateful', 'rheumatologist', 'trust', 'completely', 'continue', 'trust', 'treats', 'staff', 'also', 'friendly', 'helpful', 'whenever', 'problem', 'appointments', 'prescriptions', 'phone', 'person', 'feel', 'lucky', 'group', 'staff', 'seen', 'mary', 'year', 'absolutely', 'adore', 'takes', 'time', 'speak', 'without', 'rushing', 'door', 'makes', 'personal', 'rather', 'sterile', 'environment', 'seen', 'months', 'due', 'insurance', 'changing', 'went', 'back', 'immediately', 'asked', 'son', 'remembered', 'mention', 'gets', 'job', 'done', 'whatever', 'takes', 'make', 'better', 'went', 'barely', 'able', 'move', 'psoriatic', 'arthritis', 'help', 'dermatologist', 'failed', 'able', 'get', 'medication', 'approved', 'worked', 'went', 'pain', 'scale', 'zero', 'allowed', 'everything', 'mommy', 'needs', 'year', 'old', 'cannot', 'think', 'enough', 'wen', 'bleak', 'outlook', 'self', 'imposed', 'could', 'barely', 'move', 'hurt', 'roll', 'bed', 'could', 'get', 'bed', 'without', 'help', 'could', 'even', 'change', 'sons', 'diaper', 'without', 'pain', 'think', 'hope', 'mary', 'truly', 'thankful', 'new', 'quality', 'life', 'mary', 'great', 'thing', 'say', 'place', 'sometimes', 'difficult', 'reach', 'somebody', 'usually', 'get', 'try', 'schedule', 'appointment', 'keep', 'calling', 'back', 'calls', 'returned', 'timely', 'manner', 'mary', 'fault', 'first', 'time', 'patient', 'saw', 'kokhab', 'today', 'despite', 'minutes', 'late', 'seen', 'promptly', 'evaluated', 'thoroughly', 'pulled', 'medical', 'records', 'quickly', 'doctor', 'professional', 'helpful', 'leaving', 'noticed', 'one', 'asked', 'schedule', 'follow', 'visit', 'biggie', 'got', 'call', 'make', 'follow', 'star', 'service', '!!!', 'kokhab', 'office', 'great', 'job', 'treating', 'fibromyalgia', 'whole', 'office', 'polite', 'caring', 'explained', 'condition', 'great', 'detail', 'took', 'concerns', 'living', 'medication', 'seriously', 'appreciate', 'kokhab', 'working', 'devise', 'live', 'able', 'treatment', 'plan', 'highly', 'recommend', 'second', 'week', 'plant', 'based', 'eating', 'since', 'seeing', 'kokhab', 'feeling', 'much', 'better', 'still', 'cannot', 'believe', 'difference', 'made', 'day', 'day', 'activities', 'amazing', 'knowledgeable', 'body', 'wracked', 'pain', 'beyond', 'exhausted', 'miserable', 'glad', 'primary', 'physician', 'zuniga', 'referred', 'kokhab', '!!!', 'feeling', 'positive', 'outlook', 'managing', 'pain', 'depression', 'thank', 'kokhab', 'appointment', 'kokhab', 'today', 'listened', 'made', 'recommendations', 'take', 'consideration', 'cannot', 'say', 'enough', 'amazing', 'things', 'kokhab', 'staff', 'seen', 'many', 'doctors', 'one', 'able', 'help', 'starting', 'loose', 'hope', 'would', 'get', 'better', 'kokhab', 'amazing', 'saw', 'ran', 'proper', 'blood', 'tests', 'got', 'results', 'literally', 'day', 'went', 'action', 'explained', 'options', 'mean', 'options', 'order', 'make', 'sure', 'felt', 'comfortable', 'decision', 'staff', 'friendly', 'calls', 'back', 'say', 'going', 'many', 'offices', 'get', 'busy', 'forget', 'office', 'flair', 'ups', 'doctor', 'waited', 'make', 'sure', 'anything', 'worst', 'flair', 'get', 'flair', 'ups', 'know', 'painful', 'husband', 'thankful', 'found', 'kokhab', 'would', 'recommend', 'office', 'everyone', 'anyone', 'needs', 'type', 'specalist', 'well', 'first', 'time', 'going', 'urgent', 'care', 'going', 'emergency', 'room', '...', 'extremely', 'satisfied', '....', 'seen', 'timely', 'matter', 'janitors', 'constantly', 'wiping', 'chairs', 'sanitizing', 'also', 'walked', 'around', 'broom', 'sweeping', 'front', 'desk', 'kind', 'man', 'worked', 'front', 'desk', 'really', 'caught', 'eye', 'though', '...', 'late', 'closing', 'last', 'person', 'seen', 'however', 'girl', 'walked', 'hand', 'bleeding', 'told', 'closed', 'first', 'hold', 'walked', 'back', 'told', 'came', 'back', 'said', 'feel', 'right', 'turning', 'away', '....', 'like', 'see', '...', 'well', 'stars', 'marjan', 'khaleghi', 'best', 'rheumatologist', 'compassionate', 'call', 'get', 'see', 'within', 'hours', 'pain', 'severe', 'totally', 'understands', 'really', 'cares', 'everything', 'right', 'leave', 'office', 'makes', 'sure', 'help', 'pain', 'never', 'doctor', 'get', 'fast', 'even', 'skip', 'lunch', 'help', 'recommend', 'highly', 'suffer', 'arthritis', 'met', 'mary', 'nurse', 'practitioner', 'immediately', 'felt', 'ease', 'calm', 'approachable', 'took', 'time', 'proper', 'assessment', 'get', 'detailed', 'history', 'explain', 'labs', 'running', 'thoroughly', 'follow', 'appointment', 'explained', 'results', 'thoroughly', 'made', 'sure', 'questions', 'left', 'tell', 'knows', 'specialty', 'well', 'passionate', 'wonderful', 'bedside', 'manner', 'simply', 'best', 'complicated', 'problem', 'knows', 'find', 'right', 'solutions', 'great', 'clinician', 'really', 'goes', 'way', 'help', 'everyone', 'deeper', 'level', 'food', 'back', 'office', 'give', 'patients', 'treats', 'like', 'family', 'thank', 'first', 'time', 'ever', 'seeing', 'rheumatologist', 'even', 'order', 'blood', 'work', 'rays', 'sent', 'home', 'something', 'pain', 'got', 'home', 'read', 'take', 'asthma', 'told', 'told', 'take', 'anyway', 'see', 'pulmonologist', 'terrible', 'doctor', 'went', 'check', 'morris', 'kokhab', 'feel', 'right', 'second', 'third', 'appointment', 'realized', 'professional', 'caring', 'kokhab', 'treats', 'patients', 'best', 'rheumatologist', 'opinion', 'ever', 'treated', 'retired', 'union', 'ironworker', 'time', 'suffering', 'past', 'injuries', 'attacking', 'body', 'painful', 'difficult', 'forms', 'arthritis', 'several', 'treatments', 'kokhab', 'first', 'time', 'many', 'many', 'years', 'felt', 'change', 'condition', 'still', 'long', 'journey', 'ahead', 'thanks', 'kokhab', 'genius', 'actually', 'hope', 'thankyou', 'kokhab', 'professionalism', 'great', 'knowledge', 'first', 'time', 'years', 'see', 'light', 'kokhab', 'awesome', 'doctor', 'rush', 'appointments', 'takes', 'time', 'answer', 'questions', 'overall', 'nice', 'warm', 'person', 'could', 'help', 'resolve', 'issue', 'may', 'staff', 'great', 'could', 'give', 'stars', 'would', 'found', 'kokhab', 'almost', 'years', 'ago', 'moving', 'chicago', 'lot', 'research', 'reputation', 'excellent', 'disappointed', 'kokhab', 'compassionate', 'knowledgeable', 'respectful', 'develop', 'plan', 'action', 'never', 'make', 'feel', 'rushed', 'door', 'staff', 'nice', 'professional', 'areas', 'upon', 'sign', 'eye', 'specialist', 'urgent', 'care', 'rheumatology', 'appears', 'busy', 'upon', 'entering', 'wait', 'times', 'good', 'great', 'place', 'really', 'good', 'doctor', 'actually', 'looks', 'talk', 'pleased', 'husband', 'patient', 'accompanied', 'couple', 'office', 'visits', 'doctor', 'able', 'quickly', 'diagnose', 'husband', 'condition', 'countless', 'visits', 'pcp', 'urgent', 'care', 'beginning', 'treatment', 'doctor', 'called', 'home', 'check', 'husband', 'addition', 'great', 'doctor', 'also', 'wonderful', 'staff', 'staff', 'professional', 'also', 'friendly', 'helpful', 'everyone', 'office', 'truly', 'cares', 'patients', 'saw', 'kokhab', 'twice', 'urgent', 'care', 'upland', 'fibromyalgia', 'years', 'quit', 'norco', 'cold', 'turkey', 'taking', 'pills', 'day', 'years', 'kokhab', 'helped', 'giving', 'non', 'addictive', 'medication', 'similar', 'tylenol', 'told', 'make', 'appt', 'office', 'location', 'treat', 'fibro', 'seems', 'like', 'good', 'took', 'time', 'twice', 'answer', 'questions', 'help', 'way', 'update', 'info', 'see', 'tomorrow', 'office', 'doctor', 'brilliant', 'kind', 'thorough', 'really', 'felt', 'given', 'full', 'attention', 'accurate', 'diagnosis', 'treated', 'promptly', 'effectively', 'full', 'explanation', 'could', 'understand', 'kudos', 'kokhab', 'thank', 'excellent', 'care', 'omg', 'urgent', 'care', 'great', 'since', 'could', 'seen', 'regular', 'office', 'good', 'thing', 'especially', 'since', 'trouble', 'breathing', 'due', 'asthma', 'looked', 'urgent', 'care', 'close', 'house', 'read', 'reviews', 'location', 'good', 'went', 'place', 'nice', 'pretty', 'clean', 'like', 'ones', 'look', 'like', 'workmans', 'comp', 'place', 'think', 'almost', 'hour', 'including', 'filling', 'paperwork', 'treatment', 'amanda', 'nurse', 'helped', 'nice', 'recommend', 'place', 'anyone', 'wants', 'needs', 'help', 'right', 'away', 'thank', 'jparedes']\n"
          ]
        }
      ]
    },
    {
      "cell_type": "code",
      "source": [
        "# find the frequency disctibution for each token in the list\n",
        "fdist_reviews= FreqDist(corpus)\n",
        "fdist_reviews"
      ],
      "metadata": {
        "colab": {
          "base_uri": "https://localhost:8080/"
        },
        "id": "c285HZyWu42h",
        "outputId": "4b111fd1-054c-4ca7-b6ba-f17a208a0f0c"
      },
      "execution_count": null,
      "outputs": [
        {
          "output_type": "execute_result",
          "data": {
            "text/plain": [
              "FreqDist({'office': 34, 'kokhab': 24, 'get': 23, 'doctor': 22, 'time': 21, 'would': 18, 'staff': 15, 'pain': 13, 'seen': 12, 'mary': 12, ...})"
            ]
          },
          "metadata": {},
          "execution_count": 34
        }
      ]
    },
    {
      "cell_type": "code",
      "source": [
        "# count the total number of tokens in a corpus, which is the same as len()\n",
        "fdist_reviews.N()"
      ],
      "metadata": {
        "colab": {
          "base_uri": "https://localhost:8080/"
        },
        "id": "53EHMo7QvGad",
        "outputId": "a09af1e9-b73d-4adc-da3f-e1e6c875b2e9"
      },
      "execution_count": null,
      "outputs": [
        {
          "output_type": "execute_result",
          "data": {
            "text/plain": [
              "1964"
            ]
          },
          "metadata": {},
          "execution_count": 35
        }
      ]
    },
    {
      "cell_type": "code",
      "source": [
        "# first, we need sort the items based on the count\n",
        "fdist_reviews_list = sorted(fdist_reviews.items(), key=lambda x:x[1], reverse= True)\n",
        "# Then, we create a dictionary with the first 10 items\n",
        "top10_tokens = dict(fdist_reviews_list[:10])\n",
        "# print the top 10 tokens and their count\n",
        "for k in top10_tokens:\n",
        "  print (k, top10_tokens [k])"
      ],
      "metadata": {
        "colab": {
          "base_uri": "https://localhost:8080/"
        },
        "id": "vrbUud1vvG2Y",
        "outputId": "74f86c35-af98-4dc6-90f1-6c9907dc4161"
      },
      "execution_count": null,
      "outputs": [
        {
          "output_type": "stream",
          "name": "stdout",
          "text": [
            "office 34\n",
            "kokhab 24\n",
            "get 23\n",
            "doctor 22\n",
            "time 21\n",
            "would 18\n",
            "staff 15\n",
            "pain 13\n",
            "seen 12\n",
            "mary 12\n"
          ]
        }
      ]
    },
    {
      "cell_type": "markdown",
      "source": [
        "# Step 5: Find word context - office"
      ],
      "metadata": {
        "id": "fJnI9HgxzBtv"
      }
    },
    {
      "cell_type": "code",
      "source": [
        "# test on one case\n",
        "# convert reviews to a text object in NLTK for later analysis\n",
        "print(len(review_token_list[0]))\n",
        "token_text = nltk.text.Text(review_token_list[0])"
      ],
      "metadata": {
        "colab": {
          "base_uri": "https://localhost:8080/"
        },
        "id": "oM4WRq7BzJ1k",
        "outputId": "58445a49-0d57-44ba-ee70-55ba86e8e8f3"
      },
      "execution_count": null,
      "outputs": [
        {
          "output_type": "stream",
          "name": "stdout",
          "text": [
            "139\n"
          ]
        }
      ]
    },
    {
      "cell_type": "code",
      "source": [
        "# context surrounding the office\n",
        "token_text.concordance('office')"
      ],
      "metadata": {
        "colab": {
          "base_uri": "https://localhost:8080/"
        },
        "id": "2lBYRCoAzKkG",
        "outputId": "3b925bd2-9e38-437d-e1d2-91110e8e4861"
      },
      "execution_count": null,
      "outputs": [
        {
          "output_type": "stream",
          "name": "stdout",
          "text": [
            "no matches\n"
          ]
        }
      ]
    },
    {
      "cell_type": "code",
      "source": [
        "# It's hard to fine concordance in the single review\n",
        "# so I use the whole reviews\n",
        "token_corpus = [token for review in review_token_list for token in review]\n",
        "print(token_corpus)"
      ],
      "metadata": {
        "colab": {
          "base_uri": "https://localhost:8080/"
        },
        "id": "lsLsDYQwfwCd",
        "outputId": "24d5fed7-867a-4ef7-cb65-69875b1501ee"
      },
      "execution_count": null,
      "outputs": [
        {
          "output_type": "stream",
          "name": "stdout",
          "text": [
            "['Awesome', 'team', ',', 'very', 'knowledgeable', '.', 'My', 'wife', 'was', 'seen', 'and', 'recommended', 'by', 'Gloria', 'Stevens', ',', 'MD', '(', 'who', 'is', 'also', 'within', 'the', 'same', 'business', 'complex', ')', '--', 'we', 'were', 'seen', 'rather', 'quick', ',', 'and', 'quickly', 'the', 'doctor', 'was', 'able', 'to', 'get', 'on', 'the', 'same', 'page', '.', 'She', 'asked', 'key', 'questions', ',', 'added', 'a', 'steroid', 'to', 'help', 'cycle', 'my', 'wife', 'off', 'prednisone', 'and', 'was', 'very', 'helpful', 'throughout', 'the', 'entire', 'process', '.', 'My', 'wife', 'left', 'with', 'comfort', ',', 'and', 'hope', '.', 'My', 'wife', 'is', 'battling', 'an', 'autoimmune', 'disease', 'which', 'is', '50', '/', '50', 'either', 'Chrons', 'or', 'Henoch', '-', 'Schonlein', '--', 'we', 'are', 'puzzling', 'this', 'all', 'together', 'and', 'are', 'hoping', 'its', 'just', 'Henoch', '-', 'Schonlein', '.', 'We', 'will', 'know', 'very', 'soon', 'as', 'my', 'wife', 'has', 'biopsies', 'pending', 'USC', ',', 'and', 'then', 'a', 'followup', 'with', 'the', 'GI', 'Doctor', '.', 'Highly', 'recommended', '.', 'If', 'you', 'want', 'to', 'be', 'berated', 'and', 'treated', 'like', 'dirt', 'by', 'the', 'staff', ',', 'then', 'definitely', 'call', 'this', 'office', '.', 'Phone', 'etiquette', 'is', 'zero', '&', 'the', 'way', 'the', 'staff', 'speaks', 'to', 'callers', 'certainly', 'reflects', 'on', 'the', 'doctors', 'who', 'allow', 'it', '.', 'Dr', '.', 'Sadeghi', 'is', 'an', 'absolutely', 'outstanding', 'physician', '.', 'He', 'is', 'extremely', 'knowledgeable', 'about', 'rheumatological', 'conditions', 'and', 'maintains', 'an', 'excellent', 'bedside', 'manner', '.', 'At', 'each', 'visit', 'he', 'completes', 'a', 'thorough', 'physical', 'exam', ',', 'checking', 'for', 'any', 'new', 'signs', 'or', 'symptoms', 'of', 'autoimmune', 'disease', '.', 'He', 'answers', 'all', 'of', 'my', 'questions', 'and', 'concerns', 'with', 'patience', 'and', 'kindness', '.', 'Dr', '.', 'Sadeghi', 'also', 'encourages', 'me', 'to', 'eat', 'healthy', ',', 'and', 'try', 'to', 'get', 'exercise', '.', 'Of', 'note', ',', 'I', 'had', 'previously', 'seen', 'a', 'very', 'good', 'physician', 'at', 'UCLA', 'in', 'the', 'same', 'specialty', 'however', ',', 'I', 'chose', 'Dr', '.', 'Sadeghi', 'as', 'he', 'addressed', 'all', 'of', 'my', 'concerns', 'and', 'has', 'kept', 'a', 'close', 'follow', 'up', 'schedule', 'to', 'ensure', 'my', 'condition', 'does', 'not', 'deteriorate', '.', 'Dr', '.', 'Sadeghi', \"'\", 's', 'staff', 'is', 'always', 'helpful', 'and', 'very', 'professional', '.', 'I', 'am', 'so', 'grateful', 'I', 'found', 'Upland', 'Rheumatology', '!', 'Dr', 'KOHKAB', '-', 'help', '!!!', 'This', 'clinic', 'is', 'going', 'down', 'fast', '.', 'Mary', 'does', 'not', 'listen', 'and', 'is', 'a', 'very', 'poor', 'provider', '.', 'She', 'took', 'me', 'off', 'my', 'meds', 'out', 'of', 'the', 'blue', ',', 'does', 'not', 'listen', '-', 'overbooks', 'and', 'I', 'was', 'rushed', '.', 'This', 'clinic', 'is', 'a', 'mere', 'shadow', 'of', 'what', 'it', 'used', 'to', 'be', '.', 'Good', 'news', 'and', 'BAD', 'news', 'about', 'this', 'office', '.', 'First', ',', 'the', 'office', 'overcharged', 'me', 'and', 'my', 'husband', 'for', 'our', 'co', '-', 'pays', 'for', 'several', 'visits', 'and', 'it', 'took', '3', 'Months', 'and', 'too', 'many', 'phone', 'calls', 'to', 'get', 'refunded', '.', 'The', 'office', 'staff', ',', 'primarily', 'Cece', 'are', 'the', 'rudest', 'office', 'personnel', 'that', 'I', 'have', 'ever', 'come', 'across', '.', 'Very', 'unhelpful', 'and', 'they', 'just', 'seem', 'annoyed', 'when', 'they', 'are', 'speaking', 'with', 'you', '.', 'Because', 'of', 'the', 'previously', 'mentioned', 'issues', 'and', 'scheduling', 'problems', 'I', 'asked', 'for', 'my', 'records', 'to', 'be', 'sent', 'to', 'my', 'new', 'Rheumatologist', '.', 'Cece', 'said', 'to', 'get', 'the', 'records', 'myself', 'from', 'my', 'primary', 'doctor', '.', 'My', 'primary', 'doctor', 'has', 'not', 'received', 'Any', 'progress', 'notes', 'etc', 'since', '2019', '.', 'That', 'is', 'the', 'kind', 'of', 'customer', 'service', 'you', 'get', 'from', 'that', 'office', 'and', 'Cece', '.', 'Dr', 'Schumann', 'was', 'fine', '.', 'The', 'Good', 'news', 'is', 'that', 'because', 'of', 'that', 'horrible', 'office', 'I', 'found', 'a', 'fantastic', 'Rheumatologist', 'that', 'I', 'love', 'and', 'love', 'his', 'staff', '.', 'They', 'are', 'kind', 'and', 'professional', '.', 'Nothing', 'like', 'This', 'office', '.', 'Do', 'not', 'go', 'there', '.', 'Not', 'only', 'have', 'they', 'not', 'responded', 'to', 'my', 'post', ',', 'they', 'now', 'will', 'not', 'refill', 'my', 'prescriptions', '-', 'these', 'are', 'evil', 'people', ';', 'do', 'not', 'use', 'this', 'office', 'DO', 'NOT', 'COME', 'HERE', '!', 'First', 'of', 'all', 'I', 'want', 'to', 'say', 'professionalism', 'is', 'something', 'that', 'should', 'be', 'portrayed', 'in', 'every', 'establishment', 'of', 'any', 'sort', '.', 'Cynthia', '\"', 'the', 'supposed', 'manager', '\"', 'made', 'it', 'very', 'clear', 'that', 'professionalism', 'is', 'not', 'valued', 'here', '.', 'She', 'wreaked', 'of', 'alcohol', 'and', 'honestly', 'seemed', 'hung', 'over', '.', 'I', 'would', 'never', 'support', 'an', 'establishment', 'that', 'allows', 'this', 'for', 'their', '\"', 'managers', '\"', 'or', 'any', 'of', 'their', 'employees', 'in', 'general', '.', 'When', 'I', 'arrived', 'for', 'my', 'appointment', 'she', 'basically', 'told', 'me', 'to', 'F', '*', 'ck', 'off', '.', 'Tell', 'your', 'insurance', 'to', 'send', 'you', 'elsewhere', '.', 'NEVER', 'AGAIN', '!', 'Upland', 'rheumatology', 'center', ',', 'do', 'better', '...', 'With', 'the', 'Covid', '-', '19', 'restrictions', 'lifting', 'I', 'decided', 'to', 'come', 'into', 'the', 'office', 'to', 'see', 'a', 'rheumatologist', 'as', 'my', 'PCP', 'recommend', '.', 'I', 'was', 'seen', 'by', 'Dr', '.', 'Stacey', 'Schulman', '.', 'Dr', '.', 'Schulman', 'has', 'been', 'a', 'godsend', '!', 'She', 'listened', 'to', 'my', 'concerns', 'and', 'symptoms', '.', 'She', 'was', 'able', 'to', 'accurately', 'diagnose', 'me', ',', 'and', 'immediately', 'start', 'me', 'on', 'a', 'plan', '.', 'We', 'are', 'still', 'working', 'to', 'find', 'the', 'right', 'medication', '/', 'dosage', 'combination', 'but', 'I', 'feel', 'that', 'I', 'am', 'in', 'good', 'hands', '.', 'I', 'have', 'already', 'noticed', 'significant', 'improvements', '.', 'Thank', 'you', ',', 'Dr', '.', 'Schulman', '.', 'Horrible', 'Service', '!', 'Tiffany', 'and', 'Karina', 'are', 'inconsiderate', ',', 'rude', 'and', 'disrespectful', '!', 'Do', 'not', 'go', 'to', 'this', 'office', '.', 'They', 'cancel', 'my', 'wife', 'medication', 'because', 'we', 'did', 'not', 'respond', 'to', 'the', 'pharmacy', 'on', 'when', 'we', 'would', 'be', 'available', 'to', 'pick', 'up', 'our', 'medication', 'while', 'we', 'were', 'on', 'vacation', '.', 'They', 'did', 'not', 'have', 'have', 'the', 'right', 'to', 'cancel', 'my', 'wife', 'prescription', 'that', 'was', 'approved', '.', 'They', 'are', 'asking', 'her', 'for', 'her', 'to', 'go', 'on', 'for', 'lab', 'work', '.', 'This', 'medication', 'does', 'not', 'require', 'lab', 'work', '.', 'They', 'do', 'not', 'know', 'why', 'they', 'are', 'doing', '.', 'After', 'speaking', 'to', 'the', 'doctor', 'today', ',', 'he', 'agreed', 'with', 'us', 'that', 'lab', 'work', 'is', 'not', 'required', '!', 'They', 'do', 'not', 'bother', 'to', 'call', 'the', 'doctor', 'and', 'they', 'could', 'not', 'provide', 'the', 'name', 'of', 'the', 'office', 'manager', 'who', 'was', 'on', 'vacation', 'or', 'unavailable', 'until', '5', 'days', 'later', '.', 'Would', 'not', 'recommend', 'the', 'office', 'whatsoever', '!', 'I', 'have', 'been', 'Dr', '.', 'Najafabadi', \"'\", 's', 'patient', 'for', 'a', 'couple', 'years', 'and', 'have', 'always', 'been', 'very', 'pleased', 'with', 'the', 'care', 'and', 'attention', 'I', 'have', 'received', 'from', 'him', '.', 'He', 'is', 'very', 'knowledgeable', ',', 'professional', 'and', 'caring', '.', 'His', 'staff', 'are', 'also', 'courteous', 'and', 'professional', '.', 'Great', 'experience', 'overall', '!', 'Cece', 'the', 'office', 'manager', 'is', 'the', 'most', 'unprofessional', 'person', '.', 'I', 'will', 'be', 'switching', 'offices', '.', 'Save', 'the', 'stress', 'and', 'go', 'somewhere', 'else', '!', 'I', 'have', 'been', 'trying', 'to', 'get', 'an', 'appointment', 'with', 'a', 'rheumatologist', 'here', 'for', 'several', 'weeks', '.', 'I', 'initially', 'called', 'in', 'the', 'middle', 'of', 'the', 'day', ',', 'got', 'a', 'really', 'rude', 'woman', 'who', 'wanted', 'me', ',', 'personally', ',', 'to', 'collect', 'my', 'files', ',', 'even', 'though', 'I', 'would', 'signed', 'paperwork', 'so', 'it', 'could', 'be', 'released', 'to', 'them', 'upon', 'their', 'request', ',', 'before', 'she', 'would', 'even', 'put', 'me', 'in', 'the', 'appointment', 'book', '.', 'I', 'had', 'my', 'files', 'faxed', 'over', ',', 'called', 'back', 'not', '15', 'minutes', 'later', ',', 'got', 'put', 'on', 'hold', 'while', 'someone', '\"', 'checks', 'for', 'my', 'file', '\".', 'I', 'am', 'on', 'hold', 'so', 'long', ',', 'the', 'hold', 'system', 'hangs', 'up', 'on', 'me', '.', 'I', 'call', 'back', 'immediately', ',', 'I', 'get', 'their', 'voicemail', ';', 'they', 'have', 'mysteriously', 'closed', 'in', 'the', 'middle', 'of', 'their', 'stated', 'business', 'hours', ',', 'while', 'a', 'patient', 'is', 'sitting', 'on', 'hold', 'and', 'they', 'are', 'supposedly', 'doing', 'something', 'for', 'that', 'patient', '.', 'I', 'wonder', 'if', 'it', 'is', 'just', 'that', 'all', 'lines', 'are', 'busy', ',', 'so', 'I', 'call', 'a', 'few', 'more', 'times', 'over', 'the', 'next', 'hour', ';', 'nothing', '.', 'I', 'called', 'during', 'business', 'hours', 'the', 'next', 'day', ',', 'someone', 'picked', 'up', 'and', 'put', 'me', 'on', 'hold', ',', 'I', 'waited', 'several', 'minutes', ',', 'the', 'phone', \"'\", 's', 'hold', 'system', 'hung', 'up', 'on', 'me', ',', 'again', ',', 'because', 'I', 'would', 'been', 'on', 'hold', 'too', 'long', '.', 'I', 'called', 'back', ',', 'and', ',', 'again', ',', 'middle', 'of', 'stated', 'business', 'hours', ',', 'they', 'were', 'mysteriously', 'closed', '.', 'Again', ',', 'tried', 'to', 'call', 'several', 'more', 'times', 'over', 'the', 'next', 'hour', ';', 'nothing', '.', 'This', 'happened', 'several', 'times', ',', 'over', 'the', 'course', 'of', 'several', 'days', ',', 'with', 'me', 'leaving', 'voicemails', 'with', 'my', 'contact', 'info', 'whenever', 'I', 'got', 'their', 'voicemail', 'box', '.', 'No', 'calls', 'back', ',', 'no', 'voicemails', 'for', 'me', ',', 'nothing', '.', 'I', '*', 'finally', '*', 'got', 'someone', 'on', 'the', 'line', 'the', 'other', 'day', 'willing', 'to', 'actually', 'get', 'me', 'an', 'appointment', ';', 'I', 'asked', '(', 'politely', ')', 'what', 'is', 'going', 'on', ',', 'as', 'I', 'have', 'received', '*', 'no', 'contact', 'whatsoever', '*', 'from', 'the', 'office', '.', 'I', 'received', 'a', 'shirty', 'comment', 'about', 'them', 'calling', 'and', 'leaving', 'me', 'a', 'voicemail', 'ages', 'ago', '(', 'as', 'I', 'am', 'looking', 'directly', 'at', 'my', 'call', 'logs', 'madam', ';', 'nothing', 'from', 'you', 'guys', '!).', 'I', 'ask', 'what', 'number', 'they', 'were', 'calling', ',', 'as', 'I', 'would', 'continued', 'leaving', 'messages', 'since', 'the', 'date', 'they', 'would', 'supposedly', 'called', 'me', '.', 'Instead', 'of', 'calling', 'the', 'number', 'I', 'kept', 'leaving', ',', 'over', 'and', 'over', 'again', 'on', 'my', 'voicemails', ',', 'they', 'supposedly', 'called', 'a', 'number', 'that', 'I', 'have', 'not', 'left', 'them', 'at', 'all', ',', 'that', 'was', 'in', 'my', 'healthcare', 'paperwork', 'that', 'had', 'been', 'faxed', 'over', '.', 'A', 'number', 'that', 'at', 'no', 'point', 'has', 'been', 'my', 'primary', 'contact', 'number', ',', 'and', 'has', 'not', 'been', 'put', 'in', 'any', 'of', 'my', 'paperwork', 'in', 'the', 'last', '7', 'months', '.', 'My', 'contact', 'number', 'I', 'kept', 'leaving', 'in', 'voicemails', 'is', 'literally', 'in', 'there', 'in', 'my', 'gp', 'contact', 'info', 'with', 'no', 'other', 'phone', 'number', '.', 'The', 'only', 'way', 'they', 'would', 'have', 'the', 'old', 'one', 'is', 'by', 'going', 'into', 'my', 'insurance', 'info', 'and', 'bypassing', '*', 'all', 'my', 'current', 'information', '*', 'to', 'get', 'to', 'the', 'old', 'stuff', '.', 'Madam', ',', 'you', 'did', 'not', 'leave', 'a', 'voicemail', 'at', 'that', 'old', 'number', ';', 'that', 'number', '*', 'has', 'not', 'been', 'active', '*', 'since', 'the', 'beginning', 'of', 'the', 'pandemic', '.', 'I', 'am', 'pretty', 'sure', 'the', 'voicemail', 'for', 'it', 'does', 'not', 'even', 'work', 'anymore', ';', 'a', 'distant', 'relative', 'tried', 'calling', 'not', '2', 'days', 'after', 'the', 'center', 'supposedly', 'called', 'and', 'it', 'had', 'not', 'even', 'been', 're', '-', 'allocated', 'to', 'another', 'person', 'yet', 'and', 'was', 'completely', 'out', 'of', 'service', ',', 'with', 'no', 'ability', 'to', 'leave', 'voicemails', '.', 'I', 'have', 'not', 'even', 'had', 'the', 'chance', 'to', 'see', 'a', 'doctor', 'yet', ',', 'and', 'this', 'place', 'is', 'already', 'pretty', 'sus', '.', 'I', 'am', 'genuinely', 'hoping', 'actually', 'seeing', 'the', 'doctor', 'will', 'change', 'my', 'mind', 'about', 'this', 'place', ',', 'and', 'will', 'update', 'my', 'review', 'afterward', '.', 'I', 'was', 'there', 'cup', 'of', 'times', ',', 'never', 'seem', 'by', 'the', 'Dr', '.', 'him', 'self', '.', 'Always', 'told', 'me', 'he', 'was', 'busy', ',', 'and', 'seem', 'by', 'his', 'nurse', 'practitioner', '.', 'She', 'does', 'not', 'have', 'the', 'knowledge', 'to', 'see', 'patients', 'by', 'herself', '.', 'Mistreated', 'my', 'condition', ',', 'and', 'prescribed', 'a', 'medication', 'with', 'lots', 'of', 'side', 'effects', 'just', 'to', 'test', 'it', 'out', '.', 'Stay', 'away', 'this', 'horrible', 'office', '.', 'And', 'try', 'to', 'get', 'seem', 'with', 'a', 'Doctor', 'that', 'have', 'time', 'for', 'his', 'patients', '!', 'I', 'accept', 'the', 'explanation', 'given', 'for', 'the', 'circumstances', 'I', 'encountered', '.', 'That', 'does', 'not', 'change', 'my', 'past', 'impressions', 'but', 'it', 'does', 'leave', 'room', 'for', 'new', 'ones', '.', 'Dr', 'Kokhab', 'is', 'no', 'longer', 'running', 'an', 'urgent', 'care', 'and', 'in', 'the', 'new', 'office', 'he', 'has', 'new', 'personnel', '.', 'I', 'will', 'be', 'going', 'back', 'for', 'follow', 'up', 'care', '.', 'I', 'needed', 'shots', 'of', 'B12', 'and', 'Toradol', 'because', 'I', 'am', 'completely', 'exhausted', 'and', 'in', 'extreme', 'pain', 'and', 'wanted', 'to', 'get', 'in', 'and', 'simply', 'get', 'the', 'shots', 'and', 'I', 'was', 'told', 'no', 'availability', 'until', 'April', '.', 'Well', 'my', 'pain', 'and', 'exhaustion', 'just', 'comes', 'with', 'no', 'warning', '.', 'I', 'am', 'going', 'to', 'have', 'to', 'look', 'for', 'another', 'rheumy', 'who', 'can', 'accommodate', 'me', '.', 'This', 'is', 'ridiculous', '.', 'Made', 'me', 'feel', 'like', 'like', 'my', 'visit', 'unimportant', '.', 'Was', 'sarcastic', 'when', 'I', 'answered', 'his', 'questions', 'regarding', 'my', 'health', '.', 'I', 'had', 'couple', 'of', 'televisits', 'with', 'a', 'Dr', '.', 'Sadeghi', 'from', 'this', 'office', ',', 'very', 'nice', 'and', 'knowledgable', 'doctor', 'and', 'was', 'happy', 'with', 'my', 'visit', ';', 'however', ',', 'I', 'had', 'to', 'change', 'offices', 'on', 'account', 'of', 'how', 'inefficiently', 'this', 'office', 'was', 'run', '.', 'It', 'was', 'a', 'constant', 'chase', 'to', 'try', 'to', 'make', 'an', 'appointment', ',', 'have', 'them', 'provide', 'the', 'right', 'paper', 'work', 'first', 'time', 'around', ',', 'could', 'not', 'leave', 'a', 'message', 'voice', 'mail', 'was', 'full', ',', 'phone', 'would', 'ring', 'forever', 'no', 'one', 'would', 'pick', 'up', 'for', 'the', 'most', 'part', '.', 'I', 'emailed', 'requesting', 'an', 'appointment', 'and', 'got', 'a', 'call', 'back', 'eight', 'days', 'later', '.', 'Cece', 'the', 'manager', 'gave', 'wrong', 'info', '.', 'to', 'my', 'insurance', 'company', 'noting', 'that', 'I', 'had', 'bone', 'cancer', ',', 'I', 'do', 'not', '.', 'She', 'had', 'to', 'reapply', 'correctly', 'second', 'time', 'around', 'without', 'even', 'an', 'apology', 'for', 'her', 'mistake', 'to', 'me', '.', 'LOL', 'total', 'chaos', '.', 'I', 'was', 'just', 'seen', 'by', 'Mary', ',', 'the', 'PA', ',', 'today', '.', 'Everyone', 'in', 'the', 'office', 'was', 'professional', ',', 'kind', ',', '&', 'even', 'personable', '.', 'Yes', ',', 'appointments', 'are', 'scheduled', 'out', 'a', 'bit', ',', 'but', 'they', 'actually', 'got', 'me', 'in', 'a', 'little', 'sooner', ',', 'due', 'to', 'a', 'cancellation', '.', 'Frankly', ',', 'it', 'is', 'worth', 'the', 'wait', '.', 'I', 'would', 'rather', 'have', 'a', 'hard', 'time', 'getting', 'an', 'appointment', 'and', 'get', 'the', 'treatment', 'that', 'I', 'need', 'and', 'deserve', ',', 'than', 'get', 'a', 'sooner', 'appointment', 'with', 'someone', 'who', 'rushes', 'me', 'in', 'and', 'out', ',', 'vs', 'Mary', 'who', 'took', 'her', 'time', 'with', 'me', '.', 'She', 'provided', 'a', 'very', 'thorough', 'exam', ',', 'went', 'over', 'testing', 'that', 'had', 'already', 'been', 'done', 'by', 'my', 'primary', 'and', 'ENT', ',', 'and', 'ordered', 'more', 'testing', '.', 'She', 'does', 'not', 'do', 'what', 'I', 'have', 'had', 'doctors', 'do', 'in', 'the', 'past', '...', 'You', 'know', 'those', 'doctors', '?', 'The', 'ones', 'that', 'give', 'you', 'medicine', 'to', 'try', '?', 'I', 'look', 'forward', 'to', 'working', 'with', 'her', 'more', ',', 'and', 'feeling', 'a', 'lot', 'better', '!', 'For', 'years', 'I', 'have', 'been', 'suffering', 'from', 'bad', 'migraines', 'and', 'overall', 'aches', 'and', 'pain', '.', 'Just', 'a', 'simple', 'touch', 'to', 'my', 'body', 'would', 'trigger', 'agonizing', 'pain', '.', 'It', 'was', 'not', 'until', 'I', 'started', 'sharing', 'my', 'problems', 'with', 'other', 'family', 'members', 'who', 'have', 'been', 'dealing', 'with', 'similar', 'issues', 'that', 'they', 'suggested', 'that', 'I', 'go', 'see', 'a', 'rheumatologist', '.', 'Thank', 'goodness', 'that', 'I', 'took', 'their', 'advice', 'and', 'found', 'Dr', '.', 'K', '.', 'The', 'first', 'time', 'that', 'I', 'met', 'with', 'Dr', '.', 'K', ',', 'he', 'immediately', 'sent', 'me', 'out', 'for', 'labwork', '.', 'I', 'scheduled', 'a', 'follow', 'up', 'exam', 'with', 'Dr', '.', 'K', 'to', 'review', 'my', 'lab', 'results', 'and', 'after', 'a', 'thorough', 'in', '-', 'office', 'examination', 'Dr', '.', 'K', 'was', 'able', 'to', 'diagnose', 'me', '.', 'Dr', '.', 'K', 'has', 'put', 'me', 'on', 'a', 'course', 'of', 'treatment', 'that', 'has', 'done', 'wonders', 'for', 'my', 'headaches', 'and', 'has', 'also', 'helped', 'make', 'my', 'pain', 'more', 'tolerable', '.', 'Dr', '.', 'K', 'is', 'very', 'knowledgeable', 'and', 'caring', '.', 'He', 'really', 'takes', 'time', 'to', 'listen', 'and', 'I', 'never', 'feel', 'rushed', '.', 'Another', 'thing', 'that', 'I', 'really', 'appreciate', 'about', 'Dr', '.', 'K', 'is', 'that', 'he', 'knows', 'how', 'I', 'feel', 'about', 'taking', 'medication', '.', 'He', 'does', 'not', 'try', 'to', 'push', 'me', 'into', 'taking', 'anything', 'that', 'I', 'am', 'not', 'comfortable', 'with', '.', 'He', 'has', 'no', 'problem', 'explaining', 'recommended', 'medications', 'and', 'their', 'side', 'effects', '.', 'In', 'fact', ',', 'he', 'even', 'writes', 'the', 'medications', 'down', 'for', 'me', 'before', 'I', 'leave', 'so', 'that', 'I', 'can', 'do', 'my', 'own', 'research', 'and', 'ponder', 'over', 'my', 'decision', 'for', 'our', 'next', 'visit', '.', 'If', 'you', 'find', 'yourself', 'in', 'a', 'similar', 'situation', 'like', 'mine', ',', 'I', 'would', 'highly', 'recommend', 'Dr', '.', 'K', '.', 'He', 'is', 'absolutely', 'wonderful', '!', 'Dr', 'Kokhab', 'is', 'an', 'excellent', 'dr', 'he', 'takes', 'the', 'time', 'to', 'talk', 'to', 'youHe', 'explains', 'things', 'and', 'does', 'not', 'over', 'react', '.', 'I', 'highly', 'recommend', 'him', 'Great', 'doctor', 'and', 'staff', '.', 'I', 'have', 'been', 'a', 'patient', 'for', 'almost', '10', 'years', '.', 'I', 'also', 'see', 'Mary', ',', 'the', 'physician', 'assistant', ',', 'and', 'she', 'is', 'the', 'most', 'caring', 'doctor', 'ever', '.', 'She', 'takes', 'her', 'time', 'with', 'you', 'and', 'you', 'never', 'feel', 'rushed', '.', 'Mary', 'and', 'Dr', '.', 'Kokhab', 'are', 'very', 'kind', ',', 'caring', ',', 'and', 'knowledgeable', 'doctors', '.', 'I', 'highly', 'recommend', 'them', 'both', '.', 'I', 'have', 'gone', 'to', 'this', 'office', 'many', 'times', 'and', 'wait', 'for', 'hours', 'just', 'for', 'the', 'Dr', 'to', 'say', 'although', 'I', 'have', 'positive', 'labs', 'for', 'a', 'condition', 'he', 'does', 'not', 'think', 'that', 'is', 'what', 'is', 'the', 'because', 'of', 'my', 'pain', '.', 'In', 'addition', 'his', 'demeanor', 'is', 'creepy', 'I', 'was', 'very', 'uncomfortable', 'in', 'a', 'room', 'with', 'him', 'every', 'time', '.', 'I', 'would', 'find', 'another', 'place', 'to', 'go', '.', 'Do', 'not', 'come', 'to', 'this', 'office', 'as', 'they', 'will', 'give', 'you', 'a', 'shot', 'that', 'may', 'not', 'cover', 'by', 'your', 'insurance', '.', 'I', 'later', 'found', 'out', 'It', 'cost', 'only', '$', '5', 'copay', 'on', 'those', 'shots', 'to', 'do', 'it', 'at', 'home', '.', 'They', 'will', 'bill', 'you', '$', '120', 'not', 'covered', 'by', 'your', 'insurance', 'and', 'not', 'to', 'tell', 'you', 'about', 'it', 'upfront', '.', 'Those', 'shots', 'were', 'samples', 'provided', 'by', 'pharmaceutical', 'firms', '.', 'No', 'other', 'doctors', 'have', 'charged', 'me', 'samples', '.', 'I', 'have', 'been', 'going', 'to', 'the', 'nurse', 'practitioner', ',', 'Mary', ',', 'here', 'for', 'more', 'than', '2', 'years', 'now', '.', 'From', 'the', 'very', 'first', 'time', 'I', 'came', 'in', ',', 'to', 'now', ',', 'Mary', 'has', 'been', 'incredibly', 'kind', ',', 'caring', 'and', 'helpful', '.', 'She', 'is', 'very', 'well', 'informed', 'on', 'how', 'to', 'treat', 'her', 'patients', 'and', 'I', 'am', 'very', 'grateful', 'to', 'have', 'her', 'as', 'my', 'rheumatologist', '.', 'I', 'trust', 'her', 'completely', 'and', 'will', 'continue', 'to', 'trust', 'her', 'as', 'she', 'treats', 'me', '.', 'The', 'staff', 'here', 'are', 'also', 'very', 'friendly', 'and', 'helpful', 'whenever', 'I', 'have', 'a', 'problem', 'with', 'appointments', 'or', 'prescriptions', ',', 'both', 'on', 'the', 'phone', 'and', 'in', 'person', '.', 'I', 'feel', 'very', 'lucky', 'to', 'have', 'this', 'group', 'of', 'staff', '.', 'I', 'have', 'been', 'seen', 'Dr', '.', 'Mary', 'here', 'for', '1', 'year', 'now', '.', 'I', 'absolutely', 'adore', 'her', '.', 'She', 'takes', 'the', 'time', 'to', 'speak', 'with', 'you', 'without', 'rushing', 'out', 'the', 'door', 'and', 'makes', 'it', 'personal', 'rather', 'than', 'just', 'a', 'sterile', 'environment', '.', 'I', 'had', 'not', 'seen', 'her', 'for', '6', 'months', 'due', 'to', 'my', 'insurance', 'changing', ',', 'but', 'when', 'I', 'went', 'back', 'she', 'immediately', 'asked', 'me', 'how', 'my', 'son', 'was', 'doing', '--', 'she', 'remembered', '.', 'Not', 'to', 'mention', 'she', 'gets', 'the', 'job', 'done', 'and', 'does', 'whatever', 'it', 'takes', 'to', 'make', 'you', 'better', '.', 'I', 'went', 'there', 'barely', 'being', 'able', 'to', 'move', 'because', 'of', 'my', 'psoriatic', 'arthritis', '.', 'With', 'her', 'help', '(', 'after', 'my', 'dermatologist', 'failed', 'me', ')', 'she', 'was', 'able', 'to', 'get', 'medication', 'approved', 'that', 'worked', 'for', 'me', 'and', 'I', 'went', 'from', 'a', 'pain', 'scale', 'of', '10', 'to', 'a', 'ZERO', '!', 'This', 'has', 'allowed', 'me', 'to', 'do', 'everything', 'a', 'mommy', 'needs', 'to', 'do', 'for', 'their', '1', 'year', 'old', 'and', 'I', 'cannot', 'think', 'her', 'enough', '.', 'I', 'wen', 'my', 'there', 'with', 'a', 'bleak', 'outlook', '(', 'self', 'imposed', ')', 'because', 'I', 'could', 'barely', 'move', '.', 'It', 'hurt', 'to', 'roll', 'over', 'in', 'bed', ',', 'could', 'not', 'get', 'out', 'of', 'bed', 'without', 'help', 'and', 'could', 'not', 'even', 'change', 'my', 'sons', 'diaper', 'without', 'pain', '.', 'I', 'did', 'not', 'think', 'there', 'was', 'any', 'hope', 'until', 'Mary', '.', 'Truly', 'thankful', 'for', 'my', 'new', 'quality', 'of', 'life', 'because', 'of', 'Mary', '.', 'The', 'ONLY', 'not', 'so', 'great', 'thing', 'I', 'can', 'say', 'about', 'this', 'place', 'is', 'that', 'it', 'is', 'sometimes', 'difficult', 'to', 'reach', 'somebody', '.', 'I', 'usually', 'get', 'VM', 'when', 'I', 'try', 'to', 'schedule', 'an', 'appointment', 'and', 'have', 'to', 'keep', 'calling', 'back', 'because', 'my', 'calls', 'are', 'not', 'returned', 'in', 'a', 'timely', 'manner', '.', 'But', ',', 'that', 'is', 'not', 'Mary', \"'\", 's', 'fault', '!', 'I', 'am', 'a', 'first', 'time', 'patient', ',', 'who', 'saw', 'Dr', '.', 'Kokhab', 'today', '.', 'Despite', 'being', '15', 'minutes', 'late', 'I', 'was', 'seen', 'promptly', 'and', 'evaluated', 'thoroughly', '.', 'They', 'pulled', 'my', 'medical', 'records', 'quickly', 'too', '.', 'This', 'doctor', 'is', 'very', 'professional', 'and', 'helpful', '.', 'As', 'I', 'was', 'leaving', 'I', 'noticed', 'no', 'one', 'asked', 'to', 'schedule', 'my', 'follow', 'up', 'visit', ',', 'but', 'it', 'is', 'no', 'biggie', 'and', 'then', 'I', 'got', 'a', 'call', 'from', 'them', 'to', 'make', 'my', 'follow', 'up', '.', '5', 'star', 'service', '!!!', 'Dr', '.', 'Kokhab', 'and', 'his', 'office', 'are', 'doing', 'a', 'great', 'job', 'treating', 'me', 'for', 'fibromyalgia', '.', 'His', 'whole', 'office', 'is', 'very', 'polite', 'and', 'caring', '.', 'They', 'explained', 'the', 'condition', 'to', 'me', 'in', 'great', 'detail', 'and', 'took', 'my', 'concerns', 'about', 'living', 'on', 'medication', 'very', 'seriously', '.', 'I', 'appreciate', 'Dr', '.', 'Kokhab', 'working', 'with', 'me', 'to', 'devise', 'a', 'live', 'able', 'treatment', 'plan', '.', 'I', 'highly', 'recommend', 'him', '!', 'I', 'am', 'into', 'my', 'second', 'week', 'of', 'plant', 'based', 'eating', 'since', 'seeing', 'Dr', 'Kokhab', '.', 'I', 'am', 'feeling', 'so', 'much', 'better', '!', 'Still', 'cannot', 'believe', 'what', 'a', 'difference', 'it', 'has', 'made', 'in', 'my', 'day', 'to', 'day', 'activities', '.', 'He', 'is', 'amazing', 'and', 'very', 'knowledgeable', '.', 'My', 'body', 'was', 'wracked', 'with', 'pain', 'that', 'I', 'was', 'beyond', 'exhausted', 'and', 'miserable', '!!', 'I', 'am', 'so', 'glad', 'that', 'my', 'primary', 'Physician', ',', 'Dr', 'Zuniga', 'referred', 'me', 'to', 'Dr', 'Kokhab', '!!!', 'I', 'am', 'feeling', 'more', 'positive', 'about', 'my', 'outlook', 'for', 'managing', 'my', 'pain', 'and', 'depression', '.', 'Thank', 'you', 'Dr', 'Kokhab', '.', 'I', 'had', 'an', 'appointment', 'with', 'Dr', '.', 'Kokhab', 'today', '.', 'He', 'listened', 'and', 'made', 'some', 'recommendations', ',', 'that', 'I', 'will', 'take', 'into', 'consideration', '.', 'I', 'cannot', 'say', 'enough', 'amazing', 'things', 'about', 'Dr', '.', 'Kokhab', 'and', 'his', 'staff', '.', 'I', 'have', 'been', 'seen', 'by', 'so', 'many', 'doctors', 'and', 'no', 'one', 'was', 'able', 'to', 'help', 'and', 'I', 'was', 'starting', 'to', 'loose', 'hope', 'that', 'I', 'would', 'get', 'better', '.', 'Dr', '.', 'Kokhab', 'is', 'amazing', '!!', 'He', 'saw', 'me', 'and', 'ran', 'all', 'the', 'proper', 'blood', 'tests', 'but', 'once', 'we', 'got', 'the', 'results', '(', 'literally', 'that', 'day', '),', 'he', 'went', 'into', 'action', '.', 'He', 'explained', 'all', 'options', ',', 'I', 'mean', 'all', 'options', 'in', 'order', 'to', 'make', 'sure', 'that', 'I', 'felt', 'comfortable', 'with', 'the', 'decision', '.', 'His', 'staff', 'is', 'very', 'friendly', 'and', 'calls', 'you', 'back', 'when', 'they', 'say', 'they', 'are', 'going', 'too', '.', 'Many', 'offices', 'get', 'so', 'busy', 'that', 'they', 'forget', 'about', 'you', ',', 'not', 'this', 'office', '.', 'I', 'have', 'had', 'some', 'flair', 'ups', 'and', 'the', 'doctor', 'waited', 'for', 'me', 'to', 'make', 'sure', 'that', 'it', 'was', 'not', 'anything', 'worst', 'than', 'just', 'a', 'flair', 'up', '(', 'which', 'if', 'you', 'get', 'flair', 'ups', ',', 'you', 'know', 'how', 'painful', 'they', 'can', 'be', ').', 'My', 'husband', 'and', 'I', 'are', 'so', 'thankful', 'we', 'found', 'Dr', '.', 'Kokhab', 'and', 'I', 'would', 'recommend', 'this', 'office', 'to', 'everyone', 'and', 'anyone', 'that', 'needs', 'this', 'type', 'of', 'specalist', '.', 'Well', 'this', 'was', 'my', 'first', 'time', 'going', 'to', 'an', 'urgent', 'care', 'vs', 'going', 'to', 'an', 'emergency', 'room', '...', 'and', 'i', 'was', 'extremely', 'satisfied', '....', 'i', 'was', 'seen', 'in', 'an', 'timely', 'matter', 'and', 'the', 'janitors', 'was', 'constantly', 'wiping', 'the', 'chairs', 'and', 'sanitizing', 'them', 'she', 'also', 'walked', 'around', 'with', 'the', 'broom', 'sweeping', '..', 'the', 'front', 'desk', 'was', 'kind', ',', 'it', 'was', 'the', 'man', 'who', 'worked', 'the', 'front', 'desk', 'that', 'really', 'caught', 'my', 'eye', 'though', '...', 'it', 'was', 'late', 'and', 'closing', 'i', 'was', 'the', 'last', 'person', 'to', 'be', 'seen', ',', 'however', 'a', 'girl', 'walked', 'in', 'with', 'her', 'hand', 'bleeding', 'he', 'told', 'them', 'they', 'were', 'closed', 'at', 'first', 'but', 'to', 'hold', 'on', 'and', 'he', 'walked', 'to', 'the', 'back', 'told', 'the', 'dr', '.', 'And', 'came', 'back', 'and', 'said', 'he', 'did', 'not', 'feel', 'right', 'turning', 'them', 'away', '....', 'that', 'is', 'what', 'i', 'like', 'to', 'see', '...', 'Well', '5', 'stars', 'from', 'me', 'Dr', 'Marjan', 'Khaleghi', 'is', 'the', 'best', 'Rheumatologist', '.', 'She', 'is', 'so', 'compassionate', 'for', 'me', '.', 'I', 'can', 'call', 'and', 'get', 'in', 'to', 'see', 'her', 'within', 'hours', '.', 'When', 'my', 'pain', 'is', 'so', 'severe', 'she', 'totally', 'understands', 'it', '.', 'She', 'really', 'cares', 'about', 'you', '.', 'She', 'does', 'everything', 'right', 'then', 'and', 'there', 'before', 'you', 'leave', 'her', 'office', '.', 'She', 'makes', 'sure', 'to', 'help', 'your', 'pain', '.', 'I', 'have', 'never', 'had', 'a', 'doctor', 'get', 'you', 'in', 'so', 'fast', ',', 'she', 'will', 'even', 'skip', 'her', 'lunch', 'to', 'help', 'me', '.', 'I', 'recommend', 'her', 'highly', 'if', 'you', 'suffer', 'from', 'arthritis', '.', 'Met', 'with', 'Mary', ',', 'the', 'nurse', 'practitioner', ',', 'and', 'immediately', 'felt', 'at', 'ease', '.', 'She', 'was', 'so', 'calm', 'and', 'approachable', '.', 'She', 'took', 'the', 'time', 'to', 'do', 'a', 'proper', 'assessment', ',', 'get', 'a', 'detailed', 'history', 'from', 'me', ',', 'and', 'explain', 'all', 'my', 'labs', 'she', 'was', 'running', 'thoroughly', '.', 'At', 'the', 'follow', 'up', 'appointment', ',', 'she', 'again', 'explained', 'my', 'results', 'thoroughly', 'and', 'made', 'sure', 'I', 'did', 'not', 'have', 'any', 'questions', 'before', 'I', 'left', '.', 'You', 'can', 'tell', 'she', 'knows', 'this', 'specialty', 'well', ',', 'is', 'passionate', 'about', 'it', ',', 'and', 'has', 'a', 'wonderful', 'bedside', 'manner', '.!', 'Simply', 'the', 'best', '!', 'When', 'there', 'is', 'a', 'complicated', 'problem', 'He', 'knows', 'how', 'to', 'find', 'the', 'right', 'solutions', '.', 'Not', 'only', 'is', 'he', 'a', 'great', 'clinician', ',', 'he', 'really', 'goes', 'out', 'of', 'his', 'way', 'to', 'help', 'everyone', 'on', 'a', 'deeper', 'level', '.', 'If', 'he', 'has', 'food', 'in', 'the', 'back', 'office', 'he', 'will', 'give', 'it', 'to', 'his', 'patients', '.', 'He', 'treats', 'me', 'like', 'family', '.', 'Thank', 'you', 'Dr', 'K', 'First', 'time', 'ever', 'seeing', 'a', 'Rheumatologist', 'and', 'he', 'did', 'not', 'even', 'order', 'blood', 'work', 'or', 'X', '-', 'rays', '.', 'Sent', 'me', 'home', 'with', 'something', 'for', 'the', 'pain', 'that', 'once', 'I', 'got', 'it', 'home', 'read', ',', 'do', 'not', 'take', 'if', 'you', 'have', 'asthma', 'which', 'I', 'told', 'him', 'I', 'did', '.', 'He', 'told', 'me', 'to', 'take', 'it', 'anyway', ',', 'now', 'I', 'am', 'having', 'to', 'see', 'a', 'pulmonologist', '!', 'Terrible', 'doctor', '.', 'Went', 'to', 'check', 'out', 'Dr', '.', 'Morris', 'Kokhab', 'and', 'did', 'not', 'feel', 'right', '.', 'After', 'the', 'second', 'and', 'third', 'appointment', ',', 'I', 'realized', 'just', 'how', 'professional', 'and', 'caring', 'Dr', '.', 'Kokhab', 'treats', 'his', 'patients', '.', 'This', 'M', '.', 'D', '.', 'is', 'the', 'best', 'Rheumatologist', 'in', 'my', 'opinion', ',', 'that', 'I', 'have', 'ever', 'been', 'treated', 'by', '.', 'I', 'have', 'been', 'a', 'retired', 'Union', 'Ironworker', 'for', 'some', 'time', 'and', 'have', 'been', 'suffering', 'from', 'past', 'injuries', 'that', 'is', 'been', 'attacking', 'my', 'body', 'through', 'some', 'painful', 'and', 'difficult', 'forms', 'of', 'arthritis', '.', 'After', 'several', 'treatments', 'by', 'Dr', '.', 'Kokhab', ',', 'for', 'the', 'first', 'time', 'in', 'many', 'many', 'years', ',', 'I', 'felt', 'a', 'change', 'in', 'my', 'condition', '.', 'I', 'still', 'have', 'a', 'long', 'journey', 'ahead', ',', 'but', 'thanks', 'to', 'Dr', '.', 'Kokhab', 'the', 'genius', ',', 'I', 'actually', 'have', 'hope', '.', 'Thankyou', 'Dr', '.', 'Kokhab', 'for', 'your', 'professionalism', 'and', 'your', 'great', 'knowledge', '.', 'For', 'the', 'first', 'time', 'in', 'years', ',', 'I', 'see', 'the', 'light', '.', 'Dr', '.', 'Kokhab', 'is', 'an', 'awesome', 'doctor', 'he', 'does', 'not', 'rush', 'his', 'appointments', ',', 'takes', 'time', 'to', 'answer', 'all', 'of', 'your', 'questions', '.', 'Overall', 'a', 'very', 'nice', 'and', 'warm', 'person', '.', 'He', 'does', 'all', 'he', 'could', 'do', 'to', 'help', 'you', 'and', 'resolve', 'any', 'issue', 'you', 'may', 'have', '.', 'His', 'staff', 'is', 'great', '!', 'If', 'I', 'could', 'give', 'him', 'more', 'stars', 'i', 'would', '=)', 'I', 'found', 'Dr', '.', 'Kokhab', 'almost', '2', 'years', 'ago', 'after', 'moving', 'from', 'Chicago', '.', 'I', 'did', 'a', 'lot', 'of', 'research', 'and', 'his', 'reputation', 'was', 'excellent', '.', 'I', 'was', 'not', 'disappointed', '!', 'Dr', '.', 'Kokhab', 'is', 'compassionate', ',', 'knowledgeable', 'and', 'respectful', '.', 'He', 'will', 'develop', 'a', 'plan', 'of', 'action', 'and', 'never', 'make', 'you', 'feel', 'you', 'are', 'being', 'rushed', 'out', 'the', 'door', '.', 'His', 'staff', 'is', 'very', 'nice', 'and', 'professional', '.', 'There', 'are', '3', 'areas', 'upon', 'sign', 'in', '.', 'An', 'eye', 'specialist', ',', 'urgent', 'care', 'and', 'rheumatology', '.', 'So', 'it', 'appears', 'busy', 'upon', 'entering', 'but', 'wait', 'times', 'are', 'very', 'good', '.', 'Great', 'place', ',', 'really', 'good', 'doctor', '.', 'Actually', 'looks', 'at', 'you', 'when', 'you', 'talk', 'to', 'him', '.', 'Very', 'pleased', '.', 'My', 'husband', 'is', 'a', 'patient', 'of', 'Dr', '.', 'K', 'and', 'I', 'have', 'accompanied', 'him', 'on', 'a', 'couple', 'of', 'office', 'visits', '.', 'He', 'was', 'the', 'only', 'doctor', 'who', 'was', 'able', 'to', 'quickly', 'diagnose', 'my', 'husband', \"'\", 's', 'condition', 'after', 'countless', 'visits', 'to', 'our', 'PCP', ',', 'other', 'urgent', 'care', ',', 'and', 'the', 'ER', '.', 'After', 'beginning', 'treatment', 'the', 'doctor', 'called', 'our', 'home', 'to', 'check', 'how', 'my', 'husband', 'was', 'doing', '.', 'In', 'addition', 'to', 'being', 'a', 'great', 'doctor', ',', 'he', 'also', 'has', 'a', 'wonderful', 'staff', '.', 'The', 'staff', 'is', 'not', 'only', 'professional', ',', 'but', 'also', 'very', 'friendly', ',', 'and', 'helpful', '.', 'Everyone', 'at', 'this', 'office', 'truly', 'cares', 'about', 'the', 'patients', '.', 'I', 'saw', 'Dr', '.', 'Kokhab', 'twice', 'at', 'the', 'urgent', 'care', 'in', 'Upland', '.', 'I', 'have', 'had', 'Fibromyalgia', 'for', '23', 'years', 'now', 'and', 'I', 'had', 'just', 'quit', 'Norco', '10', '-', '325', 'cold', 'turkey', 'after', 'taking', '5', '-', '6', 'pills', 'a', 'day', 'for', '5', 'years', '.', 'Dr', 'Kokhab', 'helped', 'me', 'by', 'giving', 'me', 'a', 'non', 'addictive', 'medication', 'similar', 'to', 'Tylenol', 'and', 'told', 'me', 'to', 'make', 'an', 'appt', 'at', 'his', 'office', 'location', 'to', 'treat', 'my', 'Fibro', '.', 'He', 'seems', 'like', 'a', 'very', 'good', 'Dr', '.', 'and', 'took', 'his', 'time', 'twice', 'to', 'answer', 'my', 'questions', 'and', 'help', 'me', 'in', 'any', 'way', 'he', 'can', '.', 'I', 'will', 'update', 'you', 'with', 'more', 'info', 'after', 'I', 'see', 'him', 'tomorrow', 'at', 'his', 'office', '.', 'This', 'doctor', 'is', 'brilliant', ',', 'kind', 'and', 'thorough', '.', 'REALLY', 'felt', 'I', 'was', 'given', 'his', 'full', 'attention', ',', 'accurate', 'diagnosis', ',', 'treated', 'promptly', 'and', 'effectively', 'with', 'an', 'full', 'explanation', 'that', 'I', 'could', 'understand', '.', 'Kudos', 'to', 'you', 'Dr', '.', 'Kokhab', '!', 'And', ',', 'thank', 'you', 'for', 'the', 'excellent', 'care', '.', 'OMG', '!', 'This', 'Urgent', 'Care', 'is', 'great', '!', 'Since', 'I', 'could', 'not', 'be', 'seen', 'at', 'my', 'regular', 'Dr', \".'\", 's', 'office', ',', 'not', 'a', 'good', 'thing', 'especially', 'since', 'I', 'was', 'having', 'trouble', 'breathing', 'due', 'to', 'my', 'asthma', ',', 'I', 'looked', 'for', 'an', 'Urgent', 'Care', 'close', 'to', 'my', 'house', '.', 'I', 'read', 'the', 'reviews', 'for', 'this', 'location', 'and', 'they', 'were', 'all', 'good', '.', 'So', 'I', 'went', '.', 'This', 'place', 'is', 'so', 'nice', '.', 'Its', 'pretty', 'and', 'clean', ',', 'not', 'like', 'the', 'ones', 'that', 'look', 'like', 'a', 'workmans', 'comp', 'place', '.', 'I', 'think', 'I', 'was', 'there', 'for', 'almost', 'an', 'hour', ',', 'including', 'filling', 'out', 'paperwork', 'and', 'my', 'treatment', '.', 'Amanda', 'was', 'the', 'nurse', 'who', 'helped', 'me', ',', 'she', 'was', 'Very', 'nice', '.', 'I', 'recommend', 'this', 'place', 'to', 'anyone', 'who', 'wants', 'or', 'needs', 'help', 'right', 'away', '.', 'Thank', 'you', ',', 'jparedes']\n"
          ]
        }
      ]
    },
    {
      "cell_type": "code",
      "source": [
        "# Now it looks better\n",
        "token_text = nltk.text.Text(token_corpus)\n",
        "token_text.concordance('office')"
      ],
      "metadata": {
        "colab": {
          "base_uri": "https://localhost:8080/"
        },
        "id": "4cctxKbNexMa",
        "outputId": "7fd4736a-a66d-447e-8295-22978f83faaa"
      },
      "execution_count": null,
      "outputs": [
        {
          "output_type": "stream",
          "name": "stdout",
          "text": [
            "Displaying 25 of 34 matches:\n",
            "e staff , then definitely call this office . Phone etiquette is zero & the way\n",
            ". Good news and BAD news about this office . First , the office overcharged me\n",
            "ews about this office . First , the office overcharged me and my husband for o\n",
            "y phone calls to get refunded . The office staff , primarily Cece are the rude\n",
            "aff , primarily Cece are the rudest office personnel that I have ever come acr\n",
            " customer service you get from that office and Cece . Dr Schumann was fine . T\n",
            "ws is that because of that horrible office I found a fantastic Rheumatologist \n",
            "nd professional . Nothing like This office . Do not go there . Not only have t\n",
            "e are evil people ; do not use this office DO NOT COME HERE ! First of all I w\n",
            " lifting I decided to come into the office to see a rheumatologist as my PCP r\n",
            "d disrespectful ! Do not go to this office . They cancel my wife medication be\n",
            "y could not provide the name of the office manager who was on vacation or unav\n",
            "ays later . Would not recommend the office whatsoever ! I have been Dr . Najaf\n",
            "Great experience overall ! Cece the office manager is the most unprofessional \n",
            " * no contact whatsoever * from the office . I received a shirty comment about\n",
            "st it out . Stay away this horrible office . And try to get seem with a Doctor\n",
            "nning an urgent care and in the new office he has new personnel . I will be go\n",
            "isits with a Dr . Sadeghi from this office , very nice and knowledgable doctor\n",
            "n account of how inefficiently this office was run . It was a constant chase t\n",
            " , the PA , today . Everyone in the office was professional , kind , & even pe\n",
            "b results and after a thorough in - office examination Dr . K was able to diag\n",
            "end them both . I have gone to this office many times and wait for hours just \n",
            "r place to go . Do not come to this office as they will give you a shot that m\n",
            "tar service !!! Dr . Kokhab and his office are doing a great job treating me f\n",
            "ing me for fibromyalgia . His whole office is very polite and caring . They ex\n"
          ]
        }
      ]
    },
    {
      "cell_type": "code",
      "source": [
        "# what words appear with office in similar context? \n",
        "token_text.similar('office')"
      ],
      "metadata": {
        "colab": {
          "base_uri": "https://localhost:8080/"
        },
        "id": "93IWMORFzKmb",
        "outputId": "45016f7f-cf26-44df-aeeb-9b6fa061f81d"
      },
      "execution_count": null,
      "outputs": [
        {
          "output_type": "stream",
          "name": "stdout",
          "text": [
            "patients doctor as staff dr condition supposed right number pandemic\n",
            "chance place knowledge time circumstances wait janitors genius\n"
          ]
        }
      ]
    },
    {
      "cell_type": "code",
      "source": [
        "# common_contexts examines the contexts shared by 'pandemic' and 'office'\n",
        "token_text.common_contexts(['pandemic', 'office'])"
      ],
      "metadata": {
        "colab": {
          "base_uri": "https://localhost:8080/"
        },
        "id": "h-i_u5HxCet2",
        "outputId": "5f248db6-a11e-4788-e50b-6c56446b4f4d"
      },
      "execution_count": null,
      "outputs": [
        {
          "output_type": "stream",
          "name": "stdout",
          "text": [
            "the_i\n"
          ]
        }
      ]
    },
    {
      "cell_type": "code",
      "source": [
        "# display the position information of a word in the text:\n",
        "token_text.dispersion_plot(['pandemic', 'office'])"
      ],
      "metadata": {
        "colab": {
          "base_uri": "https://localhost:8080/",
          "height": 295
        },
        "id": "vfZifG2xEt5D",
        "outputId": "6675b36a-d4c1-4520-9b5d-47cc6ea0d943"
      },
      "execution_count": null,
      "outputs": [
        {
          "output_type": "display_data",
          "data": {
            "text/plain": [
              "<Figure size 432x288 with 1 Axes>"
            ],
            "image/png": "[encoded data removed]"
          },
          "metadata": {
            "needs_background": "light"
          }
        }
      ]
    },
    {
      "cell_type": "code",
      "source": [
        "# common_contexts examines the contexts shared by 'number' and 'office'\n",
        "token_text.common_contexts(['number', 'office'])"
      ],
      "metadata": {
        "colab": {
          "base_uri": "https://localhost:8080/"
        },
        "id": "ngt8que8DE_f",
        "outputId": "40807a79-0cf0-4061-a86b-68ea2acd7907"
      },
      "execution_count": null,
      "outputs": [
        {
          "output_type": "stream",
          "name": "stdout",
          "text": [
            "the_i\n"
          ]
        }
      ]
    },
    {
      "cell_type": "code",
      "source": [
        "# display the position information of a word in the text:\n",
        "nltk.text.Text(token_corpus).dispersion_plot(['number', 'office'])"
      ],
      "metadata": {
        "colab": {
          "base_uri": "https://localhost:8080/",
          "height": 295
        },
        "id": "Fekfd5L3E8U7",
        "outputId": "fdf4bbbb-c857-4130-f20f-0a0cc1f35017"
      },
      "execution_count": null,
      "outputs": [
        {
          "output_type": "display_data",
          "data": {
            "text/plain": [
              "<Figure size 432x288 with 1 Axes>"
            ],
            "image/png": "[encoded data removed]"
          },
          "metadata": {
            "needs_background": "light"
          }
        }
      ]
    },
    {
      "cell_type": "markdown",
      "source": [
        "# Step 6: Simple Text Statistics"
      ],
      "metadata": {
        "id": "jh1O_KlWzKwN"
      }
    },
    {
      "cell_type": "code",
      "source": [
        "# return total number of tokens in a text object before basic preprocessing\n",
        "print(len(token_corpus))\n",
        "# return total number of unique tokens\n",
        "print(len(set(token_corpus)))"
      ],
      "metadata": {
        "colab": {
          "base_uri": "https://localhost:8080/"
        },
        "id": "9VXhIo1ezPOS",
        "outputId": "26ec9803-3972-4d41-da18-e768a15d90d2"
      },
      "execution_count": null,
      "outputs": [
        {
          "output_type": "stream",
          "name": "stdout",
          "text": [
            "4817\n",
            "1104\n"
          ]
        }
      ]
    },
    {
      "cell_type": "code",
      "source": [
        "# return total number of tokens in a text object after basic preprocessing\n",
        "print(len(corpus))\n",
        "# return total number of unique tokens\n",
        "print(len(set(corpus)))"
      ],
      "metadata": {
        "colab": {
          "base_uri": "https://localhost:8080/"
        },
        "id": "EiTkAtyXzPsd",
        "outputId": "8376344c-a0c2-4735-f6ab-2349f066ae6e"
      },
      "execution_count": null,
      "outputs": [
        {
          "output_type": "stream",
          "name": "stdout",
          "text": [
            "1964\n",
            "857\n"
          ]
        }
      ]
    },
    {
      "cell_type": "code",
      "source": [
        "# lexical diversity is the total number of tokens over unique tokens\n",
        "def lexical_diversity(text):\n",
        "    \"\"\"\n",
        "    A measure of the lexical richness of the text\n",
        "    \"\"\"\n",
        "    return len(text)/len(set(text))"
      ],
      "metadata": {
        "id": "pKEK67K9zPu5"
      },
      "execution_count": null,
      "outputs": []
    },
    {
      "cell_type": "code",
      "source": [
        "# Test on the first review\n",
        "# calculate lexical diversity of reviews\n",
        "print(lexical_diversity(review_preprocess_list[0]))"
      ],
      "metadata": {
        "colab": {
          "base_uri": "https://localhost:8080/"
        },
        "id": "CUvLx_mzHyWP",
        "outputId": "662d050b-5894-40e3-ce40-88eb9d9f2a1f"
      },
      "execution_count": null,
      "outputs": [
        {
          "output_type": "stream",
          "name": "stdout",
          "text": [
            "1.1764705882352942\n"
          ]
        }
      ]
    },
    {
      "cell_type": "code",
      "source": [
        "# Calculate lexical diversity for first ten review\n",
        "lexical_diversity_table = []\n",
        "for i in range(10):\n",
        "  lexical_diversity_table.append([len(review_token_list[i]), len(review_preprocess_list[i]), lexical_diversity(review_preprocess_list[i])])\n",
        "print(*lexical_diversity_table, sep= '\\n')"
      ],
      "metadata": {
        "colab": {
          "base_uri": "https://localhost:8080/"
        },
        "id": "4X6UN7PnIM5C",
        "outputId": "528106d3-6f3f-4fd3-ba17-4c4263ed3cd2"
      },
      "execution_count": null,
      "outputs": [
        {
          "output_type": "stream",
          "name": "stdout",
          "text": [
            "[139, 60, 1.1764705882352942]\n",
            "[41, 20, 1.0526315789473684]\n",
            "[142, 64, 1.0847457627118644]\n",
            "[57, 20, 1.1111111111111112]\n",
            "[178, 79, 1.3389830508474576]\n",
            "[28, 8, 1.0]\n",
            "[109, 44, 1.0731707317073171]\n",
            "[100, 40, 1.0526315789473684]\n",
            "[151, 54, 1.3170731707317074]\n",
            "[51, 19, 1.0555555555555556]\n"
          ]
        }
      ]
    },
    {
      "cell_type": "code",
      "source": [
        "# use the df1 to show the result\n",
        "df1 = pd.DataFrame(lexical_diversity_table)\n",
        "df1.columns = ['Review Length', 'Cleaned Review Length', 'Lexical Diversity']\n",
        "df1"
      ],
      "metadata": {
        "colab": {
          "base_uri": "https://localhost:8080/",
          "height": 363
        },
        "id": "lH34EVqdLF8C",
        "outputId": "638fed9a-3182-49d8-a78f-83ca1b40a1bd"
      },
      "execution_count": null,
      "outputs": [
        {
          "output_type": "execute_result",
          "data": {
            "text/plain": [
              "   Review Length  Cleaned Review Length  Lexical Diversity\n",
              "0            139                     60           1.176471\n",
              "1             41                     20           1.052632\n",
              "2            142                     64           1.084746\n",
              "3             57                     20           1.111111\n",
              "4            178                     79           1.338983\n",
              "5             28                      8           1.000000\n",
              "6            109                     44           1.073171\n",
              "7            100                     40           1.052632\n",
              "8            151                     54           1.317073\n",
              "9             51                     19           1.055556"
            ],
            "text/html": [
              "\n",
              "  <div id=\"df-21dee3a2-716b-4e75-81d8-617aefc08afd\">\n",
              "    <div class=\"colab-df-container\">\n",
              "      <div>\n",
              "<style scoped>\n",
              "    .dataframe tbody tr th:only-of-type {\n",
              "        vertical-align: middle;\n",
              "    }\n",
              "\n",
              "    .dataframe tbody tr th {\n",
              "        vertical-align: top;\n",
              "    }\n",
              "\n",
              "    .dataframe thead th {\n",
              "        text-align: right;\n",
              "    }\n",
              "</style>\n",
              "<table border=\"1\" class=\"dataframe\">\n",
              "  <thead>\n",
              "    <tr style=\"text-align: right;\">\n",
              "      <th></th>\n",
              "      <th>Review Length</th>\n",
              "      <th>Cleaned Review Length</th>\n",
              "      <th>Lexical Diversity</th>\n",
              "    </tr>\n",
              "  </thead>\n",
              "  <tbody>\n",
              "    <tr>\n",
              "      <th>0</th>\n",
              "      <td>139</td>\n",
              "      <td>60</td>\n",
              "      <td>1.176471</td>\n",
              "    </tr>\n",
              "    <tr>\n",
              "      <th>1</th>\n",
              "      <td>41</td>\n",
              "      <td>20</td>\n",
              "      <td>1.052632</td>\n",
              "    </tr>\n",
              "    <tr>\n",
              "      <th>2</th>\n",
              "      <td>142</td>\n",
              "      <td>64</td>\n",
              "      <td>1.084746</td>\n",
              "    </tr>\n",
              "    <tr>\n",
              "      <th>3</th>\n",
              "      <td>57</td>\n",
              "      <td>20</td>\n",
              "      <td>1.111111</td>\n",
              "    </tr>\n",
              "    <tr>\n",
              "      <th>4</th>\n",
              "      <td>178</td>\n",
              "      <td>79</td>\n",
              "      <td>1.338983</td>\n",
              "    </tr>\n",
              "    <tr>\n",
              "      <th>5</th>\n",
              "      <td>28</td>\n",
              "      <td>8</td>\n",
              "      <td>1.000000</td>\n",
              "    </tr>\n",
              "    <tr>\n",
              "      <th>6</th>\n",
              "      <td>109</td>\n",
              "      <td>44</td>\n",
              "      <td>1.073171</td>\n",
              "    </tr>\n",
              "    <tr>\n",
              "      <th>7</th>\n",
              "      <td>100</td>\n",
              "      <td>40</td>\n",
              "      <td>1.052632</td>\n",
              "    </tr>\n",
              "    <tr>\n",
              "      <th>8</th>\n",
              "      <td>151</td>\n",
              "      <td>54</td>\n",
              "      <td>1.317073</td>\n",
              "    </tr>\n",
              "    <tr>\n",
              "      <th>9</th>\n",
              "      <td>51</td>\n",
              "      <td>19</td>\n",
              "      <td>1.055556</td>\n",
              "    </tr>\n",
              "  </tbody>\n",
              "</table>\n",
              "</div>\n",
              "      <button class=\"colab-df-convert\" onclick=\"convertToInteractive('df-21dee3a2-716b-4e75-81d8-617aefc08afd')\"\n",
              "              title=\"Convert this dataframe to an interactive table.\"\n",
              "              style=\"display:none;\">\n",
              "        \n",
              "  <svg xmlns=\"http://www.w3.org/2000/svg\" height=\"24px\"viewBox=\"0 0 24 24\"\n",
              "       width=\"24px\">\n",
              "    <path d=\"M0 0h24v24H0V0z\" fill=\"none\"/>\n",
              "    <path d=\"M18.56 5.44l.94 2.06.94-2.06 2.06-.94-2.06-.94-.94-2.06-.94 2.06-2.06.94zm-11 1L8.5 8.5l.94-2.06 2.06-.94-2.06-.94L8.5 2.5l-.94 2.06-2.06.94zm10 10l.94 2.06.94-2.06 2.06-.94-2.06-.94-.94-2.06-.94 2.06-2.06.94z\"/><path d=\"M17.41 7.96l-1.37-1.37c-.4-.4-.92-.59-1.43-.59-.52 0-1.04.2-1.43.59L10.3 9.45l-7.72 7.72c-.78.78-.78 2.05 0 2.83L4 21.41c.39.39.9.59 1.41.59.51 0 1.02-.2 1.41-.59l7.78-7.78 2.81-2.81c.8-.78.8-2.07 0-2.86zM5.41 20L4 18.59l7.72-7.72 1.47 1.35L5.41 20z\"/>\n",
              "  </svg>\n",
              "      </button>\n",
              "      \n",
              "  <style>\n",
              "    .colab-df-container {\n",
              "      display:flex;\n",
              "      flex-wrap:wrap;\n",
              "      gap: 12px;\n",
              "    }\n",
              "\n",
              "    .colab-df-convert {\n",
              "      background-color: #E8F0FE;\n",
              "      border: none;\n",
              "      border-radius: 50%;\n",
              "      cursor: pointer;\n",
              "      display: none;\n",
              "      fill: #1967D2;\n",
              "      height: 32px;\n",
              "      padding: 0 0 0 0;\n",
              "      width: 32px;\n",
              "    }\n",
              "\n",
              "    .colab-df-convert:hover {\n",
              "      background-color: #E2EBFA;\n",
              "      box-shadow: 0px 1px 2px rgba(60, 64, 67, 0.3), 0px 1px 3px 1px rgba(60, 64, 67, 0.15);\n",
              "      fill: #174EA6;\n",
              "    }\n",
              "\n",
              "    [theme=dark] .colab-df-convert {\n",
              "      background-color: #3B4455;\n",
              "      fill: #D2E3FC;\n",
              "    }\n",
              "\n",
              "    [theme=dark] .colab-df-convert:hover {\n",
              "      background-color: #434B5C;\n",
              "      box-shadow: 0px 1px 3px 1px rgba(0, 0, 0, 0.15);\n",
              "      filter: drop-shadow(0px 1px 2px rgba(0, 0, 0, 0.3));\n",
              "      fill: #FFFFFF;\n",
              "    }\n",
              "  </style>\n",
              "\n",
              "      <script>\n",
              "        const buttonEl =\n",
              "          document.querySelector('#df-21dee3a2-716b-4e75-81d8-617aefc08afd button.colab-df-convert');\n",
              "        buttonEl.style.display =\n",
              "          google.colab.kernel.accessAllowed ? 'block' : 'none';\n",
              "\n",
              "        async function convertToInteractive(key) {\n",
              "          const element = document.querySelector('#df-21dee3a2-716b-4e75-81d8-617aefc08afd');\n",
              "          const dataTable =\n",
              "            await google.colab.kernel.invokeFunction('convertToInteractive',\n",
              "                                                     [key], {});\n",
              "          if (!dataTable) return;\n",
              "\n",
              "          const docLinkHtml = 'Like what you see? Visit the ' +\n",
              "            '<a target=\"_blank\" href=https://colab.research.google.com/notebooks/data_table.ipynb>data table notebook</a>'\n",
              "            + ' to learn more about interactive tables.';\n",
              "          element.innerHTML = '';\n",
              "          dataTable['output_type'] = 'display_data';\n",
              "          await google.colab.output.renderOutput(dataTable, element);\n",
              "          const docLink = document.createElement('div');\n",
              "          docLink.innerHTML = docLinkHtml;\n",
              "          element.appendChild(docLink);\n",
              "        }\n",
              "      </script>\n",
              "    </div>\n",
              "  </div>\n",
              "  "
            ]
          },
          "metadata": {},
          "execution_count": 103
        }
      ]
    },
    {
      "cell_type": "markdown",
      "source": [
        "# Step 7: Frequency Distribution Plot"
      ],
      "metadata": {
        "id": "RT-F-k0EzQNd"
      }
    },
    {
      "cell_type": "code",
      "source": [
        "# first, we need sort the items based on the count\n",
        "fdist_reviews_list = sorted(fdist_reviews.items(), key=lambda x:x[1], reverse= True)\n",
        "# Then, we create a dictionary with the first 20 items\n",
        "top20_tokens = dict(fdist_reviews_list[:20])\n",
        "# print the top 20 tokens and their count\n",
        "for k in top20_tokens:\n",
        "  print (k, top20_tokens [k])"
      ],
      "metadata": {
        "colab": {
          "base_uri": "https://localhost:8080/"
        },
        "id": "f-1cSNsuzV8F",
        "outputId": "ec3cda98-1ad3-4e93-bb93-0b19b7a46026"
      },
      "execution_count": null,
      "outputs": [
        {
          "output_type": "stream",
          "name": "stdout",
          "text": [
            "office 34\n",
            "kokhab 24\n",
            "get 23\n",
            "doctor 22\n",
            "time 21\n",
            "would 18\n",
            "staff 15\n",
            "pain 13\n",
            "seen 12\n",
            "mary 12\n",
            "appointment 12\n",
            "back 12\n",
            "help 11\n",
            "first 11\n",
            "great 11\n",
            "even 11\n",
            "like 10\n",
            "see 10\n",
            "could 10\n",
            "care 10\n"
          ]
        }
      ]
    },
    {
      "cell_type": "code",
      "source": [
        "# draw the frequency distribution plot\n",
        "fdist_reviews.plot(20, cumulative=True)"
      ],
      "metadata": {
        "colab": {
          "base_uri": "https://localhost:8080/",
          "height": 351
        },
        "id": "XdVFeeW-wfDf",
        "outputId": "3d6c6d84-7892-421a-bc0a-3b306203b099"
      },
      "execution_count": null,
      "outputs": [
        {
          "output_type": "display_data",
          "data": {
            "text/plain": [
              "<Figure size 432x288 with 1 Axes>"
            ],
            "image/png": "[encoded data removed]"
          },
          "metadata": {
            "needs_background": "light"
          }
        },
        {
          "output_type": "execute_result",
          "data": {
            "text/plain": [
              "<matplotlib.axes._subplots.AxesSubplot at 0x7f1bde3bb7d0>"
            ]
          },
          "metadata": {},
          "execution_count": 43
        }
      ]
    },
    {
      "cell_type": "code",
      "source": [],
      "metadata": {
        "id": "PzxElByvwpky"
      },
      "execution_count": null,
      "outputs": []
    }
  ]
}