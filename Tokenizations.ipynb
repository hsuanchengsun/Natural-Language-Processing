{
  "nbformat": 4,
  "nbformat_minor": 0,
  "metadata": {
    "colab": {
      "provenance": [],
      "authorship_tag": "ABX9TyPzyeJbSCEEINK71Yi83nX2",
      "include_colab_link": true
    },
    "kernelspec": {
      "name": "python3",
      "display_name": "Python 3"
    }
  },
  "cells": [
    {
      "cell_type": "markdown",
      "metadata": {
        "id": "view-in-github",
        "colab_type": "text"
      },
      "source": [
        "<a href=\"https://colab.research.google.com/github/hsuanchengsun/Natural-Language-Processing/blob/main/Tokenizations.ipynb\" target=\"_parent\"><img src=\"https://colab.research.google.com/assets/colab-badge.svg\" alt=\"Open In Colab\"/></a>"
      ]
    },
    {
      "cell_type": "code",
      "metadata": {
        "id": "0SvhGPqJdAwN",
        "colab": {
          "base_uri": "https://localhost:8080/"
        },
        "outputId": "32dd322a-610f-4719-85a5-b90097e90d25"
      },
      "source": [
        "# download nltk\n",
        "!pip install nltk\n",
        "import nltk"
      ],
      "execution_count": null,
      "outputs": [
        {
          "output_type": "stream",
          "name": "stdout",
          "text": [
            "Looking in indexes: https://pypi.org/simple, https://us-python.pkg.dev/colab-wheels/public/simple/\n",
            "Requirement already satisfied: nltk in /usr/local/lib/python3.7/dist-packages (3.7)\n",
            "Requirement already satisfied: joblib in /usr/local/lib/python3.7/dist-packages (from nltk) (1.1.0)\n",
            "Requirement already satisfied: click in /usr/local/lib/python3.7/dist-packages (from nltk) (7.1.2)\n",
            "Requirement already satisfied: regex>=2021.8.3 in /usr/local/lib/python3.7/dist-packages (from nltk) (2022.6.2)\n",
            "Requirement already satisfied: tqdm in /usr/local/lib/python3.7/dist-packages (from nltk) (4.64.1)\n"
          ]
        }
      ]
    },
    {
      "cell_type": "code",
      "metadata": {
        "id": "Z_flbvvSdDsO",
        "colab": {
          "base_uri": "https://localhost:8080/"
        },
        "outputId": "bca7de6e-e02f-439e-ff6c-6eebfd41227f"
      },
      "source": [
        "# sample sentence\n",
        "s = '''Pour over coffee cost $3.75 in Wall Writers Coffee (https://wallwriterscoffee.com/).'''\n",
        "print(s)"
      ],
      "execution_count": null,
      "outputs": [
        {
          "output_type": "stream",
          "name": "stdout",
          "text": [
            "Pour over coffee cost $3.75 in Wall Writers Coffee (https://wallwriterscoffee.com/).\n"
          ]
        }
      ]
    },
    {
      "cell_type": "code",
      "metadata": {
        "id": "2swcrRRsdVES",
        "colab": {
          "base_uri": "https://localhost:8080/"
        },
        "outputId": "30156cf7-45c3-4f1b-e0b1-f14560576a2d"
      },
      "source": [
        "# TreeBank tokenizer by NLTK\n",
        "# https://github.com/nltk/nltk/blob/develop/nltk/tokenize/treebank.py\n",
        "from nltk.tokenize import TreebankWordTokenizer\n",
        "TB = TreebankWordTokenizer().tokenize(s)\n",
        "print(TB)"
      ],
      "execution_count": null,
      "outputs": [
        {
          "output_type": "stream",
          "name": "stdout",
          "text": [
            "['Pour', 'over', 'coffee', 'cost', '$', '3.75', 'in', 'Wall', 'Writers', 'Coffee', '(', 'https', ':', '//wallwriterscoffee.com/', ')', '.']\n"
          ]
        }
      ]
    },
    {
      "cell_type": "code",
      "source": [
        "# download Moses tokenizer\n",
        "# https://pypi.org/project/mosestokenizer/\n",
        "!pip install mosestokenizer"
      ],
      "metadata": {
        "colab": {
          "base_uri": "https://localhost:8080/"
        },
        "id": "LdyqtenGmDoF",
        "outputId": "88028ca0-44df-457a-b9a3-1ff16f79c1b3"
      },
      "execution_count": null,
      "outputs": [
        {
          "output_type": "stream",
          "name": "stdout",
          "text": [
            "Looking in indexes: https://pypi.org/simple, https://us-python.pkg.dev/colab-wheels/public/simple/\n",
            "Collecting mosestokenizer\n",
            "  Downloading mosestokenizer-1.2.1.tar.gz (37 kB)\n",
            "Collecting docopt\n",
            "  Downloading docopt-0.6.2.tar.gz (25 kB)\n",
            "Collecting openfile\n",
            "  Downloading openfile-0.0.7-py3-none-any.whl (2.4 kB)\n",
            "Collecting uctools\n",
            "  Downloading uctools-1.3.0.tar.gz (4.6 kB)\n",
            "Collecting toolwrapper\n",
            "  Downloading toolwrapper-2.1.0.tar.gz (3.2 kB)\n",
            "Building wheels for collected packages: mosestokenizer, docopt, toolwrapper, uctools\n",
            "  Building wheel for mosestokenizer (setup.py) ... \u001b[?25l\u001b[?25hdone\n",
            "  Created wheel for mosestokenizer: filename=mosestokenizer-1.2.1-py3-none-any.whl size=49189 sha256=c3fefecdcfc61de44775417d58e04484f79826117c6443cdbd3722fac017b535\n",
            "  Stored in directory: /root/.cache/pip/wheels/b0/35/f7/af1258779a0b890abc3c79481460c597cb1f3659d0603cfb9d\n",
            "  Building wheel for docopt (setup.py) ... \u001b[?25l\u001b[?25hdone\n",
            "  Created wheel for docopt: filename=docopt-0.6.2-py2.py3-none-any.whl size=13723 sha256=cd92507a1068ac64f9e431478b67790f38acb41f217685d6047506ba4a74473f\n",
            "  Stored in directory: /root/.cache/pip/wheels/72/b0/3f/1d95f96ff986c7dfffe46ce2be4062f38ebd04b506c77c81b9\n",
            "  Building wheel for toolwrapper (setup.py) ... \u001b[?25l\u001b[?25hdone\n",
            "  Created wheel for toolwrapper: filename=toolwrapper-2.1.0-py3-none-any.whl size=3353 sha256=dc8e245496847599fa76d4cac2f8ca2a5558a3d378f452dc7ac137cc0ba0b609\n",
            "  Stored in directory: /root/.cache/pip/wheels/c5/4f/33/54741ffe08e38ececb1d28068a153729b4fe820bafa0a0691f\n",
            "  Building wheel for uctools (setup.py) ... \u001b[?25l\u001b[?25hdone\n",
            "  Created wheel for uctools: filename=uctools-1.3.0-py3-none-any.whl size=6161 sha256=6cbd19252e624bc35a76c180c16b385fb965061ef254d713e1113be5e99e57cd\n",
            "  Stored in directory: /root/.cache/pip/wheels/fb/44/e9/914cf8fa71f0141f9314f862538d1218fcf2b94542a0fb7d35\n",
            "Successfully built mosestokenizer docopt toolwrapper uctools\n",
            "Installing collected packages: uctools, toolwrapper, openfile, docopt, mosestokenizer\n",
            "Successfully installed docopt-0.6.2 mosestokenizer-1.2.1 openfile-0.0.7 toolwrapper-2.1.0 uctools-1.3.0\n"
          ]
        }
      ]
    },
    {
      "cell_type": "code",
      "metadata": {
        "id": "QoqubnQfd1DG"
      },
      "source": [
        "# import Moses\n",
        "from mosestokenizer import *\n",
        "tokenize = MosesTokenizer('en')"
      ],
      "execution_count": null,
      "outputs": []
    },
    {
      "cell_type": "code",
      "metadata": {
        "id": "3NNS2a4zd9Bw",
        "colab": {
          "base_uri": "https://localhost:8080/"
        },
        "outputId": "ffb6ef26-b1dc-4a39-c887-f431f4beb630"
      },
      "source": [
        "# tokenzie with Moses\n",
        "print(tokenize('Pour over coffee cost $3.75 in Wall Writers Coffee (https://wallwriterscoffee.com/).'))"
      ],
      "execution_count": null,
      "outputs": [
        {
          "output_type": "stream",
          "name": "stdout",
          "text": [
            "['Pour', 'over', 'coffee', 'cost', '$', '3.75', 'in', 'Wall', 'Writers', 'Coffee', '(', 'https', ':', '/', '/', 'wallwriterscoffee.com', '/', ')', '.']\n"
          ]
        }
      ]
    },
    {
      "cell_type": "code",
      "metadata": {
        "id": "NATF3IGReuw_"
      },
      "source": [
        "# close tokenize\n",
        "tokenize.close()"
      ],
      "execution_count": null,
      "outputs": []
    },
    {
      "cell_type": "code",
      "source": [
        "# download Sentencepiece\n",
        "# https://pypi.org/project/sentencepiece/\n",
        "!pip install sentencepiece\n",
        "!wget https://raw.githubusercontent.com/google/sentencepiece/master/data/botchan.txt"
      ],
      "metadata": {
        "colab": {
          "base_uri": "https://localhost:8080/"
        },
        "id": "sgS8ivWrovp8",
        "outputId": "200b0e5a-85c7-4fa3-959f-471f476e7f04"
      },
      "execution_count": null,
      "outputs": [
        {
          "output_type": "stream",
          "name": "stdout",
          "text": [
            "Looking in indexes: https://pypi.org/simple, https://us-python.pkg.dev/colab-wheels/public/simple/\n",
            "Requirement already satisfied: sentencepiece in /usr/local/lib/python3.7/dist-packages (0.1.97)\n",
            "--2022-09-16 18:53:39--  https://raw.githubusercontent.com/google/sentencepiece/master/data/botchan.txt\n",
            "Resolving raw.githubusercontent.com (raw.githubusercontent.com)... 185.199.108.133, 185.199.109.133, 185.199.110.133, ...\n",
            "Connecting to raw.githubusercontent.com (raw.githubusercontent.com)|185.199.108.133|:443... connected.\n",
            "HTTP request sent, awaiting response... 200 OK\n",
            "Length: 278779 (272K) [text/plain]\n",
            "Saving to: ‘botchan.txt’\n",
            "\n",
            "botchan.txt         100%[===================>] 272.25K  --.-KB/s    in 0.003s  \n",
            "\n",
            "2022-09-16 18:53:39 (81.8 MB/s) - ‘botchan.txt’ saved [278779/278779]\n",
            "\n"
          ]
        }
      ]
    },
    {
      "cell_type": "code",
      "source": [
        "# import sentencepiece\n",
        "import sentencepiece as spm\n",
        "# simply trai model\n",
        "spm.SentencePieceTrainer.train('--input=botchan.txt --model_prefix=m --vocab_size=2000')\n",
        "# use the model\n",
        "sp = spm.SentencePieceProcessor()\n",
        "sp.load('m.model')"
      ],
      "metadata": {
        "colab": {
          "base_uri": "https://localhost:8080/"
        },
        "id": "3tiAczUcpSOo",
        "outputId": "43ff3ce0-b5a8-43b9-cd10-5412d25d677a"
      },
      "execution_count": null,
      "outputs": [
        {
          "output_type": "execute_result",
          "data": {
            "text/plain": [
              "True"
            ]
          },
          "metadata": {},
          "execution_count": 32
        }
      ]
    },
    {
      "cell_type": "code",
      "source": [
        "# sentencepiece tokenization\n",
        "print(sp.encode_as_pieces(s))"
      ],
      "metadata": {
        "colab": {
          "base_uri": "https://localhost:8080/"
        },
        "id": "JifWUHA5pqqW",
        "outputId": "619a51d7-b20b-4a38-e8b5-0968783df329"
      },
      "execution_count": null,
      "outputs": [
        {
          "output_type": "stream",
          "name": "stdout",
          "text": [
            "['▁P', 'o', 'ur', '▁over', '▁co', 'f', 'f', 'e', 'e', '▁cost', '▁', '$3', '.', '7', '5', '▁in', '▁W', 'a', 'll', '▁W', 'ri', 'ter', 's', '▁C', 'o', 'f', 'f', 'e', 'e', '▁(', 'h', 't', 't', 'p', 's', ':', '//', 'w', 'a', 'll', 'w', 'ri', 'ter', 's', 'c', 'o', 'f', 'f', 'e', 'e', '.', 'c', 'o', 'm', '/', ')', '.']\n"
          ]
        }
      ]
    },
    {
      "cell_type": "code",
      "source": [
        "# download OpenNMT\n",
        "# https://pypi.org/project/pyonmttok/\n",
        "!pip install pyonmttok"
      ],
      "metadata": {
        "colab": {
          "base_uri": "https://localhost:8080/"
        },
        "id": "yRowVKS5qUdS",
        "outputId": "6e61503a-a176-42b2-f1dd-f7a1000f3ec6"
      },
      "execution_count": null,
      "outputs": [
        {
          "output_type": "stream",
          "name": "stdout",
          "text": [
            "Looking in indexes: https://pypi.org/simple, https://us-python.pkg.dev/colab-wheels/public/simple/\n",
            "Collecting pyonmttok\n",
            "  Downloading pyonmttok-1.34.0-cp37-cp37m-manylinux_2_17_x86_64.manylinux2014_x86_64.whl (16.9 MB)\n",
            "\u001b[K     |████████████████████████████████| 16.9 MB 18.1 MB/s \n",
            "\u001b[?25hInstalling collected packages: pyonmttok\n",
            "Successfully installed pyonmttok-1.34.0\n"
          ]
        }
      ]
    },
    {
      "cell_type": "code",
      "source": [
        "# import OpenNMT\n",
        "import pyonmttok\n",
        "# conservative: standard OpenNMT tokenization\n",
        "tokenizer = pyonmttok.Tokenizer(\"conservative\")\n",
        "# Tokenization\n",
        "tokens = tokenizer(s)\n",
        "print(tokens)"
      ],
      "metadata": {
        "colab": {
          "base_uri": "https://localhost:8080/"
        },
        "id": "1ywTil8RsyHg",
        "outputId": "b7227044-4df1-4146-8c7d-3a23e5417de3"
      },
      "execution_count": null,
      "outputs": [
        {
          "output_type": "stream",
          "name": "stdout",
          "text": [
            "['Pour', 'over', 'coffee', 'cost', '$', '3.75', 'in', 'Wall', 'Writers', 'Coffee', '(', 'https', ':', '/', '/', 'wallwriterscoffee.com', '/', ')', '.']\n"
          ]
        }
      ]
    },
    {
      "cell_type": "code",
      "source": [],
      "metadata": {
        "id": "vLm-904Atfq8"
      },
      "execution_count": null,
      "outputs": []
    }
  ]
}